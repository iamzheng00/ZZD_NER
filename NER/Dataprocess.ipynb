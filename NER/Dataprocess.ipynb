{
 "cells": [
  {
   "cell_type": "code",
   "execution_count": 23,
   "outputs": [
    {
     "name": "stdout",
     "output_type": "stream",
     "text": [
      "{'/pbei', '/nnt', '/pba', '/rys', '/ryv', '/nrf', '/nit', '/usuo', '/udeng', '/uguo', '/uzhi', '/nsf', '/nth', '/nis', '/nhd', '/ule', '/ntc', '/ulian', '/ude', '/ntu', '/uls', '/uzhe', '/vshi', '/nto', '/rzs', '/uyy', '/rzv', '/nrj', '/nnd', '/nmc', '/vyou'}\n",
      "done! <-- ../DataSets/2014人民日报/1文本100篇/1.txt\n",
      "{'/pbei', '/pba', '/nnt', '/rys', '/ryv', '/nrf', '/nit', '/usuo', '/ntcb', '/udeng', '/uzhi', '/uguo', '/ryt', '/udh', '/nsf', '/nis', '/nhd', '/ule', '/nts', '/ntc', '/ulian', '/ude', '/ntu', '/uls', '/uzhe', '/vshi', '/nto', '/rzs', '/uyy', '/rzv', '/nrj', '/nnd', '/rzt', '/nmc', '/vyou'}\n",
      "done! <-- ../DataSets/2014人民日报/1文本100篇/10.txt\n",
      "{'/pbei', '/pba', '/nnt', '/rys', '/ryv', '/nrf', '/nit', '/usuo', '/ntcb', '/uguo', '/uzhi', '/udeng', '/ryt', '/udh', '/nsf', '/nth', '/nis', '/nhd', '/ule', '/ntc', '/ulian', '/ude', '/ntu', '/uls', '/vshi', '/uzhe', '/nto', '/rzs', '/uyy', '/rzv', '/nrj', '/nnd', '/rzt', '/nhm', '/vyou'}\n",
      "done! <-- ../DataSets/2014人民日报/1文本100篇/100.txt\n",
      "{'/pbei', '/nnt', '/pba', '/rys', '/ryv', '/nrf', '/nit', '/usuo', '/ntcb', '/uzhi', '/udeng', '/uguo', '/ryt', '/udh', '/nsf', '/nth', '/nis', '/nhd', '/ule', '/nts', '/ntc', '/ulian', '/ude', '/ntu', '/uls', '/ntch', '/vshi', '/uzhe', '/nto', '/rzs', '/uyy', '/nrj', '/rzv', '/nnd', '/rzt', '/nmc', '/vyou'}\n",
      "done! <-- ../DataSets/2014人民日报/1文本100篇/101.txt\n",
      "{'/pbei', '/nnt', '/pba', '/rys', '/ryv', '/nrf', '/nit', '/usuo', '/ntcb', '/udeng', '/uguo', '/ryt', '/uzhi', '/udh', '/nsf', '/nth', '/nis', '/nhd', '/ule', '/nts', '/ntc', '/ulian', '/ude', '/ntu', '/uls', '/ntch', '/vshi', '/uzhe', '/nto', '/rzs', '/uyy', '/rzv', '/nrj', '/nnd', '/rzt', '/vyou'}\n",
      "done! <-- ../DataSets/2014人民日报/1文本100篇/102.txt\n",
      "{'/pbei', '/nnt', '/pba', '/nba', '/rys', '/ryv', '/nrf', '/nit', '/usuo', '/ntcb', '/udeng', '/uguo', '/uzhi', '/ryt', '/udh', '/nsf', '/nth', '/nis', '/nhd', '/ule', '/ntc', '/ulian', '/ude', '/ntu', '/uls', '/uzhe', '/vshi', '/nto', '/rzs', '/uyy', '/rzv', '/nrj', '/nnd', '/rzt', '/nmc', '/nhm', '/vyou'}\n",
      "done! <-- ../DataSets/2014人民日报/1文本100篇/103.txt\n",
      "{'/pbei', '/nnt', '/pba', '/nba', '/rys', '/ryv', '/nrf', '/nit', '/usuo', '/ntcb', '/udeng', '/uguo', '/uzhi', '/ryt', '/udh', '/nsf', '/nth', '/nis', '/nhd', '/ule', '/nts', '/ntc', '/ulian', '/ude', '/ntu', '/uls', '/ntch', '/uzhe', '/vshi', '/nto', '/rzs', '/uyy', '/rzv', '/nrj', '/nnd', '/rzt', '/nhm', '/vyou'}\n",
      "done! <-- ../DataSets/2014人民日报/1文本100篇/104.txt\n",
      "{'/pbei', '/pba', '/nnt', '/rys', '/ryv', '/nrf', '/usuo', '/udeng', '/uguo', '/uzhi', '/ryt', '/udh', '/nsf', '/nth', '/nis', '/nhd', '/ule', '/ntc', '/ulian', '/ude', '/ntu', '/uls', '/uzhe', '/vshi', '/nto', '/rzs', '/uyy', '/rzv', '/nrj', '/nnd', '/rzt', '/nmc', '/vyou'}\n",
      "done! <-- ../DataSets/2014人民日报/1文本100篇/105.txt\n",
      "{'/pbei', '/pba', '/nnt', '/rys', '/ryv', '/nrf', '/usuo', '/udeng', '/uzhi', '/uguo', '/ryt', '/udh', '/nsf', '/nth', '/nis', '/nhd', '/ule', '/ntc', '/ulian', '/ude', '/ntu', '/uls', '/uzhe', '/vshi', '/nto', '/rzs', '/uyy', '/rzv', '/nrj', '/nnd', '/rzt', '/nmc', '/vyou'}\n",
      "done! <-- ../DataSets/2014人民日报/1文本100篇/106.txt\n",
      "{'/pbei', '/nnt', '/pba', '/nba', '/rys', '/ryv', '/nrf', '/nit', '/usuo', '/udeng', '/uzhi', '/uguo', '/ryt', '/udh', '/nsf', '/nth', '/nis', '/nhd', '/ule', '/nts', '/ntc', '/ulian', '/ude', '/ntu', '/uls', '/ntch', '/vshi', '/uzhe', '/nto', '/rzs', '/uyy', '/rzv', '/nrj', '/nnd', '/rzt', '/nmc', '/vyou'}\n",
      "done! <-- ../DataSets/2014人民日报/1文本100篇/107.txt\n",
      "{'/pbei', '/nnt', '/pba', '/rys', '/nba', '/ryv', '/nrf', '/nit', '/usuo', '/uzhi', '/udeng', '/ryt', '/uguo', '/udh', '/nsf', '/nth', '/nis', '/nhd', '/ule', '/ntcf', '/ntc', '/ulian', '/ude', '/ntu', '/ntch', '/uls', '/uzhe', '/vshi', '/nto', '/rzs', '/uyy', '/rzv', '/nrj', '/nnd', '/rzt', '/nmc', '/nhm', '/vyou'}\n",
      "done! <-- ../DataSets/2014人民日报/1文本100篇/108.txt\n",
      "{'/pbei', '/nnt', '/pba', '/rys', '/ryv', '/nrf', '/nit', '/usuo', '/uzhi', '/udeng', '/uguo', '/ryt', '/nsf', '/nth', '/nis', '/nhd', '/ule', '/ntc', '/ulian', '/ude', '/ntu', '/uls', '/uzhe', '/vshi', '/nto', '/rzs', '/uyy', '/rzv', '/nrj', '/nnd', '/rzt', '/nmc', '/nhm', '/vyou'}\n",
      "done! <-- ../DataSets/2014人民日报/1文本100篇/109.txt\n",
      "{'/pbei', '/nnt', '/pba', '/ryv', '/nrf', '/nit', '/usuo', '/udeng', '/uguo', '/uzhi', '/udh', '/nsf', '/nth', '/nis', '/nhd', '/ule', '/ntc', '/ulian', '/ude', '/ntu', '/uls', '/uzhe', '/vshi', '/nto', '/rzs', '/uyy', '/rzv', '/nrj', '/nnd', '/rzt', '/vyou'}\n",
      "done! <-- ../DataSets/2014人民日报/1文本100篇/11.txt\n",
      "{'/pbei', '/nnt', '/pba', '/rys', '/ryv', '/nrf', '/nit', '/usuo', '/ntcb', '/udeng', '/uguo', '/uzhi', '/ryt', '/udh', '/nsf', '/nth', '/nis', '/nhd', '/ule', '/nts', '/ntc', '/ulian', '/ude', '/ntu', '/ntch', '/uls', '/uzhe', '/vshi', '/nto', '/rzs', '/uyy', '/rzv', '/nnd', '/rzt', '/nhm', '/vyou'}\n",
      "done! <-- ../DataSets/2014人民日报/1文本100篇/110.txt\n",
      "{'/pbei', '/nnt', '/pba', '/rys', '/ryv', '/nrf', '/nit', '/usuo', '/ntcb', '/uzhi', '/udeng', '/uguo', '/udh', '/nsf', '/nth', '/nis', '/nhd', '/ule', '/ntcf', '/ntc', '/ulian', '/ude', '/ntu', '/uls', '/uzhe', '/vshi', '/nto', '/rzs', '/uyy', '/rzv', '/nrj', '/nnd', '/rzt', '/vyou'}\n",
      "done! <-- ../DataSets/2014人民日报/1文本100篇/111.txt\n",
      "{'/pbei', '/nnt', '/pba', '/rys', '/ryv', '/nrf', '/nit', '/usuo', '/uguo', '/udeng', '/ryt', '/uzhi', '/udh', '/nsf', '/nth', '/nis', '/nhd', '/ule', '/nts', '/ntcf', '/ntc', '/ulian', '/ude', '/ntu', '/uls', '/ntch', '/uzhe', '/vshi', '/nto', '/rzs', '/uyy', '/rzv', '/nrj', '/nnd', '/rzt', '/nmc', '/nhm', '/vyou'}\n",
      "done! <-- ../DataSets/2014人民日报/1文本100篇/112.txt\n",
      "{'/pbei', '/nnt', '/pba', '/ryv', '/nrf', '/usuo', '/ntcb', '/uguo', '/udeng', '/uzhi', '/ryt', '/udh', '/nsf', '/nth', '/nis', '/nhd', '/ule', '/nts', '/ntc', '/ulian', '/ude', '/ntu', '/uls', '/uzhe', '/vshi', '/nto', '/rzs', '/uyy', '/rzv', '/nnd', '/rzt', '/nmc', '/vyou'}\n",
      "done! <-- ../DataSets/2014人民日报/1文本100篇/113.txt\n",
      "{'/pbei', '/nnt', '/pba', '/rys', '/ryv', '/nrf', '/nit', '/usuo', '/ntcb', '/uguo', '/udeng', '/uzhi', '/ryt', '/udh', '/nsf', '/nth', '/nis', '/nhd', '/ule', '/nts', '/ntc', '/ulian', '/ude', '/ntu', '/uls', '/ntch', '/uzhe', '/vshi', '/nto', '/rzs', '/uyy', '/rzv', '/nnd', '/rzt', '/vyou'}\n",
      "done! <-- ../DataSets/2014人民日报/1文本100篇/114.txt\n",
      "{'/pbei', '/nnt', '/pba', '/rys', '/ryv', '/nrf', '/nit', '/usuo', '/udeng', '/uzhi', '/uguo', '/ryt', '/udh', '/nsf', '/nis', '/nhd', '/ule', '/ntc', '/ulian', '/ude', '/ntu', '/uls', '/ntch', '/vshi', '/uzhe', '/nto', '/rzs', '/uyy', '/rzv', '/nrj', '/nnd', '/rzt', '/vyou'}\n",
      "done! <-- ../DataSets/2014人民日报/1文本100篇/115.txt\n",
      "{'/pbei', '/nnt', '/pba', '/rys', '/ryv', '/nrf', '/nit', '/usuo', '/ntcb', '/udeng', '/uzhi', '/uguo', '/ryt', '/udh', '/nsf', '/nis', '/nhd', '/ule', '/nts', '/ntcf', '/ntc', '/ulian', '/ude', '/ntu', '/uls', '/uzhe', '/vshi', '/nto', '/rzs', '/uyy', '/rzv', '/nrj', '/nnd', '/rzt', '/nhm', '/vyou'}\n",
      "done! <-- ../DataSets/2014人民日报/1文本100篇/116.txt\n",
      "{'/pbei', '/nnt', '/pba', '/rys', '/ryv', '/nrf', '/nit', '/usuo', '/udeng', '/uguo', '/ryt', '/uzhi', '/udh', '/nsf', '/nis', '/nhd', '/ule', '/ntc', '/ulian', '/ude', '/ntu', '/uls', '/uzhe', '/vshi', '/nto', '/rzs', '/uyy', '/rzv', '/nnd', '/rzt', '/nmc', '/vyou'}\n",
      "done! <-- ../DataSets/2014人民日报/1文本100篇/117.txt\n",
      "{'/pbei', '/nnt', '/pba', '/ryv', '/nrf', '/nit', '/usuo', '/udeng', '/uzhi', '/uguo', '/udh', '/nsf', '/nth', '/nis', '/nhd', '/ule', '/nts', '/ntc', '/ulian', '/ude', '/ntu', '/uls', '/vshi', '/uzhe', '/nto', '/rzs', '/uyy', '/nrj', '/rzv', '/nnd', '/rzt', '/nmc', '/vyou'}\n",
      "done! <-- ../DataSets/2014人民日报/1文本100篇/118.txt\n",
      "{'/pbei', '/nnt', '/pba', '/rys', '/ryv', '/nrf', '/nit', '/usuo', '/udeng', '/uguo', '/uzhi', '/ryt', '/udh', '/nsf', '/nth', '/nis', '/nhd', '/ule', '/nts', '/ntc', '/ulian', '/ude', '/ntu', '/uls', '/ntch', '/uzhe', '/vshi', '/nto', '/rzs', '/uyy', '/rzv', '/nrj', '/nnd', '/rzt', '/nhm', '/vyou'}\n",
      "done! <-- ../DataSets/2014人民日报/1文本100篇/119.txt\n",
      "{'/rys', '/nnt', '/pba', '/pbei', '/ryv', '/nrf', '/nit', '/usuo', '/ntcb', '/udeng', '/uzhi', '/uguo', '/ryt', '/udh', '/nsf', '/nth', '/nis', '/nhd', '/ule', '/nts', '/ntc', '/ulian', '/ude', '/ntu', '/uls', '/ntch', '/vshi', '/uzhe', '/nto', '/rzs', '/uyy', '/rzv', '/nnd', '/rzt', '/nmc', '/nhm', '/vyou'}\n",
      "done! <-- ../DataSets/2014人民日报/1文本100篇/12.txt\n",
      "{'/pbei', '/nnt', '/pba', '/rys', '/ryv', '/nrf', '/nit', '/usuo', '/udeng', '/uzhi', '/uguo', '/ryt', '/udh', '/nsf', '/nth', '/nis', '/nhd', '/ule', '/nts', '/ntc', '/ulian', '/ude', '/ntu', '/uls', '/ntch', '/uzhe', '/vshi', '/nto', '/rzs', '/uyy', '/rzv', '/nnd', '/rzt', '/nmc', '/vyou'}\n",
      "done! <-- ../DataSets/2014人民日报/1文本100篇/120.txt\n",
      "{'/pbei', '/nnt', '/pba', '/rys', '/ryv', '/nrf', '/nit', '/usuo', '/ntcb', '/uzhi', '/udeng', '/uguo', '/ryt', '/udh', '/nsf', '/nth', '/nis', '/nhd', '/ule', '/nts', '/ntc', '/ulian', '/ude', '/ntu', '/uls', '/ntch', '/vshi', '/uzhe', '/nto', '/rzs', '/uyy', '/rzv', '/nnd', '/rzt', '/nmc', '/vyou'}\n",
      "done! <-- ../DataSets/2014人民日报/1文本100篇/121.txt\n",
      "{'/pbei', '/nnt', '/pba', '/rys', '/ryv', '/nrf', '/usuo', '/udeng', '/uzhi', '/uguo', '/udh', '/nsf', '/nth', '/nis', '/nhd', '/ule', '/nts', '/ntc', '/ulian', '/ude', '/ntu', '/uls', '/ntch', '/uzhe', '/vshi', '/nto', '/rzs', '/uyy', '/rzv', '/nrj', '/nnd', '/rzt', '/vyou'}\n",
      "done! <-- ../DataSets/2014人民日报/1文本100篇/122.txt\n",
      "{'/pbei', '/nnt', '/pba', '/rys', '/nba', '/ryv', '/nrf', '/nit', '/usuo', '/ntcb', '/udeng', '/uguo', '/uzhi', '/ryt', '/udh', '/nsf', '/nth', '/nis', '/nhd', '/ule', '/ntcf', '/ntc', '/ulian', '/ude', '/ntu', '/uls', '/uzhe', '/vshi', '/nto', '/rzs', '/uyy', '/rzv', '/nrj', '/nnd', '/rzt', '/vyou'}\n",
      "done! <-- ../DataSets/2014人民日报/1文本100篇/123.txt\n",
      "{'/pbei', '/nnt', '/pba', '/rys', '/ryv', '/nrf', '/nit', '/usuo', '/ntcb', '/udeng', '/uzhi', '/uguo', '/ryt', '/udh', '/nsf', '/nth', '/nis', '/nhd', '/ule', '/ntc', '/ulian', '/ude', '/ntu', '/uls', '/ntch', '/vshi', '/uzhe', '/nto', '/rzs', '/uyy', '/rzv', '/nnd', '/nmc', '/nhm', '/vyou'}\n",
      "done! <-- ../DataSets/2014人民日报/1文本100篇/124.txt\n",
      "{'/pbei', '/nnt', '/pba', '/rys', '/ryv', '/nrf', '/nit', '/usuo', '/uguo', '/udeng', '/uzhi', '/ryt', '/udh', '/nsf', '/nis', '/nhd', '/ule', '/ntc', '/ulian', '/ude', '/uls', '/uzhe', '/vshi', '/nto', '/rzs', '/uyy', '/rzv', '/nrj', '/nnd', '/rzt', '/vyou'}\n",
      "done! <-- ../DataSets/2014人民日报/1文本100篇/125.txt\n",
      "{'/pbei', '/nnt', '/pba', '/rys', '/ryv', '/nrf', '/nit', '/usuo', '/ntcb', '/udeng', '/uguo', '/uzhi', '/ryt', '/udh', '/nsf', '/nth', '/nis', '/nhd', '/ule', '/nts', '/ntc', '/ulian', '/ude', '/ntu', '/uls', '/uzhe', '/vshi', '/nto', '/rzs', '/uyy', '/rzv', '/nnd', '/rzt', '/nmc', '/nhm', '/vyou'}\n",
      "done! <-- ../DataSets/2014人民日报/1文本100篇/126.txt\n",
      "{'/pbei', '/nnt', '/pba', '/rys', '/ryv', '/nrf', '/usuo', '/ntcb', '/uguo', '/udeng', '/uzhi', '/ryt', '/nsf', '/nth', '/nis', '/nhd', '/ule', '/nts', '/ntc', '/ulian', '/ude', '/ntu', '/uls', '/ntch', '/vshi', '/uzhe', '/nto', '/rzs', '/uyy', '/rzv', '/nrj', '/nnd', '/rzt', '/nmc', '/nhm', '/vyou'}\n",
      "done! <-- ../DataSets/2014人民日报/1文本100篇/127.txt\n",
      "{'/pbei', '/nnt', '/pba', '/nba', '/ryv', '/nrf', '/nit', '/usuo', '/uzhi', '/udeng', '/uguo', '/udh', '/nsf', '/nth', '/nis', '/nhd', '/ule', '/ntc', '/ulian', '/ude', '/ntu', '/uls', '/uzhe', '/vshi', '/nto', '/rzs', '/uyy', '/rzv', '/nnd', '/rzt', '/nmc', '/nhm', '/vyou'}\n",
      "done! <-- ../DataSets/2014人民日报/1文本100篇/128.txt\n",
      "{'/pbei', '/nnt', '/pba', '/rys', '/ryv', '/nrf', '/nit', '/usuo', '/udeng', '/uguo', '/uzhi', '/ryt', '/udh', '/nsf', '/nth', '/nis', '/nhd', '/ule', '/ntc', '/ulian', '/ude', '/ntu', '/uls', '/vshi', '/uzhe', '/nto', '/rzs', '/uyy', '/rzv', '/nnd', '/rzt', '/nhm', '/vyou'}\n",
      "done! <-- ../DataSets/2014人民日报/1文本100篇/129.txt\n",
      "{'/pbei', '/nnt', '/pba', '/ryv', '/nrf', '/nit', '/usuo', '/ntcb', '/udeng', '/uguo', '/uzhi', '/ryt', '/udh', '/nsf', '/nis', '/nhd', '/ule', '/ntc', '/ulian', '/ude', '/uls', '/uzhe', '/vshi', '/nto', '/rzs', '/uyy', '/rzv', '/nrj', '/nnd', '/nmc', '/vyou'}\n",
      "done! <-- ../DataSets/2014人民日报/1文本100篇/13.txt\n",
      "{'/pbei', '/nnt', '/pba', '/rys', '/ryv', '/nrf', '/nit', '/usuo', '/udeng', '/uzhi', '/uguo', '/udh', '/nsf', '/nth', '/nis', '/nhd', '/ule', '/ntc', '/ulian', '/ude', '/ntu', '/uls', '/ntch', '/uzhe', '/vshi', '/nto', '/rzs', '/uyy', '/rzv', '/nnd', '/rzt', '/nhm', '/vyou'}\n",
      "done! <-- ../DataSets/2014人民日报/1文本100篇/130.txt\n",
      "{'/pbei', '/nnt', '/pba', '/rys', '/ryv', '/nrf', '/nit', '/usuo', '/udeng', '/uzhi', '/uguo', '/ryt', '/udh', '/nsf', '/nth', '/nis', '/nhd', '/ule', '/nts', '/ntcf', '/ntc', '/ulian', '/ude', '/ntu', '/uls', '/ntch', '/uzhe', '/vshi', '/nto', '/rzs', '/uyy', '/rzv', '/nrj', '/nnd', '/rzt', '/vyou'}\n",
      "done! <-- ../DataSets/2014人民日报/1文本100篇/131.txt\n",
      "{'/pbei', '/nnt', '/pba', '/ryv', '/nrf', '/nit', '/usuo', '/ntcb', '/uguo', '/udeng', '/uzhi', '/ryt', '/udh', '/nsf', '/nth', '/nis', '/nhd', '/ule', '/ntc', '/ulian', '/ude', '/uls', '/ntch', '/uzhe', '/vshi', '/nto', '/rzs', '/uyy', '/rzv', '/nrj', '/nnd', '/rzt', '/nmc', '/nhm', '/vyou'}\n",
      "done! <-- ../DataSets/2014人民日报/1文本100篇/132.txt\n",
      "{'/pbei', '/pba', '/nnt', '/rys', '/ryv', '/nrf', '/nit', '/usuo', '/uzhi', '/udeng', '/uguo', '/ryt', '/udh', '/nsf', '/nth', '/nis', '/nhd', '/ule', '/nts', '/ntcf', '/ntc', '/ulian', '/ude', '/ntu', '/uls', '/ntch', '/uzhe', '/vshi', '/nto', '/rzs', '/uyy', '/rzv', '/nrj', '/nnd', '/rzt', '/nhm', '/vyou'}\n",
      "done! <-- ../DataSets/2014人民日报/1文本100篇/133.txt\n",
      "{'/pbei', '/pba', '/nnt', '/rys', '/ryv', '/nrf', '/nit', '/usuo', '/ntcb', '/udeng', '/uzhi', '/uguo', '/ryt', '/udh', '/nsf', '/nth', '/nis', '/nhd', '/ule', '/nts', '/ntc', '/ulian', '/ude', '/ntu', '/uls', '/ntch', '/vshi', '/uzhe', '/nto', '/rzs', '/uyy', '/rzv', '/nrj', '/nnd', '/rzt', '/nmc', '/nhm', '/vyou'}\n",
      "done! <-- ../DataSets/2014人民日报/1文本100篇/134.txt\n",
      "{'/pbei', '/nnt', '/pba', '/rys', '/ryv', '/nrf', '/nit', '/usuo', '/udeng', '/uzhi', '/uguo', '/ryt', '/udh', '/nsf', '/nth', '/nis', '/nhd', '/ule', '/nts', '/ntc', '/ulian', '/ude', '/ntu', '/uls', '/vshi', '/uzhe', '/nto', '/rzs', '/uyy', '/rzv', '/nrj', '/nnd', '/rzt', '/nhm', '/vyou'}\n",
      "done! <-- ../DataSets/2014人民日报/1文本100篇/135.txt\n",
      "{'/pbei', '/nnt', '/pba', '/rys', '/ryv', '/nrf', '/nit', '/usuo', '/uzhi', '/uguo', '/udeng', '/ryt', '/udh', '/nsf', '/nth', '/nis', '/nhd', '/ule', '/ntc', '/ulian', '/ude', '/ntu', '/uls', '/ntch', '/vshi', '/uzhe', '/nto', '/rzs', '/uyy', '/rzv', '/nnd', '/rzt', '/nmc', '/vyou'}\n",
      "done! <-- ../DataSets/2014人民日报/1文本100篇/136.txt\n",
      "{'/pbei', '/nnt', '/pba', '/rys', '/ryv', '/nrf', '/usuo', '/udeng', '/uzhi', '/uguo', '/ryt', '/udh', '/nsf', '/nth', '/nis', '/nhd', '/ule', '/ntc', '/ulian', '/ude', '/ntu', '/uls', '/uzhe', '/vshi', '/nto', '/rzs', '/uyy', '/rzv', '/nrj', '/nnd', '/rzt', '/nhm', '/vyou'}\n",
      "done! <-- ../DataSets/2014人民日报/1文本100篇/137.txt\n",
      "{'/pbei', '/pba', '/nnt', '/rys', '/ryv', '/nrf', '/nit', '/usuo', '/udeng', '/uguo', '/uzhi', '/ryt', '/udh', '/nsf', '/nth', '/nis', '/nhd', '/ule', '/ntc', '/ulian', '/ude', '/ntu', '/uls', '/uzhe', '/vshi', '/nto', '/rzs', '/uyy', '/rzv', '/nrj', '/nnd', '/rzt', '/vyou'}\n",
      "done! <-- ../DataSets/2014人民日报/1文本100篇/138.txt\n",
      "{'/pbei', '/nnt', '/pba', '/rys', '/ryv', '/nrf', '/nit', '/usuo', '/uzhi', '/udeng', '/uguo', '/ryt', '/udh', '/nsf', '/nth', '/nis', '/nhd', '/ule', '/ntc', '/ulian', '/ude', '/ntu', '/uls', '/ntch', '/uzhe', '/vshi', '/nto', '/rzs', '/uyy', '/rzv', '/nrj', '/nnd', '/rzt', '/vyou'}\n",
      "done! <-- ../DataSets/2014人民日报/1文本100篇/139.txt\n",
      "{'/pbei', '/pba', '/nnt', '/nba', '/ryv', '/nrf', '/nit', '/usuo', '/ntcb', '/udeng', '/uguo', '/uzhi', '/ryt', '/udh', '/nsf', '/nth', '/nis', '/nhd', '/ule', '/ntc', '/ulian', '/ude', '/ntu', '/uls', '/uzhe', '/vshi', '/nto', '/rzs', '/uyy', '/rzv', '/nrj', '/nnd', '/rzt', '/nmc', '/nhm', '/vyou'}\n",
      "done! <-- ../DataSets/2014人民日报/1文本100篇/14.txt\n",
      "{'/pbei', '/nnt', '/pba', '/rys', '/ryv', '/nrf', '/nit', '/usuo', '/uzhi', '/uguo', '/udeng', '/udh', '/nsf', '/nth', '/nis', '/nhd', '/ule', '/ntc', '/ulian', '/ude', '/ntu', '/uls', '/vshi', '/uzhe', '/nto', '/rzs', '/uyy', '/rzv', '/nrj', '/nnd', '/rzt', '/nmc', '/nhm', '/vyou'}\n",
      "done! <-- ../DataSets/2014人民日报/1文本100篇/140.txt\n",
      "{'/pbei', '/nnt', '/pba', '/rys', '/nba', '/ryv', '/nrf', '/nit', '/usuo', '/udeng', '/uzhi', '/uguo', '/udh', '/nsf', '/nth', '/nis', '/nhd', '/ule', '/ntcf', '/ntc', '/ulian', '/ude', '/ntu', '/ntch', '/uls', '/uzhe', '/vshi', '/nto', '/rzs', '/uyy', '/rzv', '/nrj', '/nnd', '/rzt', '/nmc', '/nhm', '/vyou'}\n",
      "done! <-- ../DataSets/2014人民日报/1文本100篇/141.txt\n",
      "{'/pbei', '/nnt', '/pba', '/rys', '/ryv', '/nrf', '/nit', '/usuo', '/ntcb', '/udeng', '/uzhi', '/uguo', '/ryt', '/udh', '/nsf', '/nth', '/nis', '/nhd', '/ule', '/ntc', '/ulian', '/ude', '/ntu', '/uls', '/uzhe', '/vshi', '/nto', '/rzs', '/uyy', '/rzv', '/nrj', '/nnd', '/rzt', '/vyou'}\n",
      "done! <-- ../DataSets/2014人民日报/1文本100篇/142.txt\n",
      "{'/pbei', '/nnt', '/pba', '/rys', '/ryv', '/nrf', '/nit', '/usuo', '/udeng', '/uzhi', '/uguo', '/ryt', '/udh', '/nsf', '/nth', '/nis', '/nhd', '/ule', '/nts', '/ntc', '/ulian', '/ude', '/ntu', '/uls', '/ntch', '/vshi', '/uzhe', '/nto', '/rzs', '/uyy', '/rzv', '/nrj', '/nnd', '/rzt', '/nhm', '/vyou'}\n",
      "done! <-- ../DataSets/2014人民日报/1文本100篇/143.txt\n",
      "{'/pbei', '/nnt', '/pba', '/rys', '/ryv', '/nrf', '/nit', '/usuo', '/uguo', '/udeng', '/uzhi', '/ryt', '/udh', '/nsf', '/nis', '/nhd', '/ule', '/nts', '/ntc', '/ulian', '/ude', '/ntu', '/uls', '/uzhe', '/vshi', '/nto', '/rzs', '/uyy', '/rzv', '/nrj', '/nnd', '/rzt', '/nhm', '/vyou'}\n",
      "done! <-- ../DataSets/2014人民日报/1文本100篇/144.txt\n",
      "{'/pbei', '/nnt', '/pba', '/rys', '/ryv', '/nrf', '/usuo', '/ntcb', '/udeng', '/uzhi', '/uguo', '/nsf', '/nth', '/nis', '/nhd', '/ule', '/ntc', '/ulian', '/ude', '/ntu', '/uls', '/uzhe', '/vshi', '/nto', '/rzs', '/uyy', '/rzv', '/nnd', '/vyou'}\n",
      "done! <-- ../DataSets/2014人民日报/1文本100篇/145.txt\n",
      "{'/pbei', '/nnt', '/pba', '/rys', '/ryv', '/nrf', '/nit', '/usuo', '/ntcb', '/udeng', '/uzhi', '/uguo', '/ryt', '/nsf', '/nth', '/nis', '/nhd', '/ule', '/nts', '/ntc', '/ulian', '/ude', '/ntu', '/ntch', '/uls', '/vshi', '/uzhe', '/nto', '/rzs', '/uyy', '/rzv', '/nnd', '/rzt', '/nhm', '/vyou'}\n",
      "done! <-- ../DataSets/2014人民日报/1文本100篇/146.txt\n",
      "{'/ule', '/uzhi', '/udeng', '/nnt', '/ude', '/rzv', '/nnd', '/nrf', '/nsf', '/nth', '/vshi'}\n",
      "done! <-- ../DataSets/2014人民日报/1文本100篇/147.txt\n",
      "{'/pbei', '/nnt', '/pba', '/rys', '/ryv', '/nrf', '/nit', '/usuo', '/ntcb', '/udeng', '/uguo', '/uzhi', '/udh', '/nsf', '/nth', '/nis', '/nhd', '/ule', '/nts', '/ntc', '/ulian', '/ude', '/ntu', '/uls', '/vshi', '/uzhe', '/nto', '/rzs', '/uyy', '/rzv', '/nrj', '/nnd', '/rzt', '/vyou'}\n",
      "done! <-- ../DataSets/2014人民日报/1文本100篇/148.txt\n",
      "{'/pbei', '/nnt', '/pba', '/rys', '/ryv', '/nrf', '/nit', '/usuo', '/ntcb', '/udeng', '/uzhi', '/uguo', '/ryt', '/udh', '/nsf', '/nth', '/nis', '/nhd', '/ule', '/ntc', '/ulian', '/ude', '/ntu', '/uls', '/vshi', '/uzhe', '/nto', '/rzs', '/uyy', '/rzv', '/nrj', '/nnd', '/rzt', '/nmc', '/vyou'}\n",
      "done! <-- ../DataSets/2014人民日报/1文本100篇/149.txt\n",
      "{'/pbei', '/nnt', '/pba', '/rys', '/ryv', '/nrf', '/nit', '/usuo', '/ntcb', '/udeng', '/uguo', '/uzhi', '/udh', '/nsf', '/nth', '/nis', '/nhd', '/ule', '/ntc', '/ulian', '/ude', '/ntu', '/uls', '/uzhe', '/vshi', '/nto', '/rzs', '/uyy', '/rzv', '/nrj', '/nnd', '/rzt', '/vyou'}\n",
      "done! <-- ../DataSets/2014人民日报/1文本100篇/15.txt\n",
      "{'/pbei', '/nnt', '/pba', '/rys', '/ryv', '/nrf', '/nit', '/usuo', '/ntcb', '/uzhi', '/udeng', '/uguo', '/udh', '/nsf', '/nth', '/nis', '/nhd', '/ule', '/nts', '/ntc', '/ulian', '/ude', '/ntu', '/ntch', '/uls', '/uzhe', '/vshi', '/nto', '/rzs', '/uyy', '/rzv', '/nnd', '/rzt', '/vyou'}\n",
      "done! <-- ../DataSets/2014人民日报/1文本100篇/150.txt\n",
      "{'/pbei', '/nnt', '/pba', '/rys', '/ryv', '/nrf', '/nit', '/usuo', '/ntcb', '/uguo', '/uzhi', '/udeng', '/ryt', '/udh', '/nsf', '/nis', '/nhd', '/ule', '/nts', '/ntc', '/ulian', '/ude', '/ntu', '/uls', '/vshi', '/uzhe', '/nto', '/rzs', '/uyy', '/rzv', '/nrj', '/nnd', '/nmc', '/nhm', '/vyou'}\n",
      "done! <-- ../DataSets/2014人民日报/1文本100篇/151.txt\n",
      "{'/pbei', '/nnt', '/pba', '/rys', '/ryv', '/nrf', '/nit', '/usuo', '/udeng', '/uguo', '/uzhi', '/ryt', '/udh', '/nsf', '/nis', '/nhd', '/ule', '/nts', '/ntc', '/ulian', '/ude', '/ntu', '/uls', '/uzhe', '/vshi', '/nto', '/rzs', '/uyy', '/rzv', '/nrj', '/nnd', '/rzt', '/nmc', '/vyou'}\n",
      "done! <-- ../DataSets/2014人民日报/1文本100篇/152.txt\n",
      "{'/pbei', '/nnt', '/pba', '/ryv', '/nrf', '/nit', '/usuo', '/ntcb', '/uguo', '/udeng', '/uzhi', '/udh', '/nsf', '/nth', '/nis', '/nhd', '/ule', '/nts', '/ntc', '/ulian', '/ude', '/ntu', '/uls', '/uzhe', '/vshi', '/nto', '/rzs', '/uyy', '/rzv', '/nnd', '/rzt', '/nmc', '/vyou'}\n",
      "done! <-- ../DataSets/2014人民日报/1文本100篇/153.txt\n",
      "{'/pbei', '/nnt', '/pba', '/rys', '/nba', '/ryv', '/nrf', '/nit', '/usuo', '/udeng', '/uzhi', '/uguo', '/udh', '/nsf', '/nth', '/nis', '/nhd', '/ule', '/ntc', '/ulian', '/ude', '/ntu', '/uls', '/vshi', '/uzhe', '/nto', '/rzs', '/uyy', '/rzv', '/nrj', '/nnd', '/rzt', '/nmc', '/nhm', '/vyou'}\n",
      "done! <-- ../DataSets/2014人民日报/1文本100篇/154.txt\n",
      "{'/pbei', '/pba', '/nnt', '/rys', '/ryv', '/nrf', '/nit', '/usuo', '/ntcb', '/udeng', '/uguo', '/uzhi', '/ryt', '/udh', '/nsf', '/nth', '/nis', '/nhd', '/ule', '/ntcf', '/ntc', '/ulian', '/ude', '/ntu', '/uls', '/ntch', '/uzhe', '/vshi', '/nto', '/rzs', '/uyy', '/rzv', '/nnd', '/rzt', '/nmc', '/vyou'}\n",
      "done! <-- ../DataSets/2014人民日报/1文本100篇/155.txt\n",
      "{'/pbei', '/nnt', '/rys', '/pba', '/ryv', '/nrf', '/nit', '/usuo', '/udeng', '/uguo', '/uzhi', '/ryt', '/udh', '/nsf', '/nth', '/nis', '/nhd', '/ule', '/ntc', '/ulian', '/ude', '/ntu', '/uls', '/vshi', '/uzhe', '/nto', '/rzs', '/uyy', '/rzv', '/nnd', '/rzt', '/vyou'}\n",
      "done! <-- ../DataSets/2014人民日报/1文本100篇/156.txt\n",
      "{'/pbei', '/rys', '/nnt', '/pba', '/ryv', '/nrf', '/nit', '/usuo', '/ntcb', '/uguo', '/udeng', '/ryt', '/uzhi', '/udh', '/nsf', '/nis', '/nhd', '/ule', '/nts', '/ntc', '/ulian', '/ude', '/ntu', '/uls', '/uzhe', '/vshi', '/nto', '/rzs', '/uyy', '/rzv', '/nnd', '/rzt', '/vyou'}\n",
      "done! <-- ../DataSets/2014人民日报/1文本100篇/157.txt\n",
      "{'/pbei', '/nnt', '/pba', '/rys', '/ryv', '/nrf', '/nit', '/usuo', '/ntcb', '/uguo', '/udeng', '/uzhi', '/ryt', '/udh', '/nsf', '/nth', '/nis', '/nhd', '/ule', '/nts', '/ntcf', '/ntc', '/ulian', '/ude', '/ntu', '/uls', '/vshi', '/uzhe', '/nto', '/rzs', '/uyy', '/rzv', '/nrj', '/nnd', '/rzt', '/nhm', '/vyou'}\n",
      "done! <-- ../DataSets/2014人民日报/1文本100篇/158.txt\n",
      "{'/pbei', '/nnt', '/pba', '/rys', '/ryv', '/nrf', '/usuo', '/udeng', '/uguo', '/uzhi', '/udh', '/nsf', '/nth', '/nis', '/nhd', '/ule', '/ntc', '/ulian', '/ude', '/ntu', '/uls', '/uzhe', '/vshi', '/nto', '/rzs', '/uyy', '/rzv', '/nnd', '/rzt', '/nmc', '/nhm', '/vyou'}\n",
      "done! <-- ../DataSets/2014人民日报/1文本100篇/159.txt\n",
      "{'/pbei', '/nnt', '/pba', '/ryv', '/nrf', '/nit', '/usuo', '/ntcb', '/udeng', '/uzhi', '/uguo', '/ryt', '/udh', '/nsf', '/nth', '/nis', '/nhd', '/ule', '/ntc', '/ulian', '/ude', '/ntu', '/uls', '/vshi', '/uzhe', '/nto', '/rzs', '/uyy', '/rzv', '/nrj', '/nnd', '/rzt', '/vyou'}\n",
      "done! <-- ../DataSets/2014人民日报/1文本100篇/16.txt\n",
      "{'/pbei', '/nnt', '/pba', '/rys', '/ryv', '/nrf', '/usuo', '/ntcb', '/udeng', '/uguo', '/uzhi', '/ryt', '/udh', '/nsf', '/nis', '/nhd', '/ule', '/ntc', '/ulian', '/ude', '/ntu', '/uls', '/ntch', '/uzhe', '/vshi', '/nto', '/rzs', '/uyy', '/rzv', '/nnd', '/nmc', '/nhm', '/vyou'}\n",
      "done! <-- ../DataSets/2014人民日报/1文本100篇/160.txt\n",
      "{'/pbei', '/nnt', '/pba', '/rys', '/ryv', '/nrf', '/usuo', '/udeng', '/uguo', '/uzhi', '/udh', '/nsf', '/nth', '/nis', '/nhd', '/ule', '/ntc', '/ulian', '/ude', '/ntu', '/uls', '/uzhe', '/vshi', '/nto', '/rzs', '/uyy', '/nrj', '/rzv', '/nnd', '/nmc', '/nhm', '/vyou'}\n",
      "done! <-- ../DataSets/2014人民日报/1文本100篇/161.txt\n",
      "{'/pbei', '/pba', '/nnt', '/rys', '/ryv', '/nrf', '/usuo', '/ntcb', '/udeng', '/uzhi', '/uguo', '/udh', '/nsf', '/nth', '/nis', '/nhd', '/ule', '/ntc', '/ulian', '/ude', '/ntu', '/uls', '/ntch', '/uzhe', '/vshi', '/nto', '/rzs', '/uyy', '/rzv', '/nnd', '/nmc', '/vyou'}\n",
      "done! <-- ../DataSets/2014人民日报/1文本100篇/162.txt\n",
      "{'/pbei', '/nnt', '/pba', '/nba', '/rys', '/ryv', '/nrf', '/nit', '/usuo', '/ntcb', '/udeng', '/uguo', '/uzhi', '/udh', '/nsf', '/nth', '/nis', '/nhd', '/ule', '/ntc', '/ulian', '/ude', '/ntu', '/ntch', '/uls', '/uzhe', '/vshi', '/nto', '/rzs', '/uyy', '/rzv', '/nrj', '/nnd', '/rzt', '/vyou'}\n",
      "done! <-- ../DataSets/2014人民日报/1文本100篇/163.txt\n",
      "{'/pbei', '/nnt', '/pba', '/rys', '/ryv', '/nrf', '/nit', '/usuo', '/ntcb', '/uguo', '/udeng', '/uzhi', '/ryt', '/udh', '/nsf', '/nth', '/nis', '/nhd', '/ule', '/ntc', '/ulian', '/ude', '/ntu', '/uls', '/uzhe', '/vshi', '/nto', '/rzs', '/uyy', '/rzv', '/nrj', '/nnd', '/rzt', '/nmc', '/vyou'}\n",
      "done! <-- ../DataSets/2014人民日报/1文本100篇/164.txt\n",
      "{'/pbei', '/nnt', '/pba', '/rys', '/nba', '/ryv', '/nrf', '/nit', '/usuo', '/uzhi', '/uguo', '/udeng', '/ryt', '/udh', '/nsf', '/nth', '/nis', '/nhd', '/ule', '/ntc', '/ulian', '/ude', '/ntu', '/ntch', '/uls', '/uzhe', '/vshi', '/nto', '/rzs', '/uyy', '/rzv', '/nrj', '/nnd', '/rzt', '/nhm', '/vyou'}\n",
      "done! <-- ../DataSets/2014人民日报/1文本100篇/165.txt\n",
      "{'/pbei', '/nnt', '/pba', '/nba', '/rys', '/ryv', '/nrf', '/nit', '/usuo', '/ntcb', '/uguo', '/uzhi', '/udeng', '/ryt', '/udh', '/nsf', '/nth', '/nis', '/nhd', '/ule', '/ntc', '/ulian', '/ude', '/ntu', '/ntch', '/uls', '/uzhe', '/vshi', '/nto', '/rzs', '/uyy', '/rzv', '/nrj', '/nnd', '/rzt', '/nmc', '/nhm', '/vyou'}\n",
      "done! <-- ../DataSets/2014人民日报/1文本100篇/166.txt\n",
      "{'/pbei', '/nnt', '/pba', '/rys', '/nba', '/ryv', '/nrf', '/nit', '/usuo', '/ntcb', '/udeng', '/uguo', '/ryt', '/uzhi', '/udh', '/nsf', '/nth', '/nis', '/nhd', '/ule', '/ntc', '/ulian', '/ude', '/ntu', '/uls', '/uzhe', '/vshi', '/nto', '/rzs', '/uyy', '/rzv', '/nrj', '/nnd', '/rzt', '/nmc', '/nhm', '/vyou'}\n",
      "done! <-- ../DataSets/2014人民日报/1文本100篇/167.txt\n",
      "{'/pbei', '/nnt', '/pba', '/rys', '/nba', '/ryv', '/nrf', '/nit', '/usuo', '/uguo', '/udeng', '/uzhi', '/ryt', '/udh', '/nsf', '/nth', '/nis', '/nhd', '/ule', '/ntc', '/ulian', '/ude', '/ntu', '/uls', '/ntch', '/uzhe', '/vshi', '/nto', '/rzs', '/uyy', '/rzv', '/nrj', '/nnd', '/rzt', '/vyou'}\n",
      "done! <-- ../DataSets/2014人民日报/1文本100篇/168.txt\n",
      "{'/pbei', '/nnt', '/pba', '/rys', '/ryv', '/nrf', '/nit', '/usuo', '/udeng', '/uguo', '/uzhi', '/udh', '/nsf', '/nth', '/nis', '/nhd', '/ule', '/ntc', '/ulian', '/ude', '/ntu', '/ntch', '/uls', '/uzhe', '/vshi', '/nto', '/rzs', '/uyy', '/rzv', '/nrj', '/nnd', '/rzt', '/vyou'}\n",
      "done! <-- ../DataSets/2014人民日报/1文本100篇/169.txt\n",
      "{'/pbei', '/nnt', '/pba', '/ryv', '/nrf', '/nit', '/usuo', '/ntcb', '/udeng', '/uzhi', '/ryt', '/uguo', '/nsf', '/nis', '/nhd', '/ule', '/ntc', '/ulian', '/ude', '/ntu', '/uls', '/ntch', '/vshi', '/uzhe', '/nto', '/rzs', '/uyy', '/rzv', '/nrj', '/nnd', '/rzt', '/nmc', '/vyou'}\n",
      "done! <-- ../DataSets/2014人民日报/1文本100篇/17.txt\n",
      "{'/pbei', '/nnt', '/pba', '/rys', '/ryv', '/nrf', '/nit', '/usuo', '/udeng', '/uzhi', '/uguo', '/ryt', '/udh', '/nsf', '/nis', '/nhd', '/ule', '/nts', '/ntc', '/ulian', '/ude', '/ntu', '/uls', '/ntch', '/vshi', '/uzhe', '/nto', '/rzs', '/uyy', '/rzv', '/nrj', '/nnd', '/rzt', '/nmc', '/vyou'}\n",
      "done! <-- ../DataSets/2014人民日报/1文本100篇/170.txt\n",
      "{'/pbei', '/nnt', '/pba', '/rys', '/nba', '/ryv', '/nrf', '/nit', '/usuo', '/uzhi', '/udeng', '/uguo', '/ryt', '/udh', '/nsf', '/nth', '/nis', '/nhd', '/ule', '/nts', '/ntcf', '/ntc', '/ulian', '/ude', '/ntu', '/uls', '/ntch', '/vshi', '/uzhe', '/nto', '/rzs', '/uyy', '/rzv', '/nrj', '/nnd', '/rzt', '/nhm', '/vyou'}\n",
      "done! <-- ../DataSets/2014人民日报/1文本100篇/171.txt\n",
      "{'/pbei', '/nnt', '/pba', '/rys', '/ryv', '/nrf', '/nit', '/usuo', '/udeng', '/uguo', '/uzhi', '/ryt', '/udh', '/nsf', '/nth', '/nis', '/nhd', '/ule', '/ntc', '/ulian', '/ude', '/ntu', '/uls', '/uzhe', '/vshi', '/nto', '/rzs', '/uyy', '/rzv', '/nrj', '/nnd', '/rzt', '/nmc', '/nhm', '/vyou'}\n",
      "done! <-- ../DataSets/2014人民日报/1文本100篇/172.txt\n",
      "{'/pbei', '/nnt', '/pba', '/rys', '/ryv', '/nrf', '/nit', '/usuo', '/ntcb', '/udeng', '/uguo', '/uzhi', '/ryt', '/udh', '/nsf', '/nth', '/nis', '/nhd', '/ule', '/nts', '/ntc', '/ulian', '/ude', '/ntu', '/uls', '/ntch', '/uzhe', '/vshi', '/nto', '/rzs', '/uyy', '/rzv', '/nnd', '/rzt', '/nmc', '/vyou'}\n",
      "done! <-- ../DataSets/2014人民日报/1文本100篇/173.txt\n",
      "{'/pbei', '/nnt', '/pba', '/rys', '/ryv', '/nrf', '/nit', '/usuo', '/udeng', '/uguo', '/uzhi', '/ryt', '/udh', '/nsf', '/nth', '/nis', '/nhd', '/ule', '/ntc', '/ulian', '/ude', '/ntu', '/uls', '/uzhe', '/vshi', '/nto', '/rzs', '/uyy', '/rzv', '/nrj', '/nnd', '/rzt', '/nmc', '/vyou'}\n",
      "done! <-- ../DataSets/2014人民日报/1文本100篇/174.txt\n",
      "{'/pbei', '/nnt', '/pba', '/nba', '/rys', '/ryv', '/nrf', '/nit', '/usuo', '/uguo', '/udeng', '/ryt', '/uzhi', '/udh', '/nsf', '/nth', '/nis', '/nhd', '/ule', '/nts', '/ntc', '/ulian', '/ude', '/ntu', '/uls', '/uzhe', '/vshi', '/nto', '/rzs', '/uyy', '/rzv', '/nrj', '/nnd', '/rzt', '/nhm', '/vyou'}\n",
      "done! <-- ../DataSets/2014人民日报/1文本100篇/175.txt\n",
      "{'/pbei', '/nnt', '/pba', '/rys', '/ryv', '/nrf', '/usuo', '/ntcb', '/uzhi', '/uguo', '/udeng', '/ryt', '/udh', '/nsf', '/nis', '/nhd', '/ule', '/ntc', '/ulian', '/ude', '/uls', '/uzhe', '/vshi', '/nto', '/rzs', '/uyy', '/rzv', '/nrj', '/nnd', '/vyou'}\n",
      "done! <-- ../DataSets/2014人民日报/1文本100篇/176.txt\n",
      "{'/pbei', '/nnt', '/pba', '/rys', '/nba', '/nbc', '/ryv', '/nrf', '/nit', '/usuo', '/ntcb', '/udeng', '/uguo', '/uzhi', '/ryt', '/udh', '/nsf', '/nth', '/nis', '/nhd', '/ule', '/nts', '/ntc', '/ulian', '/ude', '/ntu', '/uls', '/uzhe', '/vshi', '/nto', '/rzs', '/uyy', '/rzv', '/nrj', '/nnd', '/vyou'}\n",
      "done! <-- ../DataSets/2014人民日报/1文本100篇/177.txt\n",
      "{'/pbei', '/nnt', '/pba', '/nba', '/rys', '/ryv', '/nrf', '/nit', '/usuo', '/ntcb', '/udeng', '/uguo', '/uzhi', '/ryt', '/udh', '/nsf', '/nth', '/nis', '/nhd', '/ule', '/nts', '/ntc', '/ulian', '/ude', '/ntu', '/ntch', '/uls', '/vshi', '/uzhe', '/nto', '/rzs', '/uyy', '/rzv', '/nnd', '/rzt', '/nmc', '/nhm', '/vyou'}\n",
      "done! <-- ../DataSets/2014人民日报/1文本100篇/178.txt\n",
      "{'/pbei', '/nnt', '/pba', '/rys', '/ryv', '/nrf', '/nit', '/usuo', '/udeng', '/uguo', '/uzhi', '/ryt', '/nsf', '/nth', '/nis', '/nhd', '/ule', '/nts', '/ntc', '/ulian', '/ude', '/ntu', '/uls', '/uzhe', '/vshi', '/nto', '/rzs', '/uyy', '/rzv', '/nrj', '/nnd', '/rzt', '/nhm', '/vyou'}\n",
      "done! <-- ../DataSets/2014人民日报/1文本100篇/179.txt\n",
      "{'/pbei', '/nnt', '/rys', '/pba', '/ryv', '/nrf', '/nit', '/usuo', '/ntcb', '/uzhi', '/uguo', '/udeng', '/ryt', '/udh', '/nsf', '/nth', '/nis', '/nhd', '/ule', '/ntc', '/ulian', '/ude', '/ntu', '/uls', '/ntch', '/uzhe', '/vshi', '/nto', '/rzs', '/uyy', '/rzv', '/nrj', '/nnd', '/rzt', '/vyou'}\n",
      "done! <-- ../DataSets/2014人民日报/1文本100篇/18.txt\n",
      "{'/pbei', '/nnt', '/pba', '/rys', '/ryv', '/nrf', '/nit', '/usuo', '/uzhi', '/udeng', '/uguo', '/udh', '/nsf', '/nis', '/nhd', '/ule', '/ntc', '/ulian', '/ude', '/ntu', '/uls', '/ntch', '/uzhe', '/vshi', '/nto', '/rzs', '/uyy', '/rzv', '/nnd', '/nmc', '/vyou'}\n",
      "done! <-- ../DataSets/2014人民日报/1文本100篇/180.txt\n",
      "{'/pbei', '/nnt', '/pba', '/rys', '/nba', '/ryv', '/nrf', '/nit', '/usuo', '/ntcb', '/uzhi', '/uguo', '/udeng', '/udh', '/nsf', '/nth', '/nis', '/nhd', '/ule', '/ntc', '/ulian', '/ude', '/ntu', '/ntch', '/uls', '/vshi', '/uzhe', '/nto', '/rzs', '/uyy', '/nrj', '/rzv', '/nnd', '/rzt', '/vyou'}\n",
      "done! <-- ../DataSets/2014人民日报/1文本100篇/181.txt\n",
      "{'/pbei', '/nnt', '/pba', '/ryv', '/nrf', '/usuo', '/ntcb', '/uguo', '/uzhi', '/udeng', '/ryt', '/udh', '/nsf', '/nis', '/nhd', '/ule', '/nts', '/ntc', '/ulian', '/ude', '/ntu', '/uls', '/uzhe', '/vshi', '/nto', '/rzs', '/uyy', '/rzv', '/nnd', '/rzt', '/vyou'}\n",
      "done! <-- ../DataSets/2014人民日报/1文本100篇/182.txt\n",
      "{'/pbei', '/nnt', '/pba', '/ryv', '/nrf', '/nit', '/usuo', '/uguo', '/udeng', '/uzhi', '/udh', '/nsf', '/nth', '/nis', '/nhd', '/ule', '/ntc', '/ulian', '/ude', '/ntu', '/uls', '/vshi', '/uzhe', '/nto', '/rzs', '/uyy', '/rzv', '/nrj', '/nnd', '/rzt', '/nhm', '/vyou'}\n",
      "done! <-- ../DataSets/2014人民日报/1文本100篇/183.txt\n",
      "{'/pbei', '/nnt', '/pba', '/ryv', '/nrf', '/nit', '/usuo', '/ntcb', '/udeng', '/uguo', '/uzhi', '/ryt', '/udh', '/nsf', '/nth', '/nis', '/nhd', '/ule', '/nts', '/ntc', '/ulian', '/ude', '/ntu', '/ntch', '/uls', '/vshi', '/uzhe', '/nto', '/rzs', '/uyy', '/rzv', '/nrj', '/nnd', '/rzt', '/vyou'}\n",
      "done! <-- ../DataSets/2014人民日报/1文本100篇/184.txt\n",
      "{'/pbei', '/nnt', '/pba', '/nba', '/rys', '/ryv', '/nrf', '/nit', '/usuo', '/uzhi', '/udeng', '/uguo', '/udh', '/nsf', '/nth', '/nis', '/nhd', '/ule', '/ntc', '/ulian', '/ude', '/ntu', '/uls', '/uzhe', '/vshi', '/nto', '/rzs', '/uyy', '/rzv', '/nrj', '/nnd', '/rzt', '/nmc', '/nhm', '/vyou'}\n",
      "done! <-- ../DataSets/2014人民日报/1文本100篇/185.txt\n",
      "{'/pbei', '/nnt', '/pba', '/rys', '/ryv', '/nrf', '/nit', '/usuo', '/ntcb', '/udeng', '/uguo', '/uzhi', '/udh', '/nsf', '/nth', '/nis', '/nhd', '/ule', '/ntc', '/ulian', '/ude', '/ntu', '/uls', '/uzhe', '/vshi', '/nto', '/rzs', '/uyy', '/rzv', '/nrj', '/nnd', '/rzt', '/nmc', '/nhm', '/vyou'}\n",
      "done! <-- ../DataSets/2014人民日报/1文本100篇/186.txt\n",
      "{'/pbei', '/nnt', '/pba', '/rys', '/ryv', '/nrf', '/nit', '/usuo', '/udeng', '/uguo', '/ryt', '/uzhi', '/udh', '/nsf', '/nis', '/nhd', '/ule', '/nts', '/ntc', '/ulian', '/ude', '/ntu', '/uls', '/vshi', '/uzhe', '/nto', '/rzs', '/uyy', '/rzv', '/nnd', '/rzt', '/nmc', '/vyou'}\n",
      "done! <-- ../DataSets/2014人民日报/1文本100篇/187.txt\n",
      "{'/rys', '/nnt', '/pbei', '/pba', '/ryv', '/nrf', '/nit', '/usuo', '/ntcb', '/uzhi', '/uguo', '/udeng', '/ryt', '/udh', '/nsf', '/nth', '/nis', '/nhd', '/ule', '/ntc', '/ulian', '/ude', '/ntu', '/uls', '/ntch', '/uzhe', '/vshi', '/nto', '/rzs', '/uyy', '/rzv', '/nnd', '/rzt', '/vyou'}\n",
      "done! <-- ../DataSets/2014人民日报/1文本100篇/188.txt\n",
      "{'/pbei', '/nnt', '/pba', '/rys', '/ryv', '/nrf', '/nit', '/usuo', '/udeng', '/uguo', '/uzhi', '/udh', '/nsf', '/nth', '/nis', '/nhd', '/ule', '/ntc', '/ulian', '/ude', '/ntu', '/uls', '/ntch', '/vshi', '/uzhe', '/nto', '/rzs', '/uyy', '/rzv', '/nrj', '/nnd', '/rzt', '/nmc', '/vyou'}\n",
      "done! <-- ../DataSets/2014人民日报/1文本100篇/189.txt\n",
      "{'/pbei', '/nnt', '/pba', '/ryv', '/nrf', '/nit', '/usuo', '/uguo', '/udeng', '/uzhi', '/ryt', '/udh', '/nsf', '/nth', '/nis', '/nhd', '/ule', '/ntcf', '/ntc', '/ulian', '/ude', '/ntu', '/uls', '/vshi', '/uzhe', '/nto', '/rzs', '/uyy', '/rzv', '/nrj', '/nnd', '/rzt', '/nmc', '/nhm', '/vyou'}\n",
      "done! <-- ../DataSets/2014人民日报/1文本100篇/19.txt\n",
      "{'/pbei', '/nnt', '/pba', '/rys', '/ryv', '/nrf', '/nit', '/usuo', '/udeng', '/uguo', '/uzhi', '/udh', '/nsf', '/nth', '/nis', '/nhd', '/ule', '/ntc', '/ulian', '/ude', '/ntu', '/uls', '/ntch', '/vshi', '/uzhe', '/nto', '/rzs', '/uyy', '/rzv', '/nrj', '/nnd', '/rzt', '/nmc', '/nhm', '/vyou'}\n",
      "done! <-- ../DataSets/2014人民日报/1文本100篇/190.txt\n",
      "{'/pbei', '/nnt', '/pba', '/ryv', '/nrf', '/nit', '/usuo', '/udeng', '/uguo', '/uzhi', '/ryt', '/udh', '/nsf', '/nth', '/nis', '/nhd', '/ule', '/ntc', '/ude', '/ntu', '/uls', '/ntch', '/uzhe', '/vshi', '/nto', '/rzs', '/uyy', '/rzv', '/nrj', '/nnd', '/rzt', '/nmc', '/nhm', '/vyou'}\n",
      "done! <-- ../DataSets/2014人民日报/1文本100篇/191.txt\n",
      "{'/pbei', '/nnt', '/pba', '/rys', '/ryv', '/nrf', '/nit', '/usuo', '/udeng', '/uguo', '/uzhi', '/udh', '/nsf', '/nth', '/nis', '/nhd', '/ule', '/nts', '/ntc', '/ulian', '/ude', '/ntu', '/uls', '/ntch', '/uzhe', '/vshi', '/nto', '/rzs', '/uyy', '/rzv', '/nnd', '/rzt', '/nmc', '/nhm', '/vyou'}\n",
      "done! <-- ../DataSets/2014人民日报/1文本100篇/192.txt\n",
      "{'/pbei', '/nnt', '/pba', '/rys', '/ryv', '/nrf', '/nit', '/usuo', '/ntcb', '/udeng', '/uzhi', '/uguo', '/ryt', '/udh', '/nsf', '/nth', '/nis', '/nhd', '/ule', '/nts', '/ntc', '/ulian', '/ude', '/ntu', '/uls', '/ntch', '/vshi', '/uzhe', '/nto', '/rzs', '/uyy', '/rzv', '/nrj', '/nnd', '/rzt', '/nmc', '/nhm', '/vyou'}\n",
      "done! <-- ../DataSets/2014人民日报/1文本100篇/193.txt\n",
      "{'/pbei', '/nnt', '/pba', '/rys', '/ryv', '/nrf', '/nit', '/usuo', '/ntcb', '/uguo', '/uzhi', '/udeng', '/ryt', '/udh', '/nsf', '/nth', '/nis', '/nhd', '/ule', '/nts', '/ntc', '/ulian', '/ude', '/ntu', '/uls', '/uzhe', '/vshi', '/nto', '/rzs', '/uyy', '/rzv', '/nrj', '/nnd', '/rzt', '/nmc', '/vyou'}\n",
      "done! <-- ../DataSets/2014人民日报/1文本100篇/194.txt\n",
      "{'/pbei', '/nnt', '/pba', '/rys', '/ryv', '/nrf', '/nit', '/usuo', '/udeng', '/uguo', '/uzhi', '/udh', '/nsf', '/nth', '/nis', '/nhd', '/ule', '/nts', '/ntc', '/ulian', '/ude', '/ntu', '/uls', '/vshi', '/uzhe', '/nto', '/rzs', '/uyy', '/rzv', '/nrj', '/nnd', '/rzt', '/nmc', '/vyou'}\n",
      "done! <-- ../DataSets/2014人民日报/1文本100篇/195.txt\n",
      "{'/pbei', '/nnt', '/pba', '/rys', '/nba', '/ryv', '/nrf', '/nit', '/usuo', '/ntcb', '/udeng', '/uguo', '/uzhi', '/ryt', '/udh', '/nsf', '/nth', '/nis', '/nhd', '/ule', '/nts', '/ntcf', '/ntc', '/ulian', '/ude', '/ntu', '/uls', '/vshi', '/uzhe', '/nto', '/rzs', '/uyy', '/rzv', '/nrj', '/nnd', '/rzt', '/nhm', '/vyou'}\n",
      "done! <-- ../DataSets/2014人民日报/1文本100篇/196.txt\n",
      "{'/pbei', '/nnt', '/pba', '/ryv', '/nrf', '/nit', '/usuo', '/udeng', '/uguo', '/uzhi', '/ryt', '/udh', '/nsf', '/nth', '/nis', '/nhd', '/ule', '/nts', '/ntc', '/ulian', '/ude', '/ntu', '/uls', '/vshi', '/uzhe', '/nto', '/rzs', '/uyy', '/rzv', '/nrj', '/nnd', '/rzt', '/nmc', '/vyou'}\n",
      "done! <-- ../DataSets/2014人民日报/1文本100篇/197.txt\n",
      "{'/pbei', '/nnt', '/pba', '/rys', '/ryv', '/nrf', '/nit', '/usuo', '/uguo', '/udeng', '/uzhi', '/udh', '/nsf', '/nth', '/nis', '/nhd', '/ule', '/ntcf', '/ntc', '/ulian', '/ude', '/ntu', '/uls', '/ntch', '/vshi', '/uzhe', '/nto', '/rzs', '/uyy', '/rzv', '/nrj', '/nnd', '/rzt', '/vyou'}\n",
      "done! <-- ../DataSets/2014人民日报/1文本100篇/198.txt\n",
      "{'/pbei', '/nnt', '/rys', '/pba', '/ryv', '/nrf', '/usuo', '/ntcb', '/udeng', '/uzhi', '/uguo', '/udh', '/nsf', '/nis', '/nhd', '/ule', '/ntc', '/ulian', '/ude', '/ntu', '/uls', '/ntch', '/uzhe', '/vshi', '/nto', '/rzs', '/uyy', '/rzv', '/nnd', '/rzt', '/nmc', '/nhm', '/vyou'}\n",
      "done! <-- ../DataSets/2014人民日报/1文本100篇/199.txt\n",
      "{'/pbei', '/nnt', '/pba', '/rys', '/ryv', '/nrf', '/nit', '/usuo', '/ntcb', '/udeng', '/uguo', '/uzhi', '/ryt', '/udh', '/nsf', '/nth', '/nis', '/nhd', '/ule', '/nts', '/ntc', '/ulian', '/ude', '/ntu', '/uls', '/vshi', '/uzhe', '/nto', '/rzs', '/uyy', '/rzv', '/nrj', '/nnd', '/nhm', '/vyou'}\n",
      "done! <-- ../DataSets/2014人民日报/1文本100篇/2.txt\n",
      "{'/pbei', '/nnt', '/pba', '/ryv', '/nrf', '/usuo', '/uguo', '/uzhi', '/udeng', '/ryt', '/nsf', '/nis', '/nhd', '/ule', '/ntc', '/ulian', '/ude', '/ntu', '/uls', '/vshi', '/uzhe', '/nto', '/rzs', '/uyy', '/rzv', '/nrj', '/nnd', '/rzt', '/nmc', '/nhm', '/vyou'}\n",
      "done! <-- ../DataSets/2014人民日报/1文本100篇/20.txt\n",
      "{'/pbei', '/nnt', '/pba', '/rys', '/ryv', '/nrf', '/nit', '/usuo', '/ntcb', '/udeng', '/uzhi', '/uguo', '/ryt', '/udh', '/nsf', '/nth', '/nis', '/nhd', '/ule', '/ntc', '/ulian', '/ude', '/ntu', '/uls', '/ntch', '/uzhe', '/vshi', '/nto', '/rzs', '/uyy', '/rzv', '/nrj', '/nnd', '/rzt', '/nmc', '/nhm', '/vyou'}\n",
      "done! <-- ../DataSets/2014人民日报/1文本100篇/200.txt\n",
      "{'/pbei', '/nnt', '/pba', '/rys', '/ryv', '/nrf', '/nit', '/usuo', '/ntcb', '/udeng', '/uguo', '/uzhi', '/udh', '/nsf', '/nth', '/nis', '/nhd', '/ule', '/ntc', '/ulian', '/ude', '/ntu', '/uls', '/uzhe', '/vshi', '/nto', '/rzs', '/uyy', '/rzv', '/nrj', '/nnd', '/rzt', '/nmc', '/nhm', '/vyou'}\n",
      "done! <-- ../DataSets/2014人民日报/1文本100篇/201.txt\n",
      "{'/pbei', '/nnt', '/pba', '/nba', '/rys', '/ryv', '/nrf', '/nit', '/usuo', '/uguo', '/udeng', '/uzhi', '/ryt', '/udh', '/nsf', '/nth', '/nis', '/nhd', '/ule', '/nts', '/ntcf', '/ntc', '/ulian', '/ude', '/ntu', '/uls', '/vshi', '/uzhe', '/nto', '/rzs', '/uyy', '/rzv', '/nrj', '/nnd', '/rzt', '/vyou'}\n",
      "done! <-- ../DataSets/2014人民日报/1文本100篇/202.txt\n",
      "{'/pbei', '/nnt', '/pba', '/rys', '/ryv', '/nrf', '/nit', '/usuo', '/udeng', '/uzhi', '/uguo', '/ryt', '/udh', '/nsf', '/nth', '/nis', '/nhd', '/ule', '/nts', '/ntc', '/ulian', '/ude', '/ntu', '/uls', '/uzhe', '/vshi', '/nto', '/rzs', '/uyy', '/rzv', '/nrj', '/nnd', '/rzt', '/vyou'}\n",
      "done! <-- ../DataSets/2014人民日报/1文本100篇/203.txt\n",
      "{'/pbei', '/nnt', '/pba', '/rys', '/ryv', '/nrf', '/nit', '/usuo', '/udeng', '/uzhi', '/ryt', '/uguo', '/udh', '/nsf', '/nis', '/nhd', '/ule', '/ntc', '/ulian', '/ude', '/ntu', '/uls', '/vshi', '/uzhe', '/nto', '/rzs', '/uyy', '/rzv', '/nrj', '/nnd', '/rzt', '/vyou'}\n"
     ]
    },
    {
     "ename": "KeyboardInterrupt",
     "evalue": "",
     "output_type": "error",
     "traceback": [
      "\u001B[1;31m---------------------------------------------------------------------------\u001B[0m",
      "\u001B[1;31mKeyboardInterrupt\u001B[0m                         Traceback (most recent call last)",
      "\u001B[1;32m<ipython-input-23-af2ad9b77519>\u001B[0m in \u001B[0;36m<module>\u001B[1;34m\u001B[0m\n\u001B[0;32m     15\u001B[0m     \u001B[1;32mwith\u001B[0m \u001B[0mopen\u001B[0m\u001B[1;33m(\u001B[0m\u001B[0mfilepath\u001B[0m\u001B[1;33m,\u001B[0m \u001B[1;34m'r+'\u001B[0m\u001B[1;33m,\u001B[0m \u001B[0mencoding\u001B[0m\u001B[1;33m=\u001B[0m\u001B[1;34m'utf-8'\u001B[0m\u001B[1;33m)\u001B[0m \u001B[1;32mas\u001B[0m \u001B[0mf\u001B[0m\u001B[1;33m:\u001B[0m\u001B[1;33m\u001B[0m\u001B[1;33m\u001B[0m\u001B[0m\n\u001B[0;32m     16\u001B[0m         \u001B[0mtext\u001B[0m \u001B[1;33m=\u001B[0m \u001B[0mf\u001B[0m\u001B[1;33m.\u001B[0m\u001B[0mread\u001B[0m\u001B[1;33m(\u001B[0m\u001B[1;33m)\u001B[0m\u001B[1;33m\u001B[0m\u001B[1;33m\u001B[0m\u001B[0m\n\u001B[1;32m---> 17\u001B[1;33m         \u001B[0mq\u001B[0m \u001B[1;33m=\u001B[0m \u001B[0mtextReplace\u001B[0m\u001B[1;33m(\u001B[0m\u001B[0mtext\u001B[0m\u001B[1;33m)\u001B[0m\u001B[1;33m\u001B[0m\u001B[1;33m\u001B[0m\u001B[0m\n\u001B[0m\u001B[0;32m     18\u001B[0m         \u001B[0mf\u001B[0m\u001B[1;33m.\u001B[0m\u001B[0mseek\u001B[0m\u001B[1;33m(\u001B[0m\u001B[1;36m0\u001B[0m\u001B[1;33m)\u001B[0m\u001B[1;33m\u001B[0m\u001B[1;33m\u001B[0m\u001B[0m\n\u001B[0;32m     19\u001B[0m         \u001B[0mf\u001B[0m\u001B[1;33m.\u001B[0m\u001B[0mtruncate\u001B[0m\u001B[1;33m(\u001B[0m\u001B[1;33m)\u001B[0m\u001B[1;33m\u001B[0m\u001B[1;33m\u001B[0m\u001B[0m\n",
      "\u001B[1;32mF:\\zzd\\毕业论文\\论文代码\\NER\\Data_processing.py\u001B[0m in \u001B[0;36mtextReplace\u001B[1;34m(text)\u001B[0m\n\u001B[0;32m     73\u001B[0m     \u001B[0mflist\u001B[0m \u001B[1;33m=\u001B[0m \u001B[0mre\u001B[0m\u001B[1;33m.\u001B[0m\u001B[0mfindall\u001B[0m\u001B[1;33m(\u001B[0m\u001B[1;34mr'/[a-z]{3,5}'\u001B[0m\u001B[1;33m,\u001B[0m \u001B[0mtext\u001B[0m\u001B[1;33m)\u001B[0m\u001B[1;33m\u001B[0m\u001B[1;33m\u001B[0m\u001B[0m\n\u001B[0;32m     74\u001B[0m     \u001B[0mflist\u001B[0m \u001B[1;33m=\u001B[0m \u001B[0mset\u001B[0m\u001B[1;33m(\u001B[0m\u001B[0mflist\u001B[0m\u001B[1;33m)\u001B[0m\u001B[1;33m\u001B[0m\u001B[1;33m\u001B[0m\u001B[0m\n\u001B[1;32m---> 75\u001B[1;33m     \u001B[0mprint\u001B[0m\u001B[1;33m(\u001B[0m\u001B[0mflist\u001B[0m\u001B[1;33m)\u001B[0m\u001B[1;33m\u001B[0m\u001B[1;33m\u001B[0m\u001B[0m\n\u001B[0m\u001B[0;32m     76\u001B[0m \u001B[1;33m\u001B[0m\u001B[0m\n\u001B[0;32m     77\u001B[0m     \u001B[1;32mdef\u001B[0m \u001B[0mchange\u001B[0m\u001B[1;33m(\u001B[0m\u001B[0mstr\u001B[0m\u001B[1;33m)\u001B[0m\u001B[1;33m:\u001B[0m\u001B[1;33m\u001B[0m\u001B[1;33m\u001B[0m\u001B[0m\n",
      "\u001B[1;32mE:\\Tools\\Anaconda\\envs\\TF2.1\\lib\\site-packages\\ipykernel\\iostream.py\u001B[0m in \u001B[0;36mwrite\u001B[1;34m(self, string)\u001B[0m\n\u001B[0;32m    402\u001B[0m             \u001B[0mis_child\u001B[0m \u001B[1;33m=\u001B[0m \u001B[1;33m(\u001B[0m\u001B[1;32mnot\u001B[0m \u001B[0mself\u001B[0m\u001B[1;33m.\u001B[0m\u001B[0m_is_master_process\u001B[0m\u001B[1;33m(\u001B[0m\u001B[1;33m)\u001B[0m\u001B[1;33m)\u001B[0m\u001B[1;33m\u001B[0m\u001B[1;33m\u001B[0m\u001B[0m\n\u001B[0;32m    403\u001B[0m             \u001B[1;31m# only touch the buffer in the IO thread to avoid races\u001B[0m\u001B[1;33m\u001B[0m\u001B[1;33m\u001B[0m\u001B[1;33m\u001B[0m\u001B[0m\n\u001B[1;32m--> 404\u001B[1;33m             \u001B[0mself\u001B[0m\u001B[1;33m.\u001B[0m\u001B[0mpub_thread\u001B[0m\u001B[1;33m.\u001B[0m\u001B[0mschedule\u001B[0m\u001B[1;33m(\u001B[0m\u001B[1;32mlambda\u001B[0m \u001B[1;33m:\u001B[0m \u001B[0mself\u001B[0m\u001B[1;33m.\u001B[0m\u001B[0m_buffer\u001B[0m\u001B[1;33m.\u001B[0m\u001B[0mwrite\u001B[0m\u001B[1;33m(\u001B[0m\u001B[0mstring\u001B[0m\u001B[1;33m)\u001B[0m\u001B[1;33m)\u001B[0m\u001B[1;33m\u001B[0m\u001B[1;33m\u001B[0m\u001B[0m\n\u001B[0m\u001B[0;32m    405\u001B[0m             \u001B[1;32mif\u001B[0m \u001B[0mis_child\u001B[0m\u001B[1;33m:\u001B[0m\u001B[1;33m\u001B[0m\u001B[1;33m\u001B[0m\u001B[0m\n\u001B[0;32m    406\u001B[0m                 \u001B[1;31m# mp.Pool cannot be trusted to flush promptly (or ever),\u001B[0m\u001B[1;33m\u001B[0m\u001B[1;33m\u001B[0m\u001B[1;33m\u001B[0m\u001B[0m\n",
      "\u001B[1;32mE:\\Tools\\Anaconda\\envs\\TF2.1\\lib\\site-packages\\ipykernel\\iostream.py\u001B[0m in \u001B[0;36mschedule\u001B[1;34m(self, f)\u001B[0m\n\u001B[0;32m    203\u001B[0m             \u001B[0mself\u001B[0m\u001B[1;33m.\u001B[0m\u001B[0m_events\u001B[0m\u001B[1;33m.\u001B[0m\u001B[0mappend\u001B[0m\u001B[1;33m(\u001B[0m\u001B[0mf\u001B[0m\u001B[1;33m)\u001B[0m\u001B[1;33m\u001B[0m\u001B[1;33m\u001B[0m\u001B[0m\n\u001B[0;32m    204\u001B[0m             \u001B[1;31m# wake event thread (message content is ignored)\u001B[0m\u001B[1;33m\u001B[0m\u001B[1;33m\u001B[0m\u001B[1;33m\u001B[0m\u001B[0m\n\u001B[1;32m--> 205\u001B[1;33m             \u001B[0mself\u001B[0m\u001B[1;33m.\u001B[0m\u001B[0m_event_pipe\u001B[0m\u001B[1;33m.\u001B[0m\u001B[0msend\u001B[0m\u001B[1;33m(\u001B[0m\u001B[1;34mb''\u001B[0m\u001B[1;33m)\u001B[0m\u001B[1;33m\u001B[0m\u001B[1;33m\u001B[0m\u001B[0m\n\u001B[0m\u001B[0;32m    206\u001B[0m         \u001B[1;32melse\u001B[0m\u001B[1;33m:\u001B[0m\u001B[1;33m\u001B[0m\u001B[1;33m\u001B[0m\u001B[0m\n\u001B[0;32m    207\u001B[0m             \u001B[0mf\u001B[0m\u001B[1;33m(\u001B[0m\u001B[1;33m)\u001B[0m\u001B[1;33m\u001B[0m\u001B[1;33m\u001B[0m\u001B[0m\n",
      "\u001B[1;32mE:\\Tools\\Anaconda\\envs\\TF2.1\\lib\\site-packages\\zmq\\sugar\\socket.py\u001B[0m in \u001B[0;36msend\u001B[1;34m(self, data, flags, copy, track, routing_id, group)\u001B[0m\n\u001B[0;32m    398\u001B[0m                                  copy_threshold=self.copy_threshold)\n\u001B[0;32m    399\u001B[0m             \u001B[0mdata\u001B[0m\u001B[1;33m.\u001B[0m\u001B[0mgroup\u001B[0m \u001B[1;33m=\u001B[0m \u001B[0mgroup\u001B[0m\u001B[1;33m\u001B[0m\u001B[1;33m\u001B[0m\u001B[0m\n\u001B[1;32m--> 400\u001B[1;33m         \u001B[1;32mreturn\u001B[0m \u001B[0msuper\u001B[0m\u001B[1;33m(\u001B[0m\u001B[0mSocket\u001B[0m\u001B[1;33m,\u001B[0m \u001B[0mself\u001B[0m\u001B[1;33m)\u001B[0m\u001B[1;33m.\u001B[0m\u001B[0msend\u001B[0m\u001B[1;33m(\u001B[0m\u001B[0mdata\u001B[0m\u001B[1;33m,\u001B[0m \u001B[0mflags\u001B[0m\u001B[1;33m=\u001B[0m\u001B[0mflags\u001B[0m\u001B[1;33m,\u001B[0m \u001B[0mcopy\u001B[0m\u001B[1;33m=\u001B[0m\u001B[0mcopy\u001B[0m\u001B[1;33m,\u001B[0m \u001B[0mtrack\u001B[0m\u001B[1;33m=\u001B[0m\u001B[0mtrack\u001B[0m\u001B[1;33m)\u001B[0m\u001B[1;33m\u001B[0m\u001B[1;33m\u001B[0m\u001B[0m\n\u001B[0m\u001B[0;32m    401\u001B[0m \u001B[1;33m\u001B[0m\u001B[0m\n\u001B[0;32m    402\u001B[0m     \u001B[1;32mdef\u001B[0m \u001B[0msend_multipart\u001B[0m\u001B[1;33m(\u001B[0m\u001B[0mself\u001B[0m\u001B[1;33m,\u001B[0m \u001B[0mmsg_parts\u001B[0m\u001B[1;33m,\u001B[0m \u001B[0mflags\u001B[0m\u001B[1;33m=\u001B[0m\u001B[1;36m0\u001B[0m\u001B[1;33m,\u001B[0m \u001B[0mcopy\u001B[0m\u001B[1;33m=\u001B[0m\u001B[1;32mTrue\u001B[0m\u001B[1;33m,\u001B[0m \u001B[0mtrack\u001B[0m\u001B[1;33m=\u001B[0m\u001B[1;32mFalse\u001B[0m\u001B[1;33m,\u001B[0m \u001B[1;33m**\u001B[0m\u001B[0mkwargs\u001B[0m\u001B[1;33m)\u001B[0m\u001B[1;33m:\u001B[0m\u001B[1;33m\u001B[0m\u001B[1;33m\u001B[0m\u001B[0m\n",
      "\u001B[1;32mzmq/backend/cython/socket.pyx\u001B[0m in \u001B[0;36mzmq.backend.cython.socket.Socket.send\u001B[1;34m()\u001B[0m\n",
      "\u001B[1;32mzmq/backend/cython/socket.pyx\u001B[0m in \u001B[0;36mzmq.backend.cython.socket.Socket.send\u001B[1;34m()\u001B[0m\n",
      "\u001B[1;32mzmq/backend/cython/socket.pyx\u001B[0m in \u001B[0;36mzmq.backend.cython.socket._send_copy\u001B[1;34m()\u001B[0m\n",
      "\u001B[1;32mE:\\Tools\\Anaconda\\envs\\TF2.1\\lib\\site-packages\\zmq\\backend\\cython\\checkrc.pxd\u001B[0m in \u001B[0;36mzmq.backend.cython.checkrc._check_rc\u001B[1;34m()\u001B[0m\n",
      "\u001B[1;31mKeyboardInterrupt\u001B[0m: "
     ]
    }
   ],
   "source": [
    "\"\"\"\n",
    "===去除复合标签===\n",
    "\"\"\"\n",
    "\n",
    "import json\n",
    "import re\n",
    "import os\n",
    "from Data_processing import textReplace\n",
    "\n",
    "\n",
    "path = '../DataSets/2014人民日报/1文本100篇/'\n",
    "files = os.listdir(path)\n",
    "for filename in files:\n",
    "    filepath = os.path.join(path, filename)\n",
    "    with open(filepath, 'r+', encoding='utf-8') as f:\n",
    "        text = f.read()\n",
    "        q = textReplace(text)\n",
    "        f.seek(0)\n",
    "        f.truncate()\n",
    "        f.write(q)\n",
    "        print('done! <--', filepath)"
   ],
   "metadata": {
    "collapsed": false,
    "pycharm": {
     "name": "#%%\n"
    }
   }
  },
  {
   "cell_type": "code",
   "execution_count": null,
   "outputs": [],
   "source": [
    "import re\n",
    "s = '123dsa\\n\\n\\n\\n'\n",
    "c = re.sub('\\n{3,}','\\n\\n',s)\n",
    "print(s)\n",
    "print(c)\n",
    "\n"
   ],
   "metadata": {
    "collapsed": false,
    "pycharm": {
     "name": "#%%\n"
    }
   }
  },
  {
   "cell_type": "code",
   "execution_count": null,
   "outputs": [],
   "source": [
    "\"\"\"\n",
    "转换为 词/label 为一行\n",
    "\"\"\"\n",
    "import json\n",
    "import re\n",
    "import os\n",
    "\n",
    "def add_n(str):\n",
    "    res = str.group()\n",
    "    return res+'\\n'\n",
    "\n",
    "inputdir = '../DataSets/2014人民日报/1文本100篇'\n",
    "outputdir = '../DataSets/2014人民日报/1词1行'\n",
    "files = os.listdir(inputdir)\n",
    "for filename in files:\n",
    "    filepath = os.path.join(inputdir, filename)\n",
    "    with open(filepath, 'r', encoding='utf-8') as f:\n",
    "        text = f.read()\n",
    "        q = text.replace(' ', '\\n').replace('\\n\\n', '\\n')\n",
    "        q = re.sub(r'。/w', add_n, q)\n",
    "    outpath = os.path.join(outputdir, filename)\n",
    "    with open(outpath, 'w',encoding='utf-8') as f:\n",
    "        f.write(q)\n",
    "        print('done! <--', filepath)"
   ],
   "metadata": {
    "collapsed": false,
    "pycharm": {
     "name": "#%%\n"
    }
   }
  },
  {
   "cell_type": "code",
   "execution_count": null,
   "outputs": [],
   "source": [
    "import tensorflow as tf\n",
    "from tensorflow import keras\n",
    "s= [[1,2,3],[2,3,4,5,6]]\n",
    "t = keras.preprocessing.sequence.pad_sequences(s,padding='post',value=0)\n",
    "print(t)"
   ],
   "metadata": {
    "collapsed": false,
    "pycharm": {
     "name": "#%%\n"
    }
   }
  },
  {
   "cell_type": "code",
   "execution_count": null,
   "outputs": [],
   "source": [
    "import io\n",
    "tpath = r'F:\\zzd\\毕业论文\\论文代码\\NER\\data\\someNEWS_BIOES.dev'\n",
    "vpath = r'F:\\zzd\\毕业论文\\论文代码\\NER\\vocab\\vocab.pkl'\n",
    "# data = read_train_data(tpath,vpath)\n",
    "# batches = get_batches(data,100)\n",
    "# print(len(batches))\n",
    "with io.open(tpath,encoding='utf-8') as f:\n",
    "    lines = f.readlines()\n",
    "print(lines[0])\n"
   ],
   "metadata": {
    "collapsed": false,
    "pycharm": {
     "name": "#%%\n"
    }
   }
  },
  {
   "cell_type": "code",
   "execution_count": null,
   "outputs": [],
   "source": [
    "import pickle\n",
    "tag2id = {'<pad>': 0,\n",
    "          'O': 1,\n",
    "          'S-Person': 2, 'B-Person': 3, 'I-Person': 4, 'E-Person': 5,\n",
    "          'S-ORG': 6, 'B-ORG': 7, 'I-ORG': 8, 'E-ORG':9,\n",
    "          'S-LOC': 10, 'B-LOC': 11, 'I-LOC': 12, 'E-LOC': 13,\n",
    "          'S-Time': 14, 'B-Time': 15, 'I-Time': 16, 'E-Time': 17,\n",
    "          }\n",
    "data = []\n",
    "with open(vpath, 'rb') as f:\n",
    "    char2id = pickle.load(f)\n",
    "\n",
    "chars, charids, tags, tag_ids = [], [], [], []\n",
    "for line in lines[0:10]:\n",
    "    if line != '\\n':\n",
    "        # [char, label] = line.strip().split()\n",
    "        try:\n",
    "            char = ''.join(line).strip().split()[0]\n",
    "            chars.append(char)\n",
    "            charid = char2id[char]\n",
    "            charids.append(charid)\n",
    "            tag = ''.join(line).strip().split()[1]\n",
    "            tags.append(tag)\n",
    "            tag_id = tag2id[tag]\n",
    "            tag_ids.append(tag_id)\n",
    "        except Exception as e:\n",
    "            print(line)\n",
    "            print(e)\n",
    "    else:\n",
    "        if len(chars) < 1 or len(tags) < 1:\n",
    "            continue\n",
    "        data.append((chars, charids, tags, tag_ids))\n",
    "        chars, charids, tags, tag_ids = [], [], [], []"
   ],
   "metadata": {
    "collapsed": false,
    "pycharm": {
     "name": "#%%\n"
    }
   }
  },
  {
   "cell_type": "code",
   "execution_count": null,
   "outputs": [],
   "source": [
    "import json\n",
    "\n",
    "path = r'F:\\zzd\\毕业论文\\论文代码\\DataSets\\cluener_public细粒度实体标注\\dev.json'\n",
    "jsons = []\n",
    "with open(path,'r',encoding='utf-8') as f:\n",
    "    lines = f.readlines()\n",
    "for line in lines:\n",
    "    jsons.append(json.loads(line))\n",
    "All_label_list = []\n",
    "content = ''\n",
    "for line in jsons:\n",
    "    sentence = list(line['text'])\n",
    "    labels = line['label']\n",
    "    for label in labels:\n",
    "        All_label_list.append(label)\n",
    "        for i in labels[label]:\n",
    "            loc_list = labels[label][i]\n",
    "            for loc in loc_list:\n",
    "                l,r = loc\n",
    "                tag = '###'+label\n",
    "                sentence[l:r+1] = [x+tag for x in sentence[l:r+1]]\n",
    "    newsentence = '\\n'.join(sentence)\n",
    "    content += newsentence + '\\n\\n'\n",
    "outpath = r'F:\\zzd\\毕业论文\\论文代码\\DataSets\\cluener_public细粒度实体标注\\1行1字\\dev'\n",
    "with open(outpath,'w',encoding='utf-8') as f:\n",
    "    f.write(content)\n"
   ],
   "metadata": {
    "collapsed": false,
    "pycharm": {
     "name": "#%% ClueNER 原标注文件转换处理\n"
    }
   }
  },
  {
   "cell_type": "code",
   "source": [
    "# clue_dict = {'S-address': 18,'B-address': 19,'I-address': 20,'E-address': 21,\n",
    "# 'S-scene': 22,'B-scene': 23,'I-scene': 24,'E-scene': 25,\n",
    "# 'S-government': 26,'B-government': ,'I-government': ,'E-government': ,\n",
    "# 'S-organization': ,'B-organization': ,'I-organization': ,'E-organization': ,\n",
    "# 'S-company': ,'B-company': ,'I-company': ,'E-company': ,\n",
    "# 'S-position': ,'B-position': ,'I-position': ,'E-position': ,\n",
    "# 'S-name': ,'B-name': ,'I-name': ,'E-name': ,\n",
    "# 'S-game': ,'B-game': ,'I-game': ,'E-game': ,\n",
    "# 'S-book': ,'B-book': ,'I-book': ,'E-book': ,\n",
    "# 'S-movie': ,'B-movie': ,'I-movie': ,'E-movie': ,}\n",
    "def resolve(line:str):\n",
    "    try:\n",
    "        if '###' in line:\n",
    "            word,tag = line.split('###')\n",
    "        else:\n",
    "            word = line\n",
    "            tag = ''\n",
    "    except Exception as e:\n",
    "        print(line)\n",
    "\n",
    "    return word,tag\n",
    "path = r'F:\\zzd\\毕业论文\\论文代码\\DataSets\\cluener_public细粒度实体标注\\1行1字\\train.txt'\n",
    "with open(path, 'r', encoding='utf-8') as f:\n",
    "    lines = f.readlines()\n",
    "\n",
    "BIOES_content = \"\"\n",
    "for i, line in enumerate(lines):\n",
    "    line = line.strip()\n",
    "    if line is not '':\n",
    "        if '###' in line:\n",
    "            word, tag = resolve(line)\n",
    "            # _,tag_pre = resolve(lines[i-1].strip()) if i>0 else '',''\n",
    "            # _,tag_nxt = resolve(lines[i+1].strip()) if i+1<len(lines) else '',''\n",
    "            if i>0:\n",
    "                _,tag_pre = resolve(lines[i-1].strip())\n",
    "            else:\n",
    "                _,tag_pre = '',''\n",
    "            if i+1<len(lines):\n",
    "                _,tag_nxt = resolve(lines[i+1].strip())\n",
    "            else:\n",
    "                _,tag_nxt ='',''\n",
    "\n",
    "            if tag_pre != tag and tag_nxt != tag:\n",
    "                BIOES_content += word + '\\tS-' + tag +'\\n'\n",
    "            elif tag_pre != tag and tag_nxt == tag:\n",
    "                BIOES_content += word + '\\tB-' + tag +'\\n'\n",
    "            elif tag_pre == tag and tag_nxt == tag:\n",
    "                BIOES_content += word + '\\tI-' + tag + '\\n'\n",
    "            elif tag_pre == tag and tag_nxt != tag:\n",
    "                BIOES_content += word + '\\tE-' + tag + '\\n'\n",
    "        else:\n",
    "            BIOES_content += line + '\\tO' + '\\n'\n",
    "    else:\n",
    "        BIOES_content += '\\n'\n",
    "outpath = r'F:\\zzd\\毕业论文\\论文代码\\DataSets\\cluener_public细粒度实体标注\\BIOES\\CLUE_BIOES_train'\n",
    "with open(outpath, 'w', encoding='utf-8') as f:\n",
    "    f.write(BIOES_content)\n",
    "print('done!->', path)\n",
    "\n",
    "\n",
    "\n",
    "\n",
    "\n",
    "\n"
   ],
   "metadata": {
    "collapsed": false,
    "pycharm": {
     "name": "#%% ClueNER 1行1字文件转换BIOES\n"
    }
   },
   "execution_count": null,
   "outputs": []
  },
  {
   "cell_type": "code",
   "execution_count": 14,
   "outputs": [],
   "source": [
    "import os\n",
    "indir = r'F:\\zzd\\毕业论文\\论文代码\\NER\\data'\n",
    "\n",
    "outdir = r'F:\\zzd\\毕业论文\\论文代码\\NER\\data_split'\n",
    "files = os.listdir(indir)\n",
    "for infile in files:\n",
    "    inpath = os.path.join(indir,infile)\n",
    "    with open(inpath,'r',encoding='utf-8') as f:\n",
    "        content = f.read()\n",
    "    list = content.split('\\n\\n')\n",
    "    for i in range(len(list)//200):\n",
    "        c = '\\n\\n'.join(list[i*200:(i+1)*200])\n",
    "        c = c.strip() + '\\n\\n'\n",
    "        fname = infile + '_200__' + str(i)\n",
    "        name = fname.split('_')[0]\n",
    "        out = outdir + '\\\\' + name\n",
    "        fp = os.path.join(out,fname)\n",
    "        with open(fp,'w',encoding='utf-8') as f:\n",
    "            f.write(c)"
   ],
   "metadata": {
    "collapsed": false,
    "pycharm": {
     "name": "#%%\n"
    }
   }
  },
  {
   "cell_type": "code",
   "execution_count": null,
   "outputs": [],
   "source": [
    "list = ['asdsadsa','bcvbvcbvcb']\n",
    "print(str(list))\n",
    "path = r'F:\\zzd\\毕业论文\\论文代码\\NER\\data_split\\aa'\n",
    "with open(path,'w',encoding='utf-8') as f:\n",
    "    f.write(''.join(list))"
   ],
   "metadata": {
    "collapsed": false,
    "pycharm": {
     "name": "#%%\n"
    }
   }
  },
  {
   "cell_type": "code",
   "execution_count": 2,
   "outputs": [
    {
     "name": "stdout",
     "output_type": "stream",
     "text": [
      "processed 9 tokens with 2 phrases; found: 2 phrases; correct: 1.\n",
      "accuracy:  71.43%; (non-O)\n",
      "accuracy:  77.78%; precision:  50.00%; recall:  50.00%; FB1:  50.00\n",
      "             time: precision:  50.00%; recall:  50.00%; FB1:  50.00  2\n"
     ]
    },
    {
     "data": {
      "text/plain": "(50.0, 50.0, 50.0)"
     },
     "execution_count": 2,
     "metadata": {},
     "output_type": "execute_result"
    }
   ],
   "source": [
    "from conlleval import evaluate\n",
    "B= 'B-time'\n",
    "E = 'E-time'\n",
    "O = 'O'\n",
    "S = 'S-time'\n",
    "I = 'I-time'\n",
    "tag1 = [B,I,I,I,E,O,O,B,E]\n",
    "tag2 = [B,I,I,E,O,O,O,B,E]\n",
    "evaluate(tag1,tag2)"
   ],
   "metadata": {
    "collapsed": false,
    "pycharm": {
     "name": "#%%\n"
    }
   }
  },
  {
   "cell_type": "code",
   "execution_count": 1,
   "outputs": [],
   "source": [
    "tag_list = ['address','scene','government','organization','company',\n",
    "            'position','name','game','book','movie']"
   ],
   "metadata": {
    "collapsed": false,
    "pycharm": {
     "name": "#%%\n"
    }
   }
  },
  {
   "cell_type": "code",
   "execution_count": 3,
   "outputs": [
    {
     "name": "stdout",
     "output_type": "stream",
     "text": [
      "done--------> F:\\zzd\\毕业论文\\论文代码\\NER\\data_tasks\\address\n",
      "done--------> F:\\zzd\\毕业论文\\论文代码\\NER\\data_tasks\\scene\n",
      "done--------> F:\\zzd\\毕业论文\\论文代码\\NER\\data_tasks\\government\n",
      "done--------> F:\\zzd\\毕业论文\\论文代码\\NER\\data_tasks\\organization\n",
      "done--------> F:\\zzd\\毕业论文\\论文代码\\NER\\data_tasks\\company\n",
      "done--------> F:\\zzd\\毕业论文\\论文代码\\NER\\data_tasks\\position\n",
      "done--------> F:\\zzd\\毕业论文\\论文代码\\NER\\data_tasks\\name\n",
      "done--------> F:\\zzd\\毕业论文\\论文代码\\NER\\data_tasks\\game\n",
      "done--------> F:\\zzd\\毕业论文\\论文代码\\NER\\data_tasks\\book\n",
      "done--------> F:\\zzd\\毕业论文\\论文代码\\NER\\data_tasks\\movie\n"
     ]
    }
   ],
   "source": [
    "\"\"\"\n",
    "细粒度标注数据 一类一个文件\n",
    "\"\"\"\n",
    "import os\n",
    "path = r'F:\\zzd\\毕业论文\\论文代码\\NER\\data\\CLUE_BIOES_train'\n",
    "\n",
    "\n",
    "task = {}\n",
    "mark = {}\n",
    "for tagName in tag_list:\n",
    "    task[tagName] = ''\n",
    "    mark[tagName] = False\n",
    "with open(path,'r',encoding='utf-8') as f:\n",
    "    lines = f.readlines()\n",
    "    sentence = ''\n",
    "    for line in lines:\n",
    "        if line != '\\n':\n",
    "            char = line.strip().split()[0]\n",
    "            tag = line.strip().split()[1]\n",
    "            if tag !='O':\n",
    "                tag = tag.split('-')[1]\n",
    "                mark[tag] = True\n",
    "            sentence += line\n",
    "        else:\n",
    "            for tag in tag_list:\n",
    "                if mark[tag]:\n",
    "                    task[tag] += sentence + '\\n'\n",
    "                    mark[tag] = False\n",
    "            sentence = ''\n",
    "newdir =  r'F:\\zzd\\毕业论文\\论文代码\\NER\\data_tasks'\n",
    "for tag in tag_list:\n",
    "    newpath = os.path.join(newdir,tag)\n",
    "    with open(newpath,'w',encoding='utf-8') as f:\n",
    "        f.write(task[tag])\n",
    "    print('done-------->',newpath)"
   ],
   "metadata": {
    "collapsed": false,
    "pycharm": {
     "name": "#%%\n"
    }
   }
  },
  {
   "cell_type": "code",
   "execution_count": null,
   "outputs": [],
   "source": [
    "'''\n",
    "医疗、媒体数据转换\n",
    "'''\n",
    "\n",
    "import json\n",
    "\n",
    "path = r'.json'\n",
    "jsons = []\n",
    "with open(path,'r',encoding='utf-8') as f:\n",
    "    lines = f.readlines()\n",
    "for line in lines:\n",
    "    jsons.append(json.loads(line))\n",
    "All_label_list = []\n",
    "content = ''\n",
    "for line in jsons:\n",
    "    sentence = list(line['text'])\n",
    "    labels = line['label']\n",
    "    for label in labels:\n",
    "        All_label_list.append(label)\n",
    "        for i in labels[label]:\n",
    "            loc_list = labels[label][i]\n",
    "            for loc in loc_list:\n",
    "                l,r = loc\n",
    "                tag = '###'+label\n",
    "                sentence[l:r+1] = [x+tag for x in sentence[l:r+1]]\n",
    "    newsentence = '\\n'.join(sentence)\n",
    "    content += newsentence + '\\n\\n'\n",
    "outpath = r'F:\\zzd\\毕业论文\\论文代码\\DataSets\\cluener_public细粒度实体标注\\1行1字\\dev'\n",
    "with open(outpath,'w',encoding='utf-8') as f:\n",
    "    f.write(content)\n"
   ],
   "metadata": {
    "collapsed": false,
    "pycharm": {
     "name": "#%%\n"
    }
   }
  },
  {
   "cell_type": "code",
   "execution_count": 9,
   "outputs": [
    {
     "name": "stdout",
     "output_type": "stream",
     "text": [
      "['book', 'game', 'company', 'movie']\n"
     ]
    }
   ],
   "source": [
    "import random\n",
    "s = ['game','company','book','movie']\n",
    "random.shuffle(s)\n",
    "print(s)\n"
   ],
   "metadata": {
    "collapsed": false,
    "pycharm": {
     "name": "#%%\n"
    }
   }
  },
  {
   "cell_type": "code",
   "execution_count": 22,
   "outputs": [
    {
     "name": "stdout",
     "output_type": "stream",
     "text": [
      "{'a': 1, 'b': 2, 'c': 3}\n"
     ]
    }
   ],
   "source": [
    "dic1 = {'a':1}\n",
    "dic1.update({'b':2,'c':3})\n",
    "print(dic1)"
   ],
   "metadata": {
    "collapsed": false,
    "pycharm": {
     "name": "#%%\n"
    }
   }
  },
  {
   "cell_type": "code",
   "execution_count": 1,
   "outputs": [
    {
     "name": "stdout",
     "output_type": "stream",
     "text": [
      "1\\2\\3\n"
     ]
    }
   ],
   "source": [
    "import os\n",
    "p=os.path.join('1','2','3')\n",
    "print(p\n",
    "\n",
    "\n",
    "\n",
    "      )"
   ],
   "metadata": {
    "collapsed": false,
    "pycharm": {
     "name": "#%%\n"
    }
   }
  },
  {
   "cell_type": "code",
   "execution_count": 2,
   "outputs": [
    {
     "name": "stdout",
     "output_type": "stream",
     "text": [
      "[0, 1, 2]\n"
     ]
    }
   ],
   "source": [
    "l = [0,1,2,3,4,5,6]\n",
    "print(l[0:3])"
   ],
   "metadata": {
    "collapsed": false,
    "pycharm": {
     "name": "#%%\n"
    }
   }
  }
 ],
 "metadata": {
  "kernelspec": {
   "name": "pycharm-d4890afa",
   "language": "python",
   "display_name": "PyCharm (TFtest)"
  },
  "language_info": {
   "codemirror_mode": {
    "name": "ipython",
    "version": 2
   },
   "file_extension": ".py",
   "mimetype": "text/x-python",
   "name": "python",
   "nbconvert_exporter": "python",
   "pygments_lexer": "ipython2",
   "version": "2.7.6"
  },
  "pycharm": {
   "stem_cell": {
    "cell_type": "raw",
    "source": [
     "\n"
    ],
    "metadata": {
     "collapsed": false
    }
   }
  }
 },
 "nbformat": 4,
 "nbformat_minor": 0
}