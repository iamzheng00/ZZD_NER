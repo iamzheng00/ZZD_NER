{
 "cells": [
  {
   "cell_type": "code",
   "execution_count": 88,
   "metadata": {
    "collapsed": true
   },
   "outputs": [],
   "source": [
    "# encoding=utf-8\n",
    "import numpy as np\n",
    "import tensorflow as tf\n",
    "import tensorflow.keras as keras\n",
    "import tensorflow.keras.layers as layers\n",
    "from tensorflow_addons.text import crf\n",
    "\n",
    "class myModel(keras.Model):\n",
    "    def __init__(self,time_steps,batch_size):\n",
    "        super(myModel,self).__init__()\n",
    "        self.time_steps = time_steps\n",
    "        self.batch_size = batch_size\n",
    "\n",
    "        self.fw_LSTM = layers.LSTM(units=100,activation='relu',return_sequences=True,go_backwards=False)\n",
    "        self.bw_LSTM = layers.LSTM(units=100,activation='relu',return_sequences=True,go_backwards=True)\n",
    "        self.BiLSTM = layers.Bidirectional(self.fw_LSTM,backward_layer=self.bw_LSTM,input_shape=(self.batch_size, self.time_steps)) #todo\n",
    "\n",
    "    def call(self, inputs, training=None, mask=None):\n",
    "        x = self.BiLSTM(inputs)\n",
    "        return x\n",
    "\n",
    "    def embedding_layer(self):\n",
    "        pass # todo\n",
    "\n",
    "batch_size = 2\n",
    "time_steps = 5\n",
    "\n",
    "x1 = np.array([[1,2,3,4,5],[3,1,5,2,1],[3,4,5,0,2],[5,3,4,0,1]],dtype='int32')\n",
    "y1 = np.array([[0,0,1,2,3],\n",
    "               [1,0,0,0,0],\n",
    "               [1,2,3,0,0],\n",
    "               [0,1,2,0,0]],dtype='int32')\n",
    "lens = np.array([5,5,5,5])\n",
    "model = myModel(batch_size,time_steps)\n",
    "\n",
    "\n"
   ]
  },
  {
   "cell_type": "code",
   "execution_count": 113,
   "outputs": [
    {
     "name": "stdout",
     "output_type": "stream",
     "text": [
      "0\n",
      "tf.Tensor(\n",
      "[[2 0 1 0 1]\n",
      " [0 1 0 1 0]\n",
      " [0 1 0 1 0]\n",
      " [0 1 0 1 0]], shape=(4, 5), dtype=int32)\n",
      "Epoch 1, train acc: 0.0\n",
      "Epoch 2, train acc: 0.0\n",
      "Epoch 3, train acc: 0.0\n",
      "Epoch 4, train acc: 0.0\n",
      "Epoch 5, train acc: 0.0\n",
      "Epoch 6, train acc: 0.0\n",
      "Epoch 7, train acc: 0.0\n",
      "Epoch 8, train acc: 0.0\n",
      "Epoch 9, train acc: 0.0\n",
      "Epoch 10, train acc: 0.0\n",
      "10\n",
      "tf.Tensor(\n",
      "[[2 3 2 3 2]\n",
      " [2 3 2 3 2]\n",
      " [2 3 2 3 2]\n",
      " [2 3 2 3 2]], shape=(4, 5), dtype=int32)\n",
      "Epoch 11, train acc: 0.0\n",
      "Epoch 12, train acc: 0.0\n",
      "Epoch 13, train acc: 0.0\n",
      "Epoch 14, train acc: 0.0\n",
      "Epoch 15, train acc: 0.0\n",
      "Epoch 16, train acc: 25.0\n",
      "Epoch 17, train acc: 25.0\n",
      "Epoch 18, train acc: 25.0\n",
      "Epoch 19, train acc: 25.0\n",
      "Epoch 20, train acc: 25.0\n",
      "20\n",
      "tf.Tensor(\n",
      "[[2 2 2 2 2]\n",
      " [2 2 2 2 2]\n",
      " [2 2 2 2 2]\n",
      " [2 2 2 2 2]], shape=(4, 5), dtype=int32)\n",
      "Epoch 21, train acc: 25.0\n",
      "Epoch 22, train acc: 25.0\n",
      "Epoch 23, train acc: 25.0\n",
      "Epoch 24, train acc: 25.0\n",
      "Epoch 25, train acc: 25.0\n",
      "Epoch 26, train acc: 25.0\n",
      "Epoch 27, train acc: 25.0\n",
      "Epoch 28, train acc: 25.0\n",
      "Epoch 29, train acc: 25.0\n",
      "Epoch 30, train acc: 25.0\n",
      "30\n",
      "tf.Tensor(\n",
      "[[2 2 2 2 2]\n",
      " [2 2 2 2 2]\n",
      " [2 2 2 2 2]\n",
      " [2 2 2 2 2]], shape=(4, 5), dtype=int32)\n",
      "Epoch 31, train acc: 25.0\n",
      "Epoch 32, train acc: 25.0\n",
      "Epoch 33, train acc: 25.0\n",
      "Epoch 34, train acc: 25.0\n",
      "Epoch 35, train acc: 25.0\n",
      "Epoch 36, train acc: 25.0\n",
      "Epoch 37, train acc: 25.0\n",
      "Epoch 38, train acc: 25.0\n",
      "Epoch 39, train acc: 25.0\n",
      "Epoch 40, train acc: 25.0\n",
      "40\n",
      "tf.Tensor(\n",
      "[[2 2 2 2 2]\n",
      " [2 2 2 2 2]\n",
      " [2 2 2 2 2]\n",
      " [2 2 2 2 2]], shape=(4, 5), dtype=int32)\n",
      "Epoch 41, train acc: 25.0\n",
      "Epoch 42, train acc: 25.0\n",
      "Epoch 43, train acc: 25.0\n",
      "Epoch 44, train acc: 25.0\n",
      "Epoch 45, train acc: 25.0\n",
      "Epoch 46, train acc: 25.0\n",
      "Epoch 47, train acc: 25.0\n",
      "Epoch 48, train acc: 25.0\n",
      "Epoch 49, train acc: 25.0\n",
      "Epoch 50, train acc: 25.0\n"
     ]
    }
   ],
   "source": [
    "LSTM_dim = 50\n",
    "tag_num = 4\n",
    "fw_LSTM = layers.LSTM(units=LSTM_dim,return_sequences=True,go_backwards=False)\n",
    "bw_LSTM = layers.LSTM(units=LSTM_dim,return_sequences=True,go_backwards=True)\n",
    "# BiLSTM = layers.Bidirectional(fw_LSTM,backward_layer=bw_LSTM,input_shape=(4, 5)) #todo\n",
    "BiLSTM = layers.Bidirectional(fw_LSTM,backward_layer=bw_LSTM) #todo\n",
    "\n",
    "# x3 = tf.random.normal((2,5,1))\n",
    "# x3\n",
    "# x = BiLSTM(x)\n",
    "if tf.test.is_gpu_available():\n",
    "  with tf.device(\"/gpu:0\"):\n",
    "    train_loss = keras.metrics.Mean(name='train_loss')\n",
    "    train_acc = keras.metrics.CategoricalAccuracy(name='train_acc')\n",
    "\n",
    "\n",
    "    initializer = tf.keras.initializers.GlorotUniform()\n",
    "    trans_p = tf.Variable(initializer([tag_num, tag_num]), trainable=True, name=\"transitions\")\n",
    "\n",
    "    w_init = tf.random_normal_initializer()\n",
    "    w_proj = tf.Variable(w_init([100,tag_num]),trainable=True)\n",
    "    b_init = tf.zeros_initializer()\n",
    "    b_proj = tf.Variable(b_init([tag_num]),trainable=True)\n",
    "    proj_layer = layers.Dense(tag_num)\n",
    "    optimizer = keras.optimizers.Adam(learning_rate=0.01)\n",
    "    for epoch in range(0,50):\n",
    "        with tf.GradientTape(persistent=True) as tape:\n",
    "            # x = tf.keras.layers.Embedding(6, 1, mask_zero=True)(x1)\n",
    "            x = tf.expand_dims(x1,axis=-1)\n",
    "            x = tf.cast(x,dtype='float')\n",
    "            x = BiLSTM(x)\n",
    "            # 全连接映射层\n",
    "            pred = proj_layer(x)\n",
    "            # pred = tf.matmul(x,w_proj) + b_proj\n",
    "            # print(pred)\n",
    "\n",
    "            # crf\n",
    "            loss, trans_p = crf.crf_log_likelihood(inputs=pred,tag_indices=y1,transition_params=trans_p,sequence_lengths=lens)\n",
    "            loss = tf.reduce_sum(loss)\n",
    "            seq_tags, best_score = crf.crf_decode(potentials=pred,transition_params=trans_p, sequence_length=lens)\n",
    "            # print(trans_p.shape)\n",
    "        if epoch%10==0:\n",
    "            print(epoch)\n",
    "            print(seq_tags)\n",
    "            # print(trans_p)\n",
    "            # print(BiLSTM.trainable_variables[0][1])\n",
    "\n",
    "        grads = tape.gradient(loss,[BiLSTM.trainable_variables,trans_p])\n",
    "        grads2 = tape.gradient(loss,proj_layer.trainable_variables)\n",
    "        # grads_crf = tape.gradient(loss,trans_p)\n",
    "        grads_and_vars_clip0 = [[tf.clip_by_value(g, -5, 5), v] for g, v in zip(grads[0], BiLSTM.trainable_variables)]\n",
    "        grads_and_vars_clip1 = [[tf.clip_by_value(g, -5, 5), v] for g, v in zip([grads[1]], [trans_p])]\n",
    "\n",
    "        optimizer.apply_gradients(grads_and_vars_clip0)\n",
    "        optimizer.apply_gradients(grads_and_vars_clip1)\n",
    "        optimizer.apply_gradients(zip(grads2,proj_layer.trainable_variables))\n",
    "\n",
    "    # train_loss.reset_states()\n",
    "        train_acc.reset_states()\n",
    "    # train_loss(loss)\n",
    "        train_acc(y1,seq_tags)\n",
    "        template = 'Epoch {}, train acc: {}'\n",
    "        print (template.format(epoch+1,train_acc.result()*100))\n",
    "    #                        train_loss.result()))\n",
    "\n",
    "\n"
   ],
   "metadata": {
    "collapsed": false,
    "pycharm": {
     "name": "#%%\n"
    }
   }
  },
  {
   "cell_type": "code",
   "execution_count": null,
   "outputs": [],
   "source": [
    "loss_object = keras.losses.SparseCategoricalCrossentropy()\n",
    "optimizer = keras.optimizers.Adam()\n",
    "\n",
    "train_loss = keras.metrics.Mean(name='train_loss')\n",
    "train_acc = keras.metrics.SparseTopKCategoricalAccuracy(name='train_acc')\n",
    "\n",
    "test_loss = tf.keras.metrics.Mean(name='test_loss')\n",
    "test_acc = tf.keras.metrics.SparseCategoricalAccuracy(name='test_acc')\n",
    "\n",
    "def train_step(input, labels):\n",
    "    with tf.GradientTape() as tape:\n",
    "        predict = model(input)\n",
    "        loss = loss_object(predict, y1)"
   ],
   "metadata": {
    "collapsed": false,
    "pycharm": {
     "name": "#%%\n"
    }
   }
  },
  {
   "cell_type": "code",
   "execution_count": 48,
   "outputs": [
    {
     "name": "stdout",
     "output_type": "stream",
     "text": [
      "tf.Tensor(2.0, shape=(), dtype=float32)\n",
      "tf.Tensor(6.0, shape=(), dtype=float32)\n",
      "[<tf.Tensor: shape=(), dtype=float32, numpy=2.0>, <tf.Tensor: shape=(), dtype=float32, numpy=6.0>]\n"
     ]
    }
   ],
   "source": [
    "x=tf.constant(1.0)\n",
    "w=tf.constant(2.0)\n",
    "y=tf.Variable(1.0,trainable=True)\n",
    "with tf.GradientTape(persistent=True) as tape:\n",
    "    tape.watch(x)\n",
    "    z = w*y*y*y\n",
    "    func1 = x*z\n",
    "df_dx = tape.gradient(func1,x)\n",
    "dz_dy = tape.gradient(func1,y)\n",
    "grads = tape.gradient(func1,[x,y])\n",
    "print(df_dx)\n",
    "print(dz_dy)\n",
    "print(grads)"
   ],
   "metadata": {
    "collapsed": false,
    "pycharm": {
     "name": "#%%\n"
    }
   }
  },
  {
   "cell_type": "code",
   "execution_count": 1,
   "outputs": [
    {
     "name": "stdout",
     "output_type": "stream",
     "text": [
      "<class 'dict'>\n",
      "635\n"
     ]
    }
   ],
   "source": [
    "import pickle\n",
    "path = r'F:\\zzd\\毕业论文\\论文代码\\DataSets\\2014人民日报\\vocab_test.pkl'\n",
    "with open(path, 'rb') as f:\n",
    "    word2id = pickle.load(f)\n",
    "print(type(word2id))\n",
    "print(word2id['你'])"
   ],
   "metadata": {
    "collapsed": false,
    "pycharm": {
     "name": "#%%\n"
    }
   }
  },
  {
   "cell_type": "code",
   "execution_count": 33,
   "outputs": [
    {
     "name": "stdout",
     "output_type": "stream",
     "text": [
      "tf.Tensor(\n",
      "[[[1 2 3]\n",
      "  [4 5 6]]], shape=(1, 2, 3), dtype=int32)\n",
      "[array([1, 2, 3, 4, 5, 6])]\n",
      "1\n",
      "2\n",
      "3\n",
      "4\n",
      "5\n",
      "6\n"
     ]
    }
   ],
   "source": [
    "import tensorflow as tf\n",
    "import numpy as np\n",
    "l = [[[1,2,3],[4,5,6]]]\n",
    "p = tf.convert_to_tensor(l)\n",
    "print(p)\n",
    "s = np.array(p)\n",
    "l = s.flatten()\n",
    "lo = []\n",
    "lo.append(l)\n",
    "print(lo)\n",
    "for i in lo:\n",
    "    for l in i:\n",
    "        print(l)"
   ],
   "metadata": {
    "collapsed": false,
    "pycharm": {
     "name": "#%%\n"
    }
   }
  },
  {
   "cell_type": "code",
   "execution_count": 6,
   "outputs": [
    {
     "name": "stdout",
     "output_type": "stream",
     "text": [
      "number is 2.3563\n"
     ]
    }
   ],
   "source": [
    "l = 2.35625489154\n",
    "print('number is {:.4f}'.format(l))"
   ],
   "metadata": {
    "collapsed": false,
    "pycharm": {
     "name": "#%%\n"
    }
   }
  },
  {
   "cell_type": "code",
   "execution_count": 2,
   "outputs": [
    {
     "name": "stderr",
     "output_type": "stream",
     "text": [
      "E:\\Tools\\Anaconda\\envs\\TF2.1\\lib\\site-packages\\requests\\__init__.py:91: RequestsDependencyWarning: urllib3 (1.26.2) or chardet (4.0.0) doesn't match a supported version!\n",
      "  RequestsDependencyWarning)\n"
     ]
    },
    {
     "name": "stdout",
     "output_type": "stream",
     "text": [
      "tf.Tensor(\n",
      "[[[ 6.1379164e-04  2.7616858e-05]\n",
      "  [ 6.5122318e-04  4.2452704e-04]\n",
      "  [ 4.4814346e-04  6.5117230e-04]\n",
      "  [ 3.3737579e-04  2.4767499e-04]\n",
      "  [ 8.7461900e-04 -1.9915166e-04]]], shape=(1, 5, 2), dtype=float32)\n"
     ]
    }
   ],
   "source": [
    "import tensorflow as tf\n",
    "import tensorflow.keras as keras\n",
    "import tensorflow.keras.layers as layers\n",
    "import time\n",
    "import os\n",
    "x = [[1,2,3,4,5]]\n",
    "y = [1,1,0,0,1]\n",
    "\n",
    "LSTM_dim = 100\n",
    "tag_num = 2\n",
    "# 模型所需的层定义\n",
    "embedding = layers.Embedding(input_dim=10000, output_dim=2, mask_zero=True)\n",
    "dense = layers.Dense(tag_num)\n",
    "# fw_LSTM = layers.LSTM(units=LSTM_dim, return_sequences=True, go_backwards=False)\n",
    "# bw_LSTM = layers.LSTM(units=LSTM_dim, return_sequences=True, go_backwards=True)\n",
    "# BiLSTM = layers.Bidirectional(fw_LSTM, backward_layer=bw_LSTM)\n",
    "BiLSTM = layers.Bidirectional(layers.LSTM(100,return_sequences=True))\n",
    "\n",
    "x = tf.convert_to_tensor(x,dtype='int32')\n",
    "z = embedding(x)\n",
    "z = BiLSTM(z)\n",
    "z = dense(z)\n",
    "print(z)"
   ],
   "metadata": {
    "collapsed": false,
    "pycharm": {
     "name": "#%%\n"
    }
   }
  },
  {
   "cell_type": "code",
   "execution_count": 15,
   "outputs": [
    {
     "ename": "ValueError",
     "evalue": "Tried to convert 'tensor' to a tensor and failed. Error: None values not supported.",
     "output_type": "error",
     "traceback": [
      "\u001B[1;31m---------------------------------------------------------------------------\u001B[0m",
      "\u001B[1;31mInvalidArgumentError\u001B[0m                      Traceback (most recent call last)",
      "\u001B[1;32mE:\\Tools\\Anaconda\\envs\\TF2.1\\lib\\site-packages\\tensorflow_core\\python\\framework\\ops.py\u001B[0m in \u001B[0;36mget_attr\u001B[1;34m(self, name)\u001B[0m\n\u001B[0;32m   2325\u001B[0m       \u001B[1;32mwith\u001B[0m \u001B[0mc_api_util\u001B[0m\u001B[1;33m.\u001B[0m\u001B[0mtf_buffer\u001B[0m\u001B[1;33m(\u001B[0m\u001B[1;33m)\u001B[0m \u001B[1;32mas\u001B[0m \u001B[0mbuf\u001B[0m\u001B[1;33m:\u001B[0m\u001B[1;33m\u001B[0m\u001B[1;33m\u001B[0m\u001B[0m\n\u001B[1;32m-> 2326\u001B[1;33m         \u001B[0mc_api\u001B[0m\u001B[1;33m.\u001B[0m\u001B[0mTF_OperationGetAttrValueProto\u001B[0m\u001B[1;33m(\u001B[0m\u001B[0mself\u001B[0m\u001B[1;33m.\u001B[0m\u001B[0m_c_op\u001B[0m\u001B[1;33m,\u001B[0m \u001B[0mname\u001B[0m\u001B[1;33m,\u001B[0m \u001B[0mbuf\u001B[0m\u001B[1;33m)\u001B[0m\u001B[1;33m\u001B[0m\u001B[1;33m\u001B[0m\u001B[0m\n\u001B[0m\u001B[0;32m   2327\u001B[0m         \u001B[0mdata\u001B[0m \u001B[1;33m=\u001B[0m \u001B[0mc_api\u001B[0m\u001B[1;33m.\u001B[0m\u001B[0mTF_GetBuffer\u001B[0m\u001B[1;33m(\u001B[0m\u001B[0mbuf\u001B[0m\u001B[1;33m)\u001B[0m\u001B[1;33m\u001B[0m\u001B[1;33m\u001B[0m\u001B[0m\n",
      "\u001B[1;31mInvalidArgumentError\u001B[0m: Operation 'sequential_12/bidirectional_13/forward_lstm_13/StatefulPartitionedCall' has no attr named '_XlaCompile'.",
      "\nDuring handling of the above exception, another exception occurred:\n",
      "\u001B[1;31mValueError\u001B[0m                                Traceback (most recent call last)",
      "\u001B[1;32mE:\\Tools\\Anaconda\\envs\\TF2.1\\lib\\site-packages\\tensorflow_core\\python\\ops\\gradients_util.py\u001B[0m in \u001B[0;36m_MaybeCompile\u001B[1;34m(scope, op, func, grad_fn)\u001B[0m\n\u001B[0;32m    330\u001B[0m     \u001B[1;32mtry\u001B[0m\u001B[1;33m:\u001B[0m\u001B[1;33m\u001B[0m\u001B[1;33m\u001B[0m\u001B[0m\n\u001B[1;32m--> 331\u001B[1;33m       \u001B[0mxla_compile\u001B[0m \u001B[1;33m=\u001B[0m \u001B[0mop\u001B[0m\u001B[1;33m.\u001B[0m\u001B[0mget_attr\u001B[0m\u001B[1;33m(\u001B[0m\u001B[1;34m\"_XlaCompile\"\u001B[0m\u001B[1;33m)\u001B[0m\u001B[1;33m\u001B[0m\u001B[1;33m\u001B[0m\u001B[0m\n\u001B[0m\u001B[0;32m    332\u001B[0m       xla_separate_compiled_gradients = op.get_attr(\n",
      "\u001B[1;32mE:\\Tools\\Anaconda\\envs\\TF2.1\\lib\\site-packages\\tensorflow_core\\python\\framework\\ops.py\u001B[0m in \u001B[0;36mget_attr\u001B[1;34m(self, name)\u001B[0m\n\u001B[0;32m   2329\u001B[0m       \u001B[1;31m# Convert to ValueError for backwards compatibility.\u001B[0m\u001B[1;33m\u001B[0m\u001B[1;33m\u001B[0m\u001B[1;33m\u001B[0m\u001B[0m\n\u001B[1;32m-> 2330\u001B[1;33m       \u001B[1;32mraise\u001B[0m \u001B[0mValueError\u001B[0m\u001B[1;33m(\u001B[0m\u001B[0mstr\u001B[0m\u001B[1;33m(\u001B[0m\u001B[0me\u001B[0m\u001B[1;33m)\u001B[0m\u001B[1;33m)\u001B[0m\u001B[1;33m\u001B[0m\u001B[1;33m\u001B[0m\u001B[0m\n\u001B[0m\u001B[0;32m   2331\u001B[0m     \u001B[0mx\u001B[0m \u001B[1;33m=\u001B[0m \u001B[0mattr_value_pb2\u001B[0m\u001B[1;33m.\u001B[0m\u001B[0mAttrValue\u001B[0m\u001B[1;33m(\u001B[0m\u001B[1;33m)\u001B[0m\u001B[1;33m\u001B[0m\u001B[1;33m\u001B[0m\u001B[0m\n",
      "\u001B[1;31mValueError\u001B[0m: Operation 'sequential_12/bidirectional_13/forward_lstm_13/StatefulPartitionedCall' has no attr named '_XlaCompile'.",
      "\nDuring handling of the above exception, another exception occurred:\n",
      "\u001B[1;31mInvalidArgumentError\u001B[0m                      Traceback (most recent call last)",
      "\u001B[1;32mE:\\Tools\\Anaconda\\envs\\TF2.1\\lib\\site-packages\\tensorflow_core\\python\\framework\\ops.py\u001B[0m in \u001B[0;36mget_attr\u001B[1;34m(self, name)\u001B[0m\n\u001B[0;32m   2325\u001B[0m       \u001B[1;32mwith\u001B[0m \u001B[0mc_api_util\u001B[0m\u001B[1;33m.\u001B[0m\u001B[0mtf_buffer\u001B[0m\u001B[1;33m(\u001B[0m\u001B[1;33m)\u001B[0m \u001B[1;32mas\u001B[0m \u001B[0mbuf\u001B[0m\u001B[1;33m:\u001B[0m\u001B[1;33m\u001B[0m\u001B[1;33m\u001B[0m\u001B[0m\n\u001B[1;32m-> 2326\u001B[1;33m         \u001B[0mc_api\u001B[0m\u001B[1;33m.\u001B[0m\u001B[0mTF_OperationGetAttrValueProto\u001B[0m\u001B[1;33m(\u001B[0m\u001B[0mself\u001B[0m\u001B[1;33m.\u001B[0m\u001B[0m_c_op\u001B[0m\u001B[1;33m,\u001B[0m \u001B[0mname\u001B[0m\u001B[1;33m,\u001B[0m \u001B[0mbuf\u001B[0m\u001B[1;33m)\u001B[0m\u001B[1;33m\u001B[0m\u001B[1;33m\u001B[0m\u001B[0m\n\u001B[0m\u001B[0;32m   2327\u001B[0m         \u001B[0mdata\u001B[0m \u001B[1;33m=\u001B[0m \u001B[0mc_api\u001B[0m\u001B[1;33m.\u001B[0m\u001B[0mTF_GetBuffer\u001B[0m\u001B[1;33m(\u001B[0m\u001B[0mbuf\u001B[0m\u001B[1;33m)\u001B[0m\u001B[1;33m\u001B[0m\u001B[1;33m\u001B[0m\u001B[0m\n",
      "\u001B[1;31mInvalidArgumentError\u001B[0m: Operation 'gradients/while_grad/while_grad' has no attr named '_XlaCompile'.",
      "\nDuring handling of the above exception, another exception occurred:\n",
      "\u001B[1;31mValueError\u001B[0m                                Traceback (most recent call last)",
      "\u001B[1;32mE:\\Tools\\Anaconda\\envs\\TF2.1\\lib\\site-packages\\tensorflow_core\\python\\ops\\gradients_util.py\u001B[0m in \u001B[0;36m_MaybeCompile\u001B[1;34m(scope, op, func, grad_fn)\u001B[0m\n\u001B[0;32m    330\u001B[0m     \u001B[1;32mtry\u001B[0m\u001B[1;33m:\u001B[0m\u001B[1;33m\u001B[0m\u001B[1;33m\u001B[0m\u001B[0m\n\u001B[1;32m--> 331\u001B[1;33m       \u001B[0mxla_compile\u001B[0m \u001B[1;33m=\u001B[0m \u001B[0mop\u001B[0m\u001B[1;33m.\u001B[0m\u001B[0mget_attr\u001B[0m\u001B[1;33m(\u001B[0m\u001B[1;34m\"_XlaCompile\"\u001B[0m\u001B[1;33m)\u001B[0m\u001B[1;33m\u001B[0m\u001B[1;33m\u001B[0m\u001B[0m\n\u001B[0m\u001B[0;32m    332\u001B[0m       xla_separate_compiled_gradients = op.get_attr(\n",
      "\u001B[1;32mE:\\Tools\\Anaconda\\envs\\TF2.1\\lib\\site-packages\\tensorflow_core\\python\\framework\\ops.py\u001B[0m in \u001B[0;36mget_attr\u001B[1;34m(self, name)\u001B[0m\n\u001B[0;32m   2329\u001B[0m       \u001B[1;31m# Convert to ValueError for backwards compatibility.\u001B[0m\u001B[1;33m\u001B[0m\u001B[1;33m\u001B[0m\u001B[1;33m\u001B[0m\u001B[0m\n\u001B[1;32m-> 2330\u001B[1;33m       \u001B[1;32mraise\u001B[0m \u001B[0mValueError\u001B[0m\u001B[1;33m(\u001B[0m\u001B[0mstr\u001B[0m\u001B[1;33m(\u001B[0m\u001B[0me\u001B[0m\u001B[1;33m)\u001B[0m\u001B[1;33m)\u001B[0m\u001B[1;33m\u001B[0m\u001B[1;33m\u001B[0m\u001B[0m\n\u001B[0m\u001B[0;32m   2331\u001B[0m     \u001B[0mx\u001B[0m \u001B[1;33m=\u001B[0m \u001B[0mattr_value_pb2\u001B[0m\u001B[1;33m.\u001B[0m\u001B[0mAttrValue\u001B[0m\u001B[1;33m(\u001B[0m\u001B[1;33m)\u001B[0m\u001B[1;33m\u001B[0m\u001B[1;33m\u001B[0m\u001B[0m\n",
      "\u001B[1;31mValueError\u001B[0m: Operation 'gradients/while_grad/while_grad' has no attr named '_XlaCompile'.",
      "\nDuring handling of the above exception, another exception occurred:\n",
      "\u001B[1;31mInvalidArgumentError\u001B[0m                      Traceback (most recent call last)",
      "\u001B[1;32mE:\\Tools\\Anaconda\\envs\\TF2.1\\lib\\site-packages\\tensorflow_core\\python\\framework\\ops.py\u001B[0m in \u001B[0;36mget_attr\u001B[1;34m(self, name)\u001B[0m\n\u001B[0;32m   2325\u001B[0m       \u001B[1;32mwith\u001B[0m \u001B[0mc_api_util\u001B[0m\u001B[1;33m.\u001B[0m\u001B[0mtf_buffer\u001B[0m\u001B[1;33m(\u001B[0m\u001B[1;33m)\u001B[0m \u001B[1;32mas\u001B[0m \u001B[0mbuf\u001B[0m\u001B[1;33m:\u001B[0m\u001B[1;33m\u001B[0m\u001B[1;33m\u001B[0m\u001B[0m\n\u001B[1;32m-> 2326\u001B[1;33m         \u001B[0mc_api\u001B[0m\u001B[1;33m.\u001B[0m\u001B[0mTF_OperationGetAttrValueProto\u001B[0m\u001B[1;33m(\u001B[0m\u001B[0mself\u001B[0m\u001B[1;33m.\u001B[0m\u001B[0m_c_op\u001B[0m\u001B[1;33m,\u001B[0m \u001B[0mname\u001B[0m\u001B[1;33m,\u001B[0m \u001B[0mbuf\u001B[0m\u001B[1;33m)\u001B[0m\u001B[1;33m\u001B[0m\u001B[1;33m\u001B[0m\u001B[0m\n\u001B[0m\u001B[0;32m   2327\u001B[0m         \u001B[0mdata\u001B[0m \u001B[1;33m=\u001B[0m \u001B[0mc_api\u001B[0m\u001B[1;33m.\u001B[0m\u001B[0mTF_GetBuffer\u001B[0m\u001B[1;33m(\u001B[0m\u001B[0mbuf\u001B[0m\u001B[1;33m)\u001B[0m\u001B[1;33m\u001B[0m\u001B[1;33m\u001B[0m\u001B[0m\n",
      "\u001B[1;31mInvalidArgumentError\u001B[0m: Operation 'gradients/TensorListPushBack_1_grad/TensorListPopBack' has no attr named '_XlaCompile'.",
      "\nDuring handling of the above exception, another exception occurred:\n",
      "\u001B[1;31mValueError\u001B[0m                                Traceback (most recent call last)",
      "\u001B[1;32mE:\\Tools\\Anaconda\\envs\\TF2.1\\lib\\site-packages\\tensorflow_core\\python\\ops\\gradients_util.py\u001B[0m in \u001B[0;36m_MaybeCompile\u001B[1;34m(scope, op, func, grad_fn)\u001B[0m\n\u001B[0;32m    330\u001B[0m     \u001B[1;32mtry\u001B[0m\u001B[1;33m:\u001B[0m\u001B[1;33m\u001B[0m\u001B[1;33m\u001B[0m\u001B[0m\n\u001B[1;32m--> 331\u001B[1;33m       \u001B[0mxla_compile\u001B[0m \u001B[1;33m=\u001B[0m \u001B[0mop\u001B[0m\u001B[1;33m.\u001B[0m\u001B[0mget_attr\u001B[0m\u001B[1;33m(\u001B[0m\u001B[1;34m\"_XlaCompile\"\u001B[0m\u001B[1;33m)\u001B[0m\u001B[1;33m\u001B[0m\u001B[1;33m\u001B[0m\u001B[0m\n\u001B[0m\u001B[0;32m    332\u001B[0m       xla_separate_compiled_gradients = op.get_attr(\n",
      "\u001B[1;32mE:\\Tools\\Anaconda\\envs\\TF2.1\\lib\\site-packages\\tensorflow_core\\python\\framework\\ops.py\u001B[0m in \u001B[0;36mget_attr\u001B[1;34m(self, name)\u001B[0m\n\u001B[0;32m   2329\u001B[0m       \u001B[1;31m# Convert to ValueError for backwards compatibility.\u001B[0m\u001B[1;33m\u001B[0m\u001B[1;33m\u001B[0m\u001B[1;33m\u001B[0m\u001B[0m\n\u001B[1;32m-> 2330\u001B[1;33m       \u001B[1;32mraise\u001B[0m \u001B[0mValueError\u001B[0m\u001B[1;33m(\u001B[0m\u001B[0mstr\u001B[0m\u001B[1;33m(\u001B[0m\u001B[0me\u001B[0m\u001B[1;33m)\u001B[0m\u001B[1;33m)\u001B[0m\u001B[1;33m\u001B[0m\u001B[1;33m\u001B[0m\u001B[0m\n\u001B[0m\u001B[0;32m   2331\u001B[0m     \u001B[0mx\u001B[0m \u001B[1;33m=\u001B[0m \u001B[0mattr_value_pb2\u001B[0m\u001B[1;33m.\u001B[0m\u001B[0mAttrValue\u001B[0m\u001B[1;33m(\u001B[0m\u001B[1;33m)\u001B[0m\u001B[1;33m\u001B[0m\u001B[1;33m\u001B[0m\u001B[0m\n",
      "\u001B[1;31mValueError\u001B[0m: Operation 'gradients/TensorListPushBack_1_grad/TensorListPopBack' has no attr named '_XlaCompile'.",
      "\nDuring handling of the above exception, another exception occurred:\n",
      "\u001B[1;31mValueError\u001B[0m                                Traceback (most recent call last)",
      "\u001B[1;32mE:\\Tools\\Anaconda\\envs\\TF2.1\\lib\\site-packages\\tensorflow_core\\python\\framework\\op_def_library.py\u001B[0m in \u001B[0;36m_apply_op_helper\u001B[1;34m(op_type_name, name, **keywords)\u001B[0m\n\u001B[0;32m    467\u001B[0m               \u001B[0mas_ref\u001B[0m\u001B[1;33m=\u001B[0m\u001B[0minput_arg\u001B[0m\u001B[1;33m.\u001B[0m\u001B[0mis_ref\u001B[0m\u001B[1;33m,\u001B[0m\u001B[1;33m\u001B[0m\u001B[1;33m\u001B[0m\u001B[0m\n\u001B[1;32m--> 468\u001B[1;33m               preferred_dtype=default_dtype)\n\u001B[0m\u001B[0;32m    469\u001B[0m         \u001B[1;32mexcept\u001B[0m \u001B[0mTypeError\u001B[0m \u001B[1;32mas\u001B[0m \u001B[0merr\u001B[0m\u001B[1;33m:\u001B[0m\u001B[1;33m\u001B[0m\u001B[1;33m\u001B[0m\u001B[0m\n",
      "\u001B[1;32mE:\\Tools\\Anaconda\\envs\\TF2.1\\lib\\site-packages\\tensorflow_core\\python\\framework\\ops.py\u001B[0m in \u001B[0;36mconvert_to_tensor\u001B[1;34m(value, dtype, name, as_ref, preferred_dtype, dtype_hint, ctx, accepted_result_types)\u001B[0m\n\u001B[0;32m   1313\u001B[0m     \u001B[1;32mif\u001B[0m \u001B[0mret\u001B[0m \u001B[1;32mis\u001B[0m \u001B[1;32mNone\u001B[0m\u001B[1;33m:\u001B[0m\u001B[1;33m\u001B[0m\u001B[1;33m\u001B[0m\u001B[0m\n\u001B[1;32m-> 1314\u001B[1;33m       \u001B[0mret\u001B[0m \u001B[1;33m=\u001B[0m \u001B[0mconversion_func\u001B[0m\u001B[1;33m(\u001B[0m\u001B[0mvalue\u001B[0m\u001B[1;33m,\u001B[0m \u001B[0mdtype\u001B[0m\u001B[1;33m=\u001B[0m\u001B[0mdtype\u001B[0m\u001B[1;33m,\u001B[0m \u001B[0mname\u001B[0m\u001B[1;33m=\u001B[0m\u001B[0mname\u001B[0m\u001B[1;33m,\u001B[0m \u001B[0mas_ref\u001B[0m\u001B[1;33m=\u001B[0m\u001B[0mas_ref\u001B[0m\u001B[1;33m)\u001B[0m\u001B[1;33m\u001B[0m\u001B[1;33m\u001B[0m\u001B[0m\n\u001B[0m\u001B[0;32m   1315\u001B[0m \u001B[1;33m\u001B[0m\u001B[0m\n",
      "\u001B[1;32mE:\\Tools\\Anaconda\\envs\\TF2.1\\lib\\site-packages\\tensorflow_core\\python\\framework\\constant_op.py\u001B[0m in \u001B[0;36m_constant_tensor_conversion_function\u001B[1;34m(v, dtype, name, as_ref)\u001B[0m\n\u001B[0;32m    316\u001B[0m   \u001B[0m_\u001B[0m \u001B[1;33m=\u001B[0m \u001B[0mas_ref\u001B[0m\u001B[1;33m\u001B[0m\u001B[1;33m\u001B[0m\u001B[0m\n\u001B[1;32m--> 317\u001B[1;33m   \u001B[1;32mreturn\u001B[0m \u001B[0mconstant\u001B[0m\u001B[1;33m(\u001B[0m\u001B[0mv\u001B[0m\u001B[1;33m,\u001B[0m \u001B[0mdtype\u001B[0m\u001B[1;33m=\u001B[0m\u001B[0mdtype\u001B[0m\u001B[1;33m,\u001B[0m \u001B[0mname\u001B[0m\u001B[1;33m=\u001B[0m\u001B[0mname\u001B[0m\u001B[1;33m)\u001B[0m\u001B[1;33m\u001B[0m\u001B[1;33m\u001B[0m\u001B[0m\n\u001B[0m\u001B[0;32m    318\u001B[0m \u001B[1;33m\u001B[0m\u001B[0m\n",
      "\u001B[1;32mE:\\Tools\\Anaconda\\envs\\TF2.1\\lib\\site-packages\\tensorflow_core\\python\\framework\\constant_op.py\u001B[0m in \u001B[0;36mconstant\u001B[1;34m(value, dtype, shape, name)\u001B[0m\n\u001B[0;32m    257\u001B[0m   return _constant_impl(value, dtype, shape, name, verify_shape=False,\n\u001B[1;32m--> 258\u001B[1;33m                         allow_broadcast=True)\n\u001B[0m\u001B[0;32m    259\u001B[0m \u001B[1;33m\u001B[0m\u001B[0m\n",
      "\u001B[1;32mE:\\Tools\\Anaconda\\envs\\TF2.1\\lib\\site-packages\\tensorflow_core\\python\\framework\\constant_op.py\u001B[0m in \u001B[0;36m_constant_impl\u001B[1;34m(value, dtype, shape, name, verify_shape, allow_broadcast)\u001B[0m\n\u001B[0;32m    295\u001B[0m           \u001B[0mvalue\u001B[0m\u001B[1;33m,\u001B[0m \u001B[0mdtype\u001B[0m\u001B[1;33m=\u001B[0m\u001B[0mdtype\u001B[0m\u001B[1;33m,\u001B[0m \u001B[0mshape\u001B[0m\u001B[1;33m=\u001B[0m\u001B[0mshape\u001B[0m\u001B[1;33m,\u001B[0m \u001B[0mverify_shape\u001B[0m\u001B[1;33m=\u001B[0m\u001B[0mverify_shape\u001B[0m\u001B[1;33m,\u001B[0m\u001B[1;33m\u001B[0m\u001B[1;33m\u001B[0m\u001B[0m\n\u001B[1;32m--> 296\u001B[1;33m           allow_broadcast=allow_broadcast))\n\u001B[0m\u001B[0;32m    297\u001B[0m   \u001B[0mdtype_value\u001B[0m \u001B[1;33m=\u001B[0m \u001B[0mattr_value_pb2\u001B[0m\u001B[1;33m.\u001B[0m\u001B[0mAttrValue\u001B[0m\u001B[1;33m(\u001B[0m\u001B[0mtype\u001B[0m\u001B[1;33m=\u001B[0m\u001B[0mtensor_value\u001B[0m\u001B[1;33m.\u001B[0m\u001B[0mtensor\u001B[0m\u001B[1;33m.\u001B[0m\u001B[0mdtype\u001B[0m\u001B[1;33m)\u001B[0m\u001B[1;33m\u001B[0m\u001B[1;33m\u001B[0m\u001B[0m\n",
      "\u001B[1;32mE:\\Tools\\Anaconda\\envs\\TF2.1\\lib\\site-packages\\tensorflow_core\\python\\framework\\tensor_util.py\u001B[0m in \u001B[0;36mmake_tensor_proto\u001B[1;34m(values, dtype, shape, verify_shape, allow_broadcast)\u001B[0m\n\u001B[0;32m    438\u001B[0m     \u001B[1;32mif\u001B[0m \u001B[0mvalues\u001B[0m \u001B[1;32mis\u001B[0m \u001B[1;32mNone\u001B[0m\u001B[1;33m:\u001B[0m\u001B[1;33m\u001B[0m\u001B[1;33m\u001B[0m\u001B[0m\n\u001B[1;32m--> 439\u001B[1;33m       \u001B[1;32mraise\u001B[0m \u001B[0mValueError\u001B[0m\u001B[1;33m(\u001B[0m\u001B[1;34m\"None values not supported.\"\u001B[0m\u001B[1;33m)\u001B[0m\u001B[1;33m\u001B[0m\u001B[1;33m\u001B[0m\u001B[0m\n\u001B[0m\u001B[0;32m    440\u001B[0m     \u001B[1;31m# if dtype is provided, forces numpy array to be the type\u001B[0m\u001B[1;33m\u001B[0m\u001B[1;33m\u001B[0m\u001B[1;33m\u001B[0m\u001B[0m\n",
      "\u001B[1;31mValueError\u001B[0m: None values not supported.",
      "\nDuring handling of the above exception, another exception occurred:\n",
      "\u001B[1;31mValueError\u001B[0m                                Traceback (most recent call last)",
      "\u001B[1;32mE:\\Tools\\Anaconda\\envs\\TF2.1\\lib\\site-packages\\tensorflow_core\\python\\framework\\op_def_library.py\u001B[0m in \u001B[0;36m_apply_op_helper\u001B[1;34m(op_type_name, name, **keywords)\u001B[0m\n\u001B[0;32m    481\u001B[0m             observed = ops.convert_to_tensor(\n\u001B[1;32m--> 482\u001B[1;33m                 values, as_ref=input_arg.is_ref).dtype.name\n\u001B[0m\u001B[0;32m    483\u001B[0m           \u001B[1;32mexcept\u001B[0m \u001B[0mValueError\u001B[0m \u001B[1;32mas\u001B[0m \u001B[0merr\u001B[0m\u001B[1;33m:\u001B[0m\u001B[1;33m\u001B[0m\u001B[1;33m\u001B[0m\u001B[0m\n",
      "\u001B[1;32mE:\\Tools\\Anaconda\\envs\\TF2.1\\lib\\site-packages\\tensorflow_core\\python\\framework\\ops.py\u001B[0m in \u001B[0;36mconvert_to_tensor\u001B[1;34m(value, dtype, name, as_ref, preferred_dtype, dtype_hint, ctx, accepted_result_types)\u001B[0m\n\u001B[0;32m   1313\u001B[0m     \u001B[1;32mif\u001B[0m \u001B[0mret\u001B[0m \u001B[1;32mis\u001B[0m \u001B[1;32mNone\u001B[0m\u001B[1;33m:\u001B[0m\u001B[1;33m\u001B[0m\u001B[1;33m\u001B[0m\u001B[0m\n\u001B[1;32m-> 1314\u001B[1;33m       \u001B[0mret\u001B[0m \u001B[1;33m=\u001B[0m \u001B[0mconversion_func\u001B[0m\u001B[1;33m(\u001B[0m\u001B[0mvalue\u001B[0m\u001B[1;33m,\u001B[0m \u001B[0mdtype\u001B[0m\u001B[1;33m=\u001B[0m\u001B[0mdtype\u001B[0m\u001B[1;33m,\u001B[0m \u001B[0mname\u001B[0m\u001B[1;33m=\u001B[0m\u001B[0mname\u001B[0m\u001B[1;33m,\u001B[0m \u001B[0mas_ref\u001B[0m\u001B[1;33m=\u001B[0m\u001B[0mas_ref\u001B[0m\u001B[1;33m)\u001B[0m\u001B[1;33m\u001B[0m\u001B[1;33m\u001B[0m\u001B[0m\n\u001B[0m\u001B[0;32m   1315\u001B[0m \u001B[1;33m\u001B[0m\u001B[0m\n",
      "\u001B[1;32mE:\\Tools\\Anaconda\\envs\\TF2.1\\lib\\site-packages\\tensorflow_core\\python\\framework\\constant_op.py\u001B[0m in \u001B[0;36m_constant_tensor_conversion_function\u001B[1;34m(v, dtype, name, as_ref)\u001B[0m\n\u001B[0;32m    316\u001B[0m   \u001B[0m_\u001B[0m \u001B[1;33m=\u001B[0m \u001B[0mas_ref\u001B[0m\u001B[1;33m\u001B[0m\u001B[1;33m\u001B[0m\u001B[0m\n\u001B[1;32m--> 317\u001B[1;33m   \u001B[1;32mreturn\u001B[0m \u001B[0mconstant\u001B[0m\u001B[1;33m(\u001B[0m\u001B[0mv\u001B[0m\u001B[1;33m,\u001B[0m \u001B[0mdtype\u001B[0m\u001B[1;33m=\u001B[0m\u001B[0mdtype\u001B[0m\u001B[1;33m,\u001B[0m \u001B[0mname\u001B[0m\u001B[1;33m=\u001B[0m\u001B[0mname\u001B[0m\u001B[1;33m)\u001B[0m\u001B[1;33m\u001B[0m\u001B[1;33m\u001B[0m\u001B[0m\n\u001B[0m\u001B[0;32m    318\u001B[0m \u001B[1;33m\u001B[0m\u001B[0m\n",
      "\u001B[1;32mE:\\Tools\\Anaconda\\envs\\TF2.1\\lib\\site-packages\\tensorflow_core\\python\\framework\\constant_op.py\u001B[0m in \u001B[0;36mconstant\u001B[1;34m(value, dtype, shape, name)\u001B[0m\n\u001B[0;32m    257\u001B[0m   return _constant_impl(value, dtype, shape, name, verify_shape=False,\n\u001B[1;32m--> 258\u001B[1;33m                         allow_broadcast=True)\n\u001B[0m\u001B[0;32m    259\u001B[0m \u001B[1;33m\u001B[0m\u001B[0m\n",
      "\u001B[1;32mE:\\Tools\\Anaconda\\envs\\TF2.1\\lib\\site-packages\\tensorflow_core\\python\\framework\\constant_op.py\u001B[0m in \u001B[0;36m_constant_impl\u001B[1;34m(value, dtype, shape, name, verify_shape, allow_broadcast)\u001B[0m\n\u001B[0;32m    295\u001B[0m           \u001B[0mvalue\u001B[0m\u001B[1;33m,\u001B[0m \u001B[0mdtype\u001B[0m\u001B[1;33m=\u001B[0m\u001B[0mdtype\u001B[0m\u001B[1;33m,\u001B[0m \u001B[0mshape\u001B[0m\u001B[1;33m=\u001B[0m\u001B[0mshape\u001B[0m\u001B[1;33m,\u001B[0m \u001B[0mverify_shape\u001B[0m\u001B[1;33m=\u001B[0m\u001B[0mverify_shape\u001B[0m\u001B[1;33m,\u001B[0m\u001B[1;33m\u001B[0m\u001B[1;33m\u001B[0m\u001B[0m\n\u001B[1;32m--> 296\u001B[1;33m           allow_broadcast=allow_broadcast))\n\u001B[0m\u001B[0;32m    297\u001B[0m   \u001B[0mdtype_value\u001B[0m \u001B[1;33m=\u001B[0m \u001B[0mattr_value_pb2\u001B[0m\u001B[1;33m.\u001B[0m\u001B[0mAttrValue\u001B[0m\u001B[1;33m(\u001B[0m\u001B[0mtype\u001B[0m\u001B[1;33m=\u001B[0m\u001B[0mtensor_value\u001B[0m\u001B[1;33m.\u001B[0m\u001B[0mtensor\u001B[0m\u001B[1;33m.\u001B[0m\u001B[0mdtype\u001B[0m\u001B[1;33m)\u001B[0m\u001B[1;33m\u001B[0m\u001B[1;33m\u001B[0m\u001B[0m\n",
      "\u001B[1;32mE:\\Tools\\Anaconda\\envs\\TF2.1\\lib\\site-packages\\tensorflow_core\\python\\framework\\tensor_util.py\u001B[0m in \u001B[0;36mmake_tensor_proto\u001B[1;34m(values, dtype, shape, verify_shape, allow_broadcast)\u001B[0m\n\u001B[0;32m    438\u001B[0m     \u001B[1;32mif\u001B[0m \u001B[0mvalues\u001B[0m \u001B[1;32mis\u001B[0m \u001B[1;32mNone\u001B[0m\u001B[1;33m:\u001B[0m\u001B[1;33m\u001B[0m\u001B[1;33m\u001B[0m\u001B[0m\n\u001B[1;32m--> 439\u001B[1;33m       \u001B[1;32mraise\u001B[0m \u001B[0mValueError\u001B[0m\u001B[1;33m(\u001B[0m\u001B[1;34m\"None values not supported.\"\u001B[0m\u001B[1;33m)\u001B[0m\u001B[1;33m\u001B[0m\u001B[1;33m\u001B[0m\u001B[0m\n\u001B[0m\u001B[0;32m    440\u001B[0m     \u001B[1;31m# if dtype is provided, forces numpy array to be the type\u001B[0m\u001B[1;33m\u001B[0m\u001B[1;33m\u001B[0m\u001B[1;33m\u001B[0m\u001B[0m\n",
      "\u001B[1;31mValueError\u001B[0m: None values not supported.",
      "\nDuring handling of the above exception, another exception occurred:\n",
      "\u001B[1;31mValueError\u001B[0m                                Traceback (most recent call last)",
      "\u001B[1;32m<ipython-input-15-f020551b0631>\u001B[0m in \u001B[0;36m<module>\u001B[1;34m\u001B[0m\n\u001B[0;32m     23\u001B[0m \u001B[1;31m# opt = keras.optimizers.Adam()\u001B[0m\u001B[1;33m\u001B[0m\u001B[1;33m\u001B[0m\u001B[1;33m\u001B[0m\u001B[0m\n\u001B[0;32m     24\u001B[0m \u001B[1;32mwith\u001B[0m \u001B[0mtf\u001B[0m\u001B[1;33m.\u001B[0m\u001B[0mGradientTape\u001B[0m\u001B[1;33m(\u001B[0m\u001B[0mpersistent\u001B[0m\u001B[1;33m=\u001B[0m\u001B[1;32mTrue\u001B[0m\u001B[1;33m)\u001B[0m \u001B[1;32mas\u001B[0m \u001B[0mtape\u001B[0m\u001B[1;33m:\u001B[0m\u001B[1;33m\u001B[0m\u001B[1;33m\u001B[0m\u001B[0m\n\u001B[1;32m---> 25\u001B[1;33m     \u001B[0mz\u001B[0m \u001B[1;33m=\u001B[0m \u001B[0mmodel\u001B[0m\u001B[1;33m.\u001B[0m\u001B[0mpredict\u001B[0m\u001B[1;33m(\u001B[0m\u001B[0mx\u001B[0m\u001B[1;33m)\u001B[0m\u001B[1;33m\u001B[0m\u001B[1;33m\u001B[0m\u001B[0m\n\u001B[0m\u001B[0;32m     26\u001B[0m     \u001B[1;31m# loss,transparam = crf.crf_log_likelihood(z,y,lens)\u001B[0m\u001B[1;33m\u001B[0m\u001B[1;33m\u001B[0m\u001B[1;33m\u001B[0m\u001B[0m\n\u001B[0;32m     27\u001B[0m     \u001B[1;31m# loss = tf.reduce_mean(loss)\u001B[0m\u001B[1;33m\u001B[0m\u001B[1;33m\u001B[0m\u001B[1;33m\u001B[0m\u001B[0m\n",
      "\u001B[1;32mE:\\Tools\\Anaconda\\envs\\TF2.1\\lib\\site-packages\\tensorflow_core\\python\\keras\\engine\\training.py\u001B[0m in \u001B[0;36mpredict\u001B[1;34m(self, x, batch_size, verbose, steps, callbacks, max_queue_size, workers, use_multiprocessing)\u001B[0m\n\u001B[0;32m   1011\u001B[0m         \u001B[0mmax_queue_size\u001B[0m\u001B[1;33m=\u001B[0m\u001B[0mmax_queue_size\u001B[0m\u001B[1;33m,\u001B[0m\u001B[1;33m\u001B[0m\u001B[1;33m\u001B[0m\u001B[0m\n\u001B[0;32m   1012\u001B[0m         \u001B[0mworkers\u001B[0m\u001B[1;33m=\u001B[0m\u001B[0mworkers\u001B[0m\u001B[1;33m,\u001B[0m\u001B[1;33m\u001B[0m\u001B[1;33m\u001B[0m\u001B[0m\n\u001B[1;32m-> 1013\u001B[1;33m         use_multiprocessing=use_multiprocessing)\n\u001B[0m\u001B[0;32m   1014\u001B[0m \u001B[1;33m\u001B[0m\u001B[0m\n\u001B[0;32m   1015\u001B[0m   \u001B[1;32mdef\u001B[0m \u001B[0mreset_metrics\u001B[0m\u001B[1;33m(\u001B[0m\u001B[0mself\u001B[0m\u001B[1;33m)\u001B[0m\u001B[1;33m:\u001B[0m\u001B[1;33m\u001B[0m\u001B[1;33m\u001B[0m\u001B[0m\n",
      "\u001B[1;32mE:\\Tools\\Anaconda\\envs\\TF2.1\\lib\\site-packages\\tensorflow_core\\python\\keras\\engine\\training_v2.py\u001B[0m in \u001B[0;36mpredict\u001B[1;34m(self, model, x, batch_size, verbose, steps, callbacks, max_queue_size, workers, use_multiprocessing, **kwargs)\u001B[0m\n\u001B[0;32m    496\u001B[0m         \u001B[0mmodel\u001B[0m\u001B[1;33m,\u001B[0m \u001B[0mModeKeys\u001B[0m\u001B[1;33m.\u001B[0m\u001B[0mPREDICT\u001B[0m\u001B[1;33m,\u001B[0m \u001B[0mx\u001B[0m\u001B[1;33m=\u001B[0m\u001B[0mx\u001B[0m\u001B[1;33m,\u001B[0m \u001B[0mbatch_size\u001B[0m\u001B[1;33m=\u001B[0m\u001B[0mbatch_size\u001B[0m\u001B[1;33m,\u001B[0m \u001B[0mverbose\u001B[0m\u001B[1;33m=\u001B[0m\u001B[0mverbose\u001B[0m\u001B[1;33m,\u001B[0m\u001B[1;33m\u001B[0m\u001B[1;33m\u001B[0m\u001B[0m\n\u001B[0;32m    497\u001B[0m         \u001B[0msteps\u001B[0m\u001B[1;33m=\u001B[0m\u001B[0msteps\u001B[0m\u001B[1;33m,\u001B[0m \u001B[0mcallbacks\u001B[0m\u001B[1;33m=\u001B[0m\u001B[0mcallbacks\u001B[0m\u001B[1;33m,\u001B[0m \u001B[0mmax_queue_size\u001B[0m\u001B[1;33m=\u001B[0m\u001B[0mmax_queue_size\u001B[0m\u001B[1;33m,\u001B[0m\u001B[1;33m\u001B[0m\u001B[1;33m\u001B[0m\u001B[0m\n\u001B[1;32m--> 498\u001B[1;33m         workers=workers, use_multiprocessing=use_multiprocessing, **kwargs)\n\u001B[0m\u001B[0;32m    499\u001B[0m \u001B[1;33m\u001B[0m\u001B[0m\n\u001B[0;32m    500\u001B[0m \u001B[1;33m\u001B[0m\u001B[0m\n",
      "\u001B[1;32mE:\\Tools\\Anaconda\\envs\\TF2.1\\lib\\site-packages\\tensorflow_core\\python\\keras\\engine\\training_v2.py\u001B[0m in \u001B[0;36m_model_iteration\u001B[1;34m(self, model, mode, x, y, batch_size, verbose, sample_weight, steps, callbacks, max_queue_size, workers, use_multiprocessing, **kwargs)\u001B[0m\n\u001B[0;32m    473\u001B[0m               \u001B[0mmode\u001B[0m\u001B[1;33m=\u001B[0m\u001B[0mmode\u001B[0m\u001B[1;33m,\u001B[0m\u001B[1;33m\u001B[0m\u001B[1;33m\u001B[0m\u001B[0m\n\u001B[0;32m    474\u001B[0m               \u001B[0mtraining_context\u001B[0m\u001B[1;33m=\u001B[0m\u001B[0mtraining_context\u001B[0m\u001B[1;33m,\u001B[0m\u001B[1;33m\u001B[0m\u001B[1;33m\u001B[0m\u001B[0m\n\u001B[1;32m--> 475\u001B[1;33m               total_epochs=1)\n\u001B[0m\u001B[0;32m    476\u001B[0m           \u001B[0mcbks\u001B[0m\u001B[1;33m.\u001B[0m\u001B[0mmake_logs\u001B[0m\u001B[1;33m(\u001B[0m\u001B[0mmodel\u001B[0m\u001B[1;33m,\u001B[0m \u001B[0mepoch_logs\u001B[0m\u001B[1;33m,\u001B[0m \u001B[0mresult\u001B[0m\u001B[1;33m,\u001B[0m \u001B[0mmode\u001B[0m\u001B[1;33m)\u001B[0m\u001B[1;33m\u001B[0m\u001B[1;33m\u001B[0m\u001B[0m\n\u001B[0;32m    477\u001B[0m \u001B[1;33m\u001B[0m\u001B[0m\n",
      "\u001B[1;32mE:\\Tools\\Anaconda\\envs\\TF2.1\\lib\\site-packages\\tensorflow_core\\python\\keras\\engine\\training_v2.py\u001B[0m in \u001B[0;36mrun_one_epoch\u001B[1;34m(model, iterator, execution_function, dataset_size, batch_size, strategy, steps_per_epoch, num_samples, mode, training_context, total_epochs)\u001B[0m\n\u001B[0;32m    126\u001B[0m         step=step, mode=mode, size=current_batch_size) as batch_logs:\n\u001B[0;32m    127\u001B[0m       \u001B[1;32mtry\u001B[0m\u001B[1;33m:\u001B[0m\u001B[1;33m\u001B[0m\u001B[1;33m\u001B[0m\u001B[0m\n\u001B[1;32m--> 128\u001B[1;33m         \u001B[0mbatch_outs\u001B[0m \u001B[1;33m=\u001B[0m \u001B[0mexecution_function\u001B[0m\u001B[1;33m(\u001B[0m\u001B[0miterator\u001B[0m\u001B[1;33m)\u001B[0m\u001B[1;33m\u001B[0m\u001B[1;33m\u001B[0m\u001B[0m\n\u001B[0m\u001B[0;32m    129\u001B[0m       \u001B[1;32mexcept\u001B[0m \u001B[1;33m(\u001B[0m\u001B[0mStopIteration\u001B[0m\u001B[1;33m,\u001B[0m \u001B[0merrors\u001B[0m\u001B[1;33m.\u001B[0m\u001B[0mOutOfRangeError\u001B[0m\u001B[1;33m)\u001B[0m\u001B[1;33m:\u001B[0m\u001B[1;33m\u001B[0m\u001B[1;33m\u001B[0m\u001B[0m\n\u001B[0;32m    130\u001B[0m         \u001B[1;31m# TODO(kaftan): File bug about tf function and errors.OutOfRangeError?\u001B[0m\u001B[1;33m\u001B[0m\u001B[1;33m\u001B[0m\u001B[1;33m\u001B[0m\u001B[0m\n",
      "\u001B[1;32mE:\\Tools\\Anaconda\\envs\\TF2.1\\lib\\site-packages\\tensorflow_core\\python\\keras\\engine\\training_v2_utils.py\u001B[0m in \u001B[0;36mexecution_function\u001B[1;34m(input_fn)\u001B[0m\n\u001B[0;32m     96\u001B[0m     \u001B[1;31m# `numpy` translates Tensors to values in Eager mode.\u001B[0m\u001B[1;33m\u001B[0m\u001B[1;33m\u001B[0m\u001B[1;33m\u001B[0m\u001B[0m\n\u001B[0;32m     97\u001B[0m     return nest.map_structure(_non_none_constant_value,\n\u001B[1;32m---> 98\u001B[1;33m                               distributed_function(input_fn))\n\u001B[0m\u001B[0;32m     99\u001B[0m \u001B[1;33m\u001B[0m\u001B[0m\n\u001B[0;32m    100\u001B[0m   \u001B[1;32mreturn\u001B[0m \u001B[0mexecution_function\u001B[0m\u001B[1;33m\u001B[0m\u001B[1;33m\u001B[0m\u001B[0m\n",
      "\u001B[1;32mE:\\Tools\\Anaconda\\envs\\TF2.1\\lib\\site-packages\\tensorflow_core\\python\\eager\\def_function.py\u001B[0m in \u001B[0;36m__call__\u001B[1;34m(self, *args, **kwds)\u001B[0m\n\u001B[0;32m    566\u001B[0m         \u001B[0mxla_context\u001B[0m\u001B[1;33m.\u001B[0m\u001B[0mExit\u001B[0m\u001B[1;33m(\u001B[0m\u001B[1;33m)\u001B[0m\u001B[1;33m\u001B[0m\u001B[1;33m\u001B[0m\u001B[0m\n\u001B[0;32m    567\u001B[0m     \u001B[1;32melse\u001B[0m\u001B[1;33m:\u001B[0m\u001B[1;33m\u001B[0m\u001B[1;33m\u001B[0m\u001B[0m\n\u001B[1;32m--> 568\u001B[1;33m       \u001B[0mresult\u001B[0m \u001B[1;33m=\u001B[0m \u001B[0mself\u001B[0m\u001B[1;33m.\u001B[0m\u001B[0m_call\u001B[0m\u001B[1;33m(\u001B[0m\u001B[1;33m*\u001B[0m\u001B[0margs\u001B[0m\u001B[1;33m,\u001B[0m \u001B[1;33m**\u001B[0m\u001B[0mkwds\u001B[0m\u001B[1;33m)\u001B[0m\u001B[1;33m\u001B[0m\u001B[1;33m\u001B[0m\u001B[0m\n\u001B[0m\u001B[0;32m    569\u001B[0m \u001B[1;33m\u001B[0m\u001B[0m\n\u001B[0;32m    570\u001B[0m     \u001B[1;32mif\u001B[0m \u001B[0mtracing_count\u001B[0m \u001B[1;33m==\u001B[0m \u001B[0mself\u001B[0m\u001B[1;33m.\u001B[0m\u001B[0m_get_tracing_count\u001B[0m\u001B[1;33m(\u001B[0m\u001B[1;33m)\u001B[0m\u001B[1;33m:\u001B[0m\u001B[1;33m\u001B[0m\u001B[1;33m\u001B[0m\u001B[0m\n",
      "\u001B[1;32mE:\\Tools\\Anaconda\\envs\\TF2.1\\lib\\site-packages\\tensorflow_core\\python\\eager\\def_function.py\u001B[0m in \u001B[0;36m_call\u001B[1;34m(self, *args, **kwds)\u001B[0m\n\u001B[0;32m    636\u001B[0m               *args, **kwds)\n\u001B[0;32m    637\u001B[0m       \u001B[1;31m# If we did not create any variables the trace we have is good enough.\u001B[0m\u001B[1;33m\u001B[0m\u001B[1;33m\u001B[0m\u001B[1;33m\u001B[0m\u001B[0m\n\u001B[1;32m--> 638\u001B[1;33m       \u001B[1;32mreturn\u001B[0m \u001B[0mself\u001B[0m\u001B[1;33m.\u001B[0m\u001B[0m_concrete_stateful_fn\u001B[0m\u001B[1;33m.\u001B[0m\u001B[0m_filtered_call\u001B[0m\u001B[1;33m(\u001B[0m\u001B[0mcanon_args\u001B[0m\u001B[1;33m,\u001B[0m \u001B[0mcanon_kwds\u001B[0m\u001B[1;33m)\u001B[0m  \u001B[1;31m# pylint: disable=protected-access\u001B[0m\u001B[1;33m\u001B[0m\u001B[1;33m\u001B[0m\u001B[0m\n\u001B[0m\u001B[0;32m    639\u001B[0m \u001B[1;33m\u001B[0m\u001B[0m\n\u001B[0;32m    640\u001B[0m     \u001B[1;32mdef\u001B[0m \u001B[0mfn_with_cond\u001B[0m\u001B[1;33m(\u001B[0m\u001B[1;33m*\u001B[0m\u001B[0minner_args\u001B[0m\u001B[1;33m,\u001B[0m \u001B[1;33m**\u001B[0m\u001B[0minner_kwds\u001B[0m\u001B[1;33m)\u001B[0m\u001B[1;33m:\u001B[0m\u001B[1;33m\u001B[0m\u001B[1;33m\u001B[0m\u001B[0m\n",
      "\u001B[1;32mE:\\Tools\\Anaconda\\envs\\TF2.1\\lib\\site-packages\\tensorflow_core\\python\\eager\\function.py\u001B[0m in \u001B[0;36m_filtered_call\u001B[1;34m(self, args, kwargs)\u001B[0m\n\u001B[0;32m   1609\u001B[0m          if isinstance(t, (ops.Tensor,\n\u001B[0;32m   1610\u001B[0m                            resource_variable_ops.BaseResourceVariable))),\n\u001B[1;32m-> 1611\u001B[1;33m         self.captured_inputs)\n\u001B[0m\u001B[0;32m   1612\u001B[0m \u001B[1;33m\u001B[0m\u001B[0m\n\u001B[0;32m   1613\u001B[0m   \u001B[1;32mdef\u001B[0m \u001B[0m_call_flat\u001B[0m\u001B[1;33m(\u001B[0m\u001B[0mself\u001B[0m\u001B[1;33m,\u001B[0m \u001B[0margs\u001B[0m\u001B[1;33m,\u001B[0m \u001B[0mcaptured_inputs\u001B[0m\u001B[1;33m,\u001B[0m \u001B[0mcancellation_manager\u001B[0m\u001B[1;33m=\u001B[0m\u001B[1;32mNone\u001B[0m\u001B[1;33m)\u001B[0m\u001B[1;33m:\u001B[0m\u001B[1;33m\u001B[0m\u001B[1;33m\u001B[0m\u001B[0m\n",
      "\u001B[1;32mE:\\Tools\\Anaconda\\envs\\TF2.1\\lib\\site-packages\\tensorflow_core\\python\\eager\\function.py\u001B[0m in \u001B[0;36m_call_flat\u001B[1;34m(self, args, captured_inputs, cancellation_manager)\u001B[0m\n\u001B[0;32m   1695\u001B[0m         \u001B[0mpossible_gradient_type\u001B[0m\u001B[1;33m,\u001B[0m\u001B[1;33m\u001B[0m\u001B[1;33m\u001B[0m\u001B[0m\n\u001B[0;32m   1696\u001B[0m         executing_eagerly)\n\u001B[1;32m-> 1697\u001B[1;33m     \u001B[0mforward_function\u001B[0m\u001B[1;33m,\u001B[0m \u001B[0margs_with_tangents\u001B[0m \u001B[1;33m=\u001B[0m \u001B[0mforward_backward\u001B[0m\u001B[1;33m.\u001B[0m\u001B[0mforward\u001B[0m\u001B[1;33m(\u001B[0m\u001B[1;33m)\u001B[0m\u001B[1;33m\u001B[0m\u001B[1;33m\u001B[0m\u001B[0m\n\u001B[0m\u001B[0;32m   1698\u001B[0m     \u001B[1;32mif\u001B[0m \u001B[0mexecuting_eagerly\u001B[0m\u001B[1;33m:\u001B[0m\u001B[1;33m\u001B[0m\u001B[1;33m\u001B[0m\u001B[0m\n\u001B[0;32m   1699\u001B[0m       flat_outputs = forward_function.call(\n",
      "\u001B[1;32mE:\\Tools\\Anaconda\\envs\\TF2.1\\lib\\site-packages\\tensorflow_core\\python\\eager\\function.py\u001B[0m in \u001B[0;36mforward\u001B[1;34m(self)\u001B[0m\n\u001B[0;32m   1421\u001B[0m     \u001B[1;34m\"\"\"Builds or retrieves a forward function for this call.\"\"\"\u001B[0m\u001B[1;33m\u001B[0m\u001B[1;33m\u001B[0m\u001B[0m\n\u001B[0;32m   1422\u001B[0m     forward_function = self._functions.forward(\n\u001B[1;32m-> 1423\u001B[1;33m         self._inference_args, self._input_tangents)\n\u001B[0m\u001B[0;32m   1424\u001B[0m     \u001B[1;32mreturn\u001B[0m \u001B[0mforward_function\u001B[0m\u001B[1;33m,\u001B[0m \u001B[0mself\u001B[0m\u001B[1;33m.\u001B[0m\u001B[0m_inference_args\u001B[0m \u001B[1;33m+\u001B[0m \u001B[0mself\u001B[0m\u001B[1;33m.\u001B[0m\u001B[0m_input_tangents\u001B[0m\u001B[1;33m\u001B[0m\u001B[1;33m\u001B[0m\u001B[0m\n\u001B[0;32m   1425\u001B[0m \u001B[1;33m\u001B[0m\u001B[0m\n",
      "\u001B[1;32mE:\\Tools\\Anaconda\\envs\\TF2.1\\lib\\site-packages\\tensorflow_core\\python\\eager\\function.py\u001B[0m in \u001B[0;36mforward\u001B[1;34m(self, inference_args, input_tangents)\u001B[0m\n\u001B[0;32m   1183\u001B[0m       (self._forward, self._forward_graph, self._backward,\n\u001B[0;32m   1184\u001B[0m        \u001B[0mself\u001B[0m\u001B[1;33m.\u001B[0m\u001B[0m_forwardprop_output_indices\u001B[0m\u001B[1;33m,\u001B[0m \u001B[0mself\u001B[0m\u001B[1;33m.\u001B[0m\u001B[0m_num_forwardprop_outputs\u001B[0m\u001B[1;33m)\u001B[0m \u001B[1;33m=\u001B[0m \u001B[1;33m(\u001B[0m\u001B[1;33m\u001B[0m\u001B[1;33m\u001B[0m\u001B[0m\n\u001B[1;32m-> 1185\u001B[1;33m            self._forward_and_backward_functions(inference_args, input_tangents))\n\u001B[0m\u001B[0;32m   1186\u001B[0m     \u001B[1;32mreturn\u001B[0m \u001B[0mself\u001B[0m\u001B[1;33m.\u001B[0m\u001B[0m_forward\u001B[0m\u001B[1;33m\u001B[0m\u001B[1;33m\u001B[0m\u001B[0m\n\u001B[0;32m   1187\u001B[0m \u001B[1;33m\u001B[0m\u001B[0m\n",
      "\u001B[1;32mE:\\Tools\\Anaconda\\envs\\TF2.1\\lib\\site-packages\\tensorflow_core\\python\\eager\\function.py\u001B[0m in \u001B[0;36m_forward_and_backward_functions\u001B[1;34m(self, inference_args, input_tangents)\u001B[0m\n\u001B[0;32m   1377\u001B[0m       \u001B[0moutputs\u001B[0m \u001B[1;33m=\u001B[0m \u001B[0mlist\u001B[0m\u001B[1;33m(\u001B[0m\u001B[0mself\u001B[0m\u001B[1;33m.\u001B[0m\u001B[0m_func_graph\u001B[0m\u001B[1;33m.\u001B[0m\u001B[0moutputs\u001B[0m\u001B[1;33m)\u001B[0m\u001B[1;33m\u001B[0m\u001B[1;33m\u001B[0m\u001B[0m\n\u001B[0;32m   1378\u001B[0m       self._build_functions_for_outputs(\n\u001B[1;32m-> 1379\u001B[1;33m           outputs, inference_args, input_tangents)\n\u001B[0m\u001B[0;32m   1380\u001B[0m     (forward_function, forward_graph,\n\u001B[0;32m   1381\u001B[0m      \u001B[0mbackward_function\u001B[0m\u001B[1;33m,\u001B[0m \u001B[0moutput_indices\u001B[0m\u001B[1;33m,\u001B[0m \u001B[0mnum_output_tangents\u001B[0m\u001B[1;33m)\u001B[0m \u001B[1;33m=\u001B[0m \u001B[1;33m(\u001B[0m\u001B[1;33m\u001B[0m\u001B[1;33m\u001B[0m\u001B[0m\n",
      "\u001B[1;32mE:\\Tools\\Anaconda\\envs\\TF2.1\\lib\\site-packages\\tensorflow_core\\python\\eager\\function.py\u001B[0m in \u001B[0;36m_build_functions_for_outputs\u001B[1;34m(self, outputs, inference_args, input_tangents)\u001B[0m\n\u001B[0;32m    888\u001B[0m             \u001B[0mself\u001B[0m\u001B[1;33m.\u001B[0m\u001B[0m_func_graph\u001B[0m\u001B[1;33m.\u001B[0m\u001B[0minputs\u001B[0m\u001B[1;33m,\u001B[0m\u001B[1;33m\u001B[0m\u001B[1;33m\u001B[0m\u001B[0m\n\u001B[0;32m    889\u001B[0m             \u001B[0mgrad_ys\u001B[0m\u001B[1;33m=\u001B[0m\u001B[0mgradients_wrt_outputs\u001B[0m\u001B[1;33m,\u001B[0m\u001B[1;33m\u001B[0m\u001B[1;33m\u001B[0m\u001B[0m\n\u001B[1;32m--> 890\u001B[1;33m             src_graph=self._func_graph)\n\u001B[0m\u001B[0;32m    891\u001B[0m \u001B[1;33m\u001B[0m\u001B[0m\n\u001B[0;32m    892\u001B[0m       captures_from_forward = [\n",
      "\u001B[1;32mE:\\Tools\\Anaconda\\envs\\TF2.1\\lib\\site-packages\\tensorflow_core\\python\\ops\\gradients_util.py\u001B[0m in \u001B[0;36m_GradientsHelper\u001B[1;34m(ys, xs, grad_ys, name, colocate_gradients_with_ops, gate_gradients, aggregation_method, stop_gradients, unconnected_gradients, src_graph)\u001B[0m\n\u001B[0;32m    667\u001B[0m                 \u001B[1;31m# functions.\u001B[0m\u001B[1;33m\u001B[0m\u001B[1;33m\u001B[0m\u001B[1;33m\u001B[0m\u001B[0m\n\u001B[0;32m    668\u001B[0m                 in_grads = _MaybeCompile(grad_scope, op, func_call,\n\u001B[1;32m--> 669\u001B[1;33m                                          lambda: grad_fn(op, *out_grads))\n\u001B[0m\u001B[0;32m    670\u001B[0m               \u001B[1;32melse\u001B[0m\u001B[1;33m:\u001B[0m\u001B[1;33m\u001B[0m\u001B[1;33m\u001B[0m\u001B[0m\n\u001B[0;32m    671\u001B[0m                 \u001B[1;31m# For function call ops, we add a 'SymbolicGradient'\u001B[0m\u001B[1;33m\u001B[0m\u001B[1;33m\u001B[0m\u001B[1;33m\u001B[0m\u001B[0m\n",
      "\u001B[1;32mE:\\Tools\\Anaconda\\envs\\TF2.1\\lib\\site-packages\\tensorflow_core\\python\\ops\\gradients_util.py\u001B[0m in \u001B[0;36m_MaybeCompile\u001B[1;34m(scope, op, func, grad_fn)\u001B[0m\n\u001B[0;32m    334\u001B[0m       \u001B[0mxla_scope\u001B[0m \u001B[1;33m=\u001B[0m \u001B[0mop\u001B[0m\u001B[1;33m.\u001B[0m\u001B[0mget_attr\u001B[0m\u001B[1;33m(\u001B[0m\u001B[1;34m\"_XlaScope\"\u001B[0m\u001B[1;33m)\u001B[0m\u001B[1;33m.\u001B[0m\u001B[0mdecode\u001B[0m\u001B[1;33m(\u001B[0m\u001B[1;33m)\u001B[0m\u001B[1;33m\u001B[0m\u001B[1;33m\u001B[0m\u001B[0m\n\u001B[0;32m    335\u001B[0m     \u001B[1;32mexcept\u001B[0m \u001B[0mValueError\u001B[0m\u001B[1;33m:\u001B[0m\u001B[1;33m\u001B[0m\u001B[1;33m\u001B[0m\u001B[0m\n\u001B[1;32m--> 336\u001B[1;33m       \u001B[1;32mreturn\u001B[0m \u001B[0mgrad_fn\u001B[0m\u001B[1;33m(\u001B[0m\u001B[1;33m)\u001B[0m  \u001B[1;31m# Exit early\u001B[0m\u001B[1;33m\u001B[0m\u001B[1;33m\u001B[0m\u001B[0m\n\u001B[0m\u001B[0;32m    337\u001B[0m \u001B[1;33m\u001B[0m\u001B[0m\n\u001B[0;32m    338\u001B[0m   \u001B[1;32mif\u001B[0m \u001B[1;32mnot\u001B[0m \u001B[0mxla_compile\u001B[0m\u001B[1;33m:\u001B[0m\u001B[1;33m\u001B[0m\u001B[1;33m\u001B[0m\u001B[0m\n",
      "\u001B[1;32mE:\\Tools\\Anaconda\\envs\\TF2.1\\lib\\site-packages\\tensorflow_core\\python\\ops\\gradients_util.py\u001B[0m in \u001B[0;36m<lambda>\u001B[1;34m()\u001B[0m\n\u001B[0;32m    667\u001B[0m                 \u001B[1;31m# functions.\u001B[0m\u001B[1;33m\u001B[0m\u001B[1;33m\u001B[0m\u001B[1;33m\u001B[0m\u001B[0m\n\u001B[0;32m    668\u001B[0m                 in_grads = _MaybeCompile(grad_scope, op, func_call,\n\u001B[1;32m--> 669\u001B[1;33m                                          lambda: grad_fn(op, *out_grads))\n\u001B[0m\u001B[0;32m    670\u001B[0m               \u001B[1;32melse\u001B[0m\u001B[1;33m:\u001B[0m\u001B[1;33m\u001B[0m\u001B[1;33m\u001B[0m\u001B[0m\n\u001B[0;32m    671\u001B[0m                 \u001B[1;31m# For function call ops, we add a 'SymbolicGradient'\u001B[0m\u001B[1;33m\u001B[0m\u001B[1;33m\u001B[0m\u001B[1;33m\u001B[0m\u001B[0m\n",
      "\u001B[1;32mE:\\Tools\\Anaconda\\envs\\TF2.1\\lib\\site-packages\\tensorflow_core\\python\\eager\\function.py\u001B[0m in \u001B[0;36m_rewrite_forward_and_call_backward\u001B[1;34m(self, op, *doutputs)\u001B[0m\n\u001B[0;32m    741\u001B[0m     \u001B[1;31m# Compute the gradients using the side outputs\u001B[0m\u001B[1;33m\u001B[0m\u001B[1;33m\u001B[0m\u001B[1;33m\u001B[0m\u001B[0m\n\u001B[0;32m    742\u001B[0m     return backwards_function._call_flat(  # pylint: disable=protected-access\n\u001B[1;32m--> 743\u001B[1;33m         cleaned_doutputs, remapped_captures)\n\u001B[0m\u001B[0;32m    744\u001B[0m \u001B[1;33m\u001B[0m\u001B[0m\n\u001B[0;32m    745\u001B[0m   \u001B[1;32mdef\u001B[0m \u001B[0mget_gradient_function\u001B[0m\u001B[1;33m(\u001B[0m\u001B[0mself\u001B[0m\u001B[1;33m)\u001B[0m\u001B[1;33m:\u001B[0m\u001B[1;33m\u001B[0m\u001B[1;33m\u001B[0m\u001B[0m\n",
      "\u001B[1;32mE:\\Tools\\Anaconda\\envs\\TF2.1\\lib\\site-packages\\tensorflow_core\\python\\eager\\function.py\u001B[0m in \u001B[0;36m_call_flat\u001B[1;34m(self, args, captured_inputs, cancellation_manager)\u001B[0m\n\u001B[0;32m   1695\u001B[0m         \u001B[0mpossible_gradient_type\u001B[0m\u001B[1;33m,\u001B[0m\u001B[1;33m\u001B[0m\u001B[1;33m\u001B[0m\u001B[0m\n\u001B[0;32m   1696\u001B[0m         executing_eagerly)\n\u001B[1;32m-> 1697\u001B[1;33m     \u001B[0mforward_function\u001B[0m\u001B[1;33m,\u001B[0m \u001B[0margs_with_tangents\u001B[0m \u001B[1;33m=\u001B[0m \u001B[0mforward_backward\u001B[0m\u001B[1;33m.\u001B[0m\u001B[0mforward\u001B[0m\u001B[1;33m(\u001B[0m\u001B[1;33m)\u001B[0m\u001B[1;33m\u001B[0m\u001B[1;33m\u001B[0m\u001B[0m\n\u001B[0m\u001B[0;32m   1698\u001B[0m     \u001B[1;32mif\u001B[0m \u001B[0mexecuting_eagerly\u001B[0m\u001B[1;33m:\u001B[0m\u001B[1;33m\u001B[0m\u001B[1;33m\u001B[0m\u001B[0m\n\u001B[0;32m   1699\u001B[0m       flat_outputs = forward_function.call(\n",
      "\u001B[1;32mE:\\Tools\\Anaconda\\envs\\TF2.1\\lib\\site-packages\\tensorflow_core\\python\\eager\\function.py\u001B[0m in \u001B[0;36mforward\u001B[1;34m(self)\u001B[0m\n\u001B[0;32m   1421\u001B[0m     \u001B[1;34m\"\"\"Builds or retrieves a forward function for this call.\"\"\"\u001B[0m\u001B[1;33m\u001B[0m\u001B[1;33m\u001B[0m\u001B[0m\n\u001B[0;32m   1422\u001B[0m     forward_function = self._functions.forward(\n\u001B[1;32m-> 1423\u001B[1;33m         self._inference_args, self._input_tangents)\n\u001B[0m\u001B[0;32m   1424\u001B[0m     \u001B[1;32mreturn\u001B[0m \u001B[0mforward_function\u001B[0m\u001B[1;33m,\u001B[0m \u001B[0mself\u001B[0m\u001B[1;33m.\u001B[0m\u001B[0m_inference_args\u001B[0m \u001B[1;33m+\u001B[0m \u001B[0mself\u001B[0m\u001B[1;33m.\u001B[0m\u001B[0m_input_tangents\u001B[0m\u001B[1;33m\u001B[0m\u001B[1;33m\u001B[0m\u001B[0m\n\u001B[0;32m   1425\u001B[0m \u001B[1;33m\u001B[0m\u001B[0m\n",
      "\u001B[1;32mE:\\Tools\\Anaconda\\envs\\TF2.1\\lib\\site-packages\\tensorflow_core\\python\\eager\\function.py\u001B[0m in \u001B[0;36mforward\u001B[1;34m(self, inference_args, input_tangents)\u001B[0m\n\u001B[0;32m   1183\u001B[0m       (self._forward, self._forward_graph, self._backward,\n\u001B[0;32m   1184\u001B[0m        \u001B[0mself\u001B[0m\u001B[1;33m.\u001B[0m\u001B[0m_forwardprop_output_indices\u001B[0m\u001B[1;33m,\u001B[0m \u001B[0mself\u001B[0m\u001B[1;33m.\u001B[0m\u001B[0m_num_forwardprop_outputs\u001B[0m\u001B[1;33m)\u001B[0m \u001B[1;33m=\u001B[0m \u001B[1;33m(\u001B[0m\u001B[1;33m\u001B[0m\u001B[1;33m\u001B[0m\u001B[0m\n\u001B[1;32m-> 1185\u001B[1;33m            self._forward_and_backward_functions(inference_args, input_tangents))\n\u001B[0m\u001B[0;32m   1186\u001B[0m     \u001B[1;32mreturn\u001B[0m \u001B[0mself\u001B[0m\u001B[1;33m.\u001B[0m\u001B[0m_forward\u001B[0m\u001B[1;33m\u001B[0m\u001B[1;33m\u001B[0m\u001B[0m\n\u001B[0;32m   1187\u001B[0m \u001B[1;33m\u001B[0m\u001B[0m\n",
      "\u001B[1;32mE:\\Tools\\Anaconda\\envs\\TF2.1\\lib\\site-packages\\tensorflow_core\\python\\eager\\function.py\u001B[0m in \u001B[0;36m_forward_and_backward_functions\u001B[1;34m(self, inference_args, input_tangents)\u001B[0m\n\u001B[0;32m   1377\u001B[0m       \u001B[0moutputs\u001B[0m \u001B[1;33m=\u001B[0m \u001B[0mlist\u001B[0m\u001B[1;33m(\u001B[0m\u001B[0mself\u001B[0m\u001B[1;33m.\u001B[0m\u001B[0m_func_graph\u001B[0m\u001B[1;33m.\u001B[0m\u001B[0moutputs\u001B[0m\u001B[1;33m)\u001B[0m\u001B[1;33m\u001B[0m\u001B[1;33m\u001B[0m\u001B[0m\n\u001B[0;32m   1378\u001B[0m       self._build_functions_for_outputs(\n\u001B[1;32m-> 1379\u001B[1;33m           outputs, inference_args, input_tangents)\n\u001B[0m\u001B[0;32m   1380\u001B[0m     (forward_function, forward_graph,\n\u001B[0;32m   1381\u001B[0m      \u001B[0mbackward_function\u001B[0m\u001B[1;33m,\u001B[0m \u001B[0moutput_indices\u001B[0m\u001B[1;33m,\u001B[0m \u001B[0mnum_output_tangents\u001B[0m\u001B[1;33m)\u001B[0m \u001B[1;33m=\u001B[0m \u001B[1;33m(\u001B[0m\u001B[1;33m\u001B[0m\u001B[1;33m\u001B[0m\u001B[0m\n",
      "\u001B[1;32mE:\\Tools\\Anaconda\\envs\\TF2.1\\lib\\site-packages\\tensorflow_core\\python\\eager\\function.py\u001B[0m in \u001B[0;36m_build_functions_for_outputs\u001B[1;34m(self, outputs, inference_args, input_tangents)\u001B[0m\n\u001B[0;32m    888\u001B[0m             \u001B[0mself\u001B[0m\u001B[1;33m.\u001B[0m\u001B[0m_func_graph\u001B[0m\u001B[1;33m.\u001B[0m\u001B[0minputs\u001B[0m\u001B[1;33m,\u001B[0m\u001B[1;33m\u001B[0m\u001B[1;33m\u001B[0m\u001B[0m\n\u001B[0;32m    889\u001B[0m             \u001B[0mgrad_ys\u001B[0m\u001B[1;33m=\u001B[0m\u001B[0mgradients_wrt_outputs\u001B[0m\u001B[1;33m,\u001B[0m\u001B[1;33m\u001B[0m\u001B[1;33m\u001B[0m\u001B[0m\n\u001B[1;32m--> 890\u001B[1;33m             src_graph=self._func_graph)\n\u001B[0m\u001B[0;32m    891\u001B[0m \u001B[1;33m\u001B[0m\u001B[0m\n\u001B[0;32m    892\u001B[0m       captures_from_forward = [\n",
      "\u001B[1;32mE:\\Tools\\Anaconda\\envs\\TF2.1\\lib\\site-packages\\tensorflow_core\\python\\ops\\gradients_util.py\u001B[0m in \u001B[0;36m_GradientsHelper\u001B[1;34m(ys, xs, grad_ys, name, colocate_gradients_with_ops, gate_gradients, aggregation_method, stop_gradients, unconnected_gradients, src_graph)\u001B[0m\n\u001B[0;32m    667\u001B[0m                 \u001B[1;31m# functions.\u001B[0m\u001B[1;33m\u001B[0m\u001B[1;33m\u001B[0m\u001B[1;33m\u001B[0m\u001B[0m\n\u001B[0;32m    668\u001B[0m                 in_grads = _MaybeCompile(grad_scope, op, func_call,\n\u001B[1;32m--> 669\u001B[1;33m                                          lambda: grad_fn(op, *out_grads))\n\u001B[0m\u001B[0;32m    670\u001B[0m               \u001B[1;32melse\u001B[0m\u001B[1;33m:\u001B[0m\u001B[1;33m\u001B[0m\u001B[1;33m\u001B[0m\u001B[0m\n\u001B[0;32m    671\u001B[0m                 \u001B[1;31m# For function call ops, we add a 'SymbolicGradient'\u001B[0m\u001B[1;33m\u001B[0m\u001B[1;33m\u001B[0m\u001B[1;33m\u001B[0m\u001B[0m\n",
      "\u001B[1;32mE:\\Tools\\Anaconda\\envs\\TF2.1\\lib\\site-packages\\tensorflow_core\\python\\ops\\gradients_util.py\u001B[0m in \u001B[0;36m_MaybeCompile\u001B[1;34m(scope, op, func, grad_fn)\u001B[0m\n\u001B[0;32m    334\u001B[0m       \u001B[0mxla_scope\u001B[0m \u001B[1;33m=\u001B[0m \u001B[0mop\u001B[0m\u001B[1;33m.\u001B[0m\u001B[0mget_attr\u001B[0m\u001B[1;33m(\u001B[0m\u001B[1;34m\"_XlaScope\"\u001B[0m\u001B[1;33m)\u001B[0m\u001B[1;33m.\u001B[0m\u001B[0mdecode\u001B[0m\u001B[1;33m(\u001B[0m\u001B[1;33m)\u001B[0m\u001B[1;33m\u001B[0m\u001B[1;33m\u001B[0m\u001B[0m\n\u001B[0;32m    335\u001B[0m     \u001B[1;32mexcept\u001B[0m \u001B[0mValueError\u001B[0m\u001B[1;33m:\u001B[0m\u001B[1;33m\u001B[0m\u001B[1;33m\u001B[0m\u001B[0m\n\u001B[1;32m--> 336\u001B[1;33m       \u001B[1;32mreturn\u001B[0m \u001B[0mgrad_fn\u001B[0m\u001B[1;33m(\u001B[0m\u001B[1;33m)\u001B[0m  \u001B[1;31m# Exit early\u001B[0m\u001B[1;33m\u001B[0m\u001B[1;33m\u001B[0m\u001B[0m\n\u001B[0m\u001B[0;32m    337\u001B[0m \u001B[1;33m\u001B[0m\u001B[0m\n\u001B[0;32m    338\u001B[0m   \u001B[1;32mif\u001B[0m \u001B[1;32mnot\u001B[0m \u001B[0mxla_compile\u001B[0m\u001B[1;33m:\u001B[0m\u001B[1;33m\u001B[0m\u001B[1;33m\u001B[0m\u001B[0m\n",
      "\u001B[1;32mE:\\Tools\\Anaconda\\envs\\TF2.1\\lib\\site-packages\\tensorflow_core\\python\\ops\\gradients_util.py\u001B[0m in \u001B[0;36m<lambda>\u001B[1;34m()\u001B[0m\n\u001B[0;32m    667\u001B[0m                 \u001B[1;31m# functions.\u001B[0m\u001B[1;33m\u001B[0m\u001B[1;33m\u001B[0m\u001B[1;33m\u001B[0m\u001B[0m\n\u001B[0;32m    668\u001B[0m                 in_grads = _MaybeCompile(grad_scope, op, func_call,\n\u001B[1;32m--> 669\u001B[1;33m                                          lambda: grad_fn(op, *out_grads))\n\u001B[0m\u001B[0;32m    670\u001B[0m               \u001B[1;32melse\u001B[0m\u001B[1;33m:\u001B[0m\u001B[1;33m\u001B[0m\u001B[1;33m\u001B[0m\u001B[0m\n\u001B[0;32m    671\u001B[0m                 \u001B[1;31m# For function call ops, we add a 'SymbolicGradient'\u001B[0m\u001B[1;33m\u001B[0m\u001B[1;33m\u001B[0m\u001B[1;33m\u001B[0m\u001B[0m\n",
      "\u001B[1;32mE:\\Tools\\Anaconda\\envs\\TF2.1\\lib\\site-packages\\tensorflow_core\\python\\ops\\while_v2.py\u001B[0m in \u001B[0;36m_WhileGrad\u001B[1;34m(op, *grads)\u001B[0m\n\u001B[0;32m    357\u001B[0m   body_grad_graph, args = _create_grad_func(\n\u001B[0;32m    358\u001B[0m       \u001B[0mys\u001B[0m\u001B[1;33m,\u001B[0m \u001B[0mxs\u001B[0m\u001B[1;33m,\u001B[0m \u001B[0mnon_none_grads\u001B[0m\u001B[1;33m,\u001B[0m \u001B[0mcond_graph\u001B[0m\u001B[1;33m,\u001B[0m \u001B[0mbody_graph\u001B[0m\u001B[1;33m,\u001B[0m\u001B[1;33m\u001B[0m\u001B[1;33m\u001B[0m\u001B[0m\n\u001B[1;32m--> 359\u001B[1;33m       util.unique_grad_fn_name(body_graph.name), op, maximum_iterations)\n\u001B[0m\u001B[0;32m    360\u001B[0m \u001B[1;33m\u001B[0m\u001B[0m\n\u001B[0;32m    361\u001B[0m   \u001B[1;32mif\u001B[0m \u001B[0mbody_grad_graph\u001B[0m\u001B[1;33m.\u001B[0m\u001B[0mwhile_op_needs_rewrite\u001B[0m\u001B[1;33m:\u001B[0m\u001B[1;33m\u001B[0m\u001B[1;33m\u001B[0m\u001B[0m\n",
      "\u001B[1;32mE:\\Tools\\Anaconda\\envs\\TF2.1\\lib\\site-packages\\tensorflow_core\\python\\ops\\while_v2.py\u001B[0m in \u001B[0;36m_create_grad_func\u001B[1;34m(ys, xs, grads, cond_graph, body_graph, name, while_op, maximum_iterations)\u001B[0m\n\u001B[0;32m    599\u001B[0m       func_graph=_WhileBodyGradFuncGraph(name, cond_graph, body_graph,\n\u001B[0;32m    600\u001B[0m                                          \u001B[0mmaximum_iterations\u001B[0m\u001B[1;33m,\u001B[0m \u001B[0mwhile_op\u001B[0m\u001B[1;33m,\u001B[0m\u001B[1;33m\u001B[0m\u001B[1;33m\u001B[0m\u001B[0m\n\u001B[1;32m--> 601\u001B[1;33m                                          body_graph_inputs, body_graph_outputs))\n\u001B[0m\u001B[0;32m    602\u001B[0m \u001B[1;33m\u001B[0m\u001B[0m\n\u001B[0;32m    603\u001B[0m   \u001B[1;31m# Update the list of outputs with tensors corresponding to the captured\u001B[0m\u001B[1;33m\u001B[0m\u001B[1;33m\u001B[0m\u001B[1;33m\u001B[0m\u001B[0m\n",
      "\u001B[1;32mE:\\Tools\\Anaconda\\envs\\TF2.1\\lib\\site-packages\\tensorflow_core\\python\\framework\\func_graph.py\u001B[0m in \u001B[0;36mfunc_graph_from_py_func\u001B[1;34m(name, python_func, args, kwargs, signature, func_graph, autograph, autograph_options, add_control_dependencies, arg_names, op_return_value, collections, capture_by_value, override_flat_arg_shapes)\u001B[0m\n\u001B[0;32m    976\u001B[0m                                           converted_func)\n\u001B[0;32m    977\u001B[0m \u001B[1;33m\u001B[0m\u001B[0m\n\u001B[1;32m--> 978\u001B[1;33m       \u001B[0mfunc_outputs\u001B[0m \u001B[1;33m=\u001B[0m \u001B[0mpython_func\u001B[0m\u001B[1;33m(\u001B[0m\u001B[1;33m*\u001B[0m\u001B[0mfunc_args\u001B[0m\u001B[1;33m,\u001B[0m \u001B[1;33m**\u001B[0m\u001B[0mfunc_kwargs\u001B[0m\u001B[1;33m)\u001B[0m\u001B[1;33m\u001B[0m\u001B[1;33m\u001B[0m\u001B[0m\n\u001B[0m\u001B[0;32m    979\u001B[0m \u001B[1;33m\u001B[0m\u001B[0m\n\u001B[0;32m    980\u001B[0m       \u001B[1;31m# invariant: `func_outputs` contains only Tensors, CompositeTensors,\u001B[0m\u001B[1;33m\u001B[0m\u001B[1;33m\u001B[0m\u001B[1;33m\u001B[0m\u001B[0m\n",
      "\u001B[1;32mE:\\Tools\\Anaconda\\envs\\TF2.1\\lib\\site-packages\\tensorflow_core\\python\\ops\\while_v2.py\u001B[0m in \u001B[0;36m<lambda>\u001B[1;34m(*args)\u001B[0m\n\u001B[0;32m    595\u001B[0m   grad_func_graph = func_graph_module.func_graph_from_py_func(\n\u001B[0;32m    596\u001B[0m       \u001B[0mname\u001B[0m\u001B[1;33m,\u001B[0m\u001B[1;33m\u001B[0m\u001B[1;33m\u001B[0m\u001B[0m\n\u001B[1;32m--> 597\u001B[1;33m       \u001B[1;32mlambda\u001B[0m \u001B[1;33m*\u001B[0m\u001B[0margs\u001B[0m\u001B[1;33m:\u001B[0m \u001B[0m_grad_fn\u001B[0m\u001B[1;33m(\u001B[0m\u001B[0mys\u001B[0m\u001B[1;33m,\u001B[0m \u001B[0mxs\u001B[0m\u001B[1;33m,\u001B[0m \u001B[0margs\u001B[0m\u001B[1;33m,\u001B[0m \u001B[0mbody_graph\u001B[0m\u001B[1;33m)\u001B[0m\u001B[1;33m,\u001B[0m\u001B[1;33m\u001B[0m\u001B[1;33m\u001B[0m\u001B[0m\n\u001B[0m\u001B[0;32m    598\u001B[0m       \u001B[0margs\u001B[0m\u001B[1;33m,\u001B[0m \u001B[1;33m{\u001B[0m\u001B[1;33m}\u001B[0m\u001B[1;33m,\u001B[0m\u001B[1;33m\u001B[0m\u001B[1;33m\u001B[0m\u001B[0m\n\u001B[0;32m    599\u001B[0m       func_graph=_WhileBodyGradFuncGraph(name, cond_graph, body_graph,\n",
      "\u001B[1;32mE:\\Tools\\Anaconda\\envs\\TF2.1\\lib\\site-packages\\tensorflow_core\\python\\ops\\while_v2.py\u001B[0m in \u001B[0;36m_grad_fn\u001B[1;34m(ys, xs, args, func_graph)\u001B[0m\n\u001B[0;32m    655\u001B[0m   grad_outs = gradients_util._GradientsHelper(\n\u001B[0;32m    656\u001B[0m       \u001B[0mys\u001B[0m\u001B[1;33m,\u001B[0m \u001B[0mxs\u001B[0m\u001B[1;33m,\u001B[0m \u001B[0mgrad_ys\u001B[0m\u001B[1;33m=\u001B[0m\u001B[0mgrad_ys\u001B[0m\u001B[1;33m,\u001B[0m \u001B[0msrc_graph\u001B[0m\u001B[1;33m=\u001B[0m\u001B[0mfunc_graph\u001B[0m\u001B[1;33m,\u001B[0m\u001B[1;33m\u001B[0m\u001B[1;33m\u001B[0m\u001B[0m\n\u001B[1;32m--> 657\u001B[1;33m       unconnected_gradients=\"zero\")\n\u001B[0m\u001B[0;32m    658\u001B[0m \u001B[1;33m\u001B[0m\u001B[0m\n\u001B[0;32m    659\u001B[0m   \u001B[1;31m# TODO(b/118712257): Handle the case when grad_outs has None's e.g. when there\u001B[0m\u001B[1;33m\u001B[0m\u001B[1;33m\u001B[0m\u001B[1;33m\u001B[0m\u001B[0m\n",
      "\u001B[1;32mE:\\Tools\\Anaconda\\envs\\TF2.1\\lib\\site-packages\\tensorflow_core\\python\\ops\\gradients_util.py\u001B[0m in \u001B[0;36m_GradientsHelper\u001B[1;34m(ys, xs, grad_ys, name, colocate_gradients_with_ops, gate_gradients, aggregation_method, stop_gradients, unconnected_gradients, src_graph)\u001B[0m\n\u001B[0;32m    667\u001B[0m                 \u001B[1;31m# functions.\u001B[0m\u001B[1;33m\u001B[0m\u001B[1;33m\u001B[0m\u001B[1;33m\u001B[0m\u001B[0m\n\u001B[0;32m    668\u001B[0m                 in_grads = _MaybeCompile(grad_scope, op, func_call,\n\u001B[1;32m--> 669\u001B[1;33m                                          lambda: grad_fn(op, *out_grads))\n\u001B[0m\u001B[0;32m    670\u001B[0m               \u001B[1;32melse\u001B[0m\u001B[1;33m:\u001B[0m\u001B[1;33m\u001B[0m\u001B[1;33m\u001B[0m\u001B[0m\n\u001B[0;32m    671\u001B[0m                 \u001B[1;31m# For function call ops, we add a 'SymbolicGradient'\u001B[0m\u001B[1;33m\u001B[0m\u001B[1;33m\u001B[0m\u001B[1;33m\u001B[0m\u001B[0m\n",
      "\u001B[1;32mE:\\Tools\\Anaconda\\envs\\TF2.1\\lib\\site-packages\\tensorflow_core\\python\\ops\\gradients_util.py\u001B[0m in \u001B[0;36m_MaybeCompile\u001B[1;34m(scope, op, func, grad_fn)\u001B[0m\n\u001B[0;32m    334\u001B[0m       \u001B[0mxla_scope\u001B[0m \u001B[1;33m=\u001B[0m \u001B[0mop\u001B[0m\u001B[1;33m.\u001B[0m\u001B[0mget_attr\u001B[0m\u001B[1;33m(\u001B[0m\u001B[1;34m\"_XlaScope\"\u001B[0m\u001B[1;33m)\u001B[0m\u001B[1;33m.\u001B[0m\u001B[0mdecode\u001B[0m\u001B[1;33m(\u001B[0m\u001B[1;33m)\u001B[0m\u001B[1;33m\u001B[0m\u001B[1;33m\u001B[0m\u001B[0m\n\u001B[0;32m    335\u001B[0m     \u001B[1;32mexcept\u001B[0m \u001B[0mValueError\u001B[0m\u001B[1;33m:\u001B[0m\u001B[1;33m\u001B[0m\u001B[1;33m\u001B[0m\u001B[0m\n\u001B[1;32m--> 336\u001B[1;33m       \u001B[1;32mreturn\u001B[0m \u001B[0mgrad_fn\u001B[0m\u001B[1;33m(\u001B[0m\u001B[1;33m)\u001B[0m  \u001B[1;31m# Exit early\u001B[0m\u001B[1;33m\u001B[0m\u001B[1;33m\u001B[0m\u001B[0m\n\u001B[0m\u001B[0;32m    337\u001B[0m \u001B[1;33m\u001B[0m\u001B[0m\n\u001B[0;32m    338\u001B[0m   \u001B[1;32mif\u001B[0m \u001B[1;32mnot\u001B[0m \u001B[0mxla_compile\u001B[0m\u001B[1;33m:\u001B[0m\u001B[1;33m\u001B[0m\u001B[1;33m\u001B[0m\u001B[0m\n",
      "\u001B[1;32mE:\\Tools\\Anaconda\\envs\\TF2.1\\lib\\site-packages\\tensorflow_core\\python\\ops\\gradients_util.py\u001B[0m in \u001B[0;36m<lambda>\u001B[1;34m()\u001B[0m\n\u001B[0;32m    667\u001B[0m                 \u001B[1;31m# functions.\u001B[0m\u001B[1;33m\u001B[0m\u001B[1;33m\u001B[0m\u001B[1;33m\u001B[0m\u001B[0m\n\u001B[0;32m    668\u001B[0m                 in_grads = _MaybeCompile(grad_scope, op, func_call,\n\u001B[1;32m--> 669\u001B[1;33m                                          lambda: grad_fn(op, *out_grads))\n\u001B[0m\u001B[0;32m    670\u001B[0m               \u001B[1;32melse\u001B[0m\u001B[1;33m:\u001B[0m\u001B[1;33m\u001B[0m\u001B[1;33m\u001B[0m\u001B[0m\n\u001B[0;32m    671\u001B[0m                 \u001B[1;31m# For function call ops, we add a 'SymbolicGradient'\u001B[0m\u001B[1;33m\u001B[0m\u001B[1;33m\u001B[0m\u001B[1;33m\u001B[0m\u001B[0m\n",
      "\u001B[1;32mE:\\Tools\\Anaconda\\envs\\TF2.1\\lib\\site-packages\\tensorflow_core\\python\\ops\\list_ops.py\u001B[0m in \u001B[0;36m_PopBackGrad\u001B[1;34m(op, dlist, delement)\u001B[0m\n\u001B[0;32m    187\u001B[0m         element_shape=gen_list_ops.tensor_list_element_shape(\n\u001B[0;32m    188\u001B[0m             op.outputs[0], shape_type=dtypes.int32))\n\u001B[1;32m--> 189\u001B[1;33m   \u001B[1;32mreturn\u001B[0m \u001B[0mgen_list_ops\u001B[0m\u001B[1;33m.\u001B[0m\u001B[0mtensor_list_push_back\u001B[0m\u001B[1;33m(\u001B[0m\u001B[0mdlist\u001B[0m\u001B[1;33m,\u001B[0m \u001B[0mdelement\u001B[0m\u001B[1;33m)\u001B[0m\u001B[1;33m,\u001B[0m \u001B[1;32mNone\u001B[0m\u001B[1;33m\u001B[0m\u001B[1;33m\u001B[0m\u001B[0m\n\u001B[0m\u001B[0;32m    190\u001B[0m \u001B[1;33m\u001B[0m\u001B[0m\n\u001B[0;32m    191\u001B[0m \u001B[1;33m\u001B[0m\u001B[0m\n",
      "\u001B[1;32mE:\\Tools\\Anaconda\\envs\\TF2.1\\lib\\site-packages\\tensorflow_core\\python\\ops\\gen_list_ops.py\u001B[0m in \u001B[0;36mtensor_list_push_back\u001B[1;34m(input_handle, tensor, name)\u001B[0m\n\u001B[0;32m    761\u001B[0m   _, _, _op, _outputs = _op_def_library._apply_op_helper(\n\u001B[0;32m    762\u001B[0m         \u001B[1;34m\"TensorListPushBack\"\u001B[0m\u001B[1;33m,\u001B[0m \u001B[0minput_handle\u001B[0m\u001B[1;33m=\u001B[0m\u001B[0minput_handle\u001B[0m\u001B[1;33m,\u001B[0m \u001B[0mtensor\u001B[0m\u001B[1;33m=\u001B[0m\u001B[0mtensor\u001B[0m\u001B[1;33m,\u001B[0m\u001B[1;33m\u001B[0m\u001B[1;33m\u001B[0m\u001B[0m\n\u001B[1;32m--> 763\u001B[1;33m                               name=name)\n\u001B[0m\u001B[0;32m    764\u001B[0m   \u001B[0m_result\u001B[0m \u001B[1;33m=\u001B[0m \u001B[0m_outputs\u001B[0m\u001B[1;33m[\u001B[0m\u001B[1;33m:\u001B[0m\u001B[1;33m]\u001B[0m\u001B[1;33m\u001B[0m\u001B[1;33m\u001B[0m\u001B[0m\n\u001B[0;32m    765\u001B[0m   \u001B[1;32mif\u001B[0m \u001B[0m_execute\u001B[0m\u001B[1;33m.\u001B[0m\u001B[0mmust_record_gradient\u001B[0m\u001B[1;33m(\u001B[0m\u001B[1;33m)\u001B[0m\u001B[1;33m:\u001B[0m\u001B[1;33m\u001B[0m\u001B[1;33m\u001B[0m\u001B[0m\n",
      "\u001B[1;32mE:\\Tools\\Anaconda\\envs\\TF2.1\\lib\\site-packages\\tensorflow_core\\python\\framework\\op_def_library.py\u001B[0m in \u001B[0;36m_apply_op_helper\u001B[1;34m(op_type_name, name, **keywords)\u001B[0m\n\u001B[0;32m    484\u001B[0m             raise ValueError(\n\u001B[0;32m    485\u001B[0m                 \u001B[1;34m\"Tried to convert '%s' to a tensor and failed. Error: %s\"\u001B[0m \u001B[1;33m%\u001B[0m\u001B[1;33m\u001B[0m\u001B[1;33m\u001B[0m\u001B[0m\n\u001B[1;32m--> 486\u001B[1;33m                 (input_name, err))\n\u001B[0m\u001B[0;32m    487\u001B[0m           prefix = (\"Input '%s' of '%s' Op has type %s that does not match\" %\n\u001B[0;32m    488\u001B[0m                     (input_name, op_type_name, observed))\n",
      "\u001B[1;31mValueError\u001B[0m: Tried to convert 'tensor' to a tensor and failed. Error: None values not supported."
     ]
    }
   ],
   "source": [
    "from tensorflow_addons.text import crf\n",
    "\n",
    "vocab_size = 10000\n",
    "embedding_dim = 5\n",
    "model = keras.Sequential([\n",
    "    layers.Embedding(vocab_size, embedding_dim),\n",
    "    # layers.GlobalAveragePooling1D(),\n",
    "    # layers.Dense(160, activation='relu'),\n",
    "    # layers.Dense(1, activation='sigmoid')\n",
    "    # layers.Dense(160, activation='relu'),\n",
    "    layers.Bidirectional(layers.LSTM(2,return_sequences=True)),\n",
    "    layers.Dense(2)\n",
    "])\n",
    "model.compile(optimizer=keras.optimizers.Adam(),\n",
    "             loss=keras.losses.BinaryCrossentropy(),\n",
    "             metrics=['accuracy'])\n",
    "x = [[1,2,3,4,5],[5,4,3,2,1]]\n",
    "y = [[1,1,1,1,0],[1,1,1,1,1]]\n",
    "lens = [5,5]\n",
    "x = tf.constant(x)\n",
    "y = tf.constant(y)\n",
    "# lens = tf.constant(lens)\n",
    "# opt = keras.optimizers.Adam()\n",
    "with tf.GradientTape(persistent=True) as tape:\n",
    "    z = model.predict(x)\n",
    "    loss,transparam = crf.crf_log_likelihood(z,y,lens)\n",
    "    # loss = tf.reduce_mean(loss)\n",
    "grads1 = tape.gradient(loss,model.variables)\n",
    "# grads2 = tape.gradient(loss,transparam)\n",
    "# opt.apply_gradients(zip(grads1,model.variables))\n",
    "# opt.apply_gradients(zip(grads2,transparam))\n"
   ],
   "metadata": {
    "collapsed": false,
    "pycharm": {
     "name": "#%%\n"
    }
   }
  },
  {
   "cell_type": "code",
   "execution_count": 37,
   "outputs": [
    {
     "name": "stdout",
     "output_type": "stream",
     "text": [
      "[<tf.Tensor: shape=(), dtype=float32, numpy=54.0>, <tf.Tensor: shape=(), dtype=float32, numpy=72.0>]\n"
     ]
    }
   ],
   "source": [
    "x =tf.Variable(initial_value=2.)\n",
    "y=tf.Variable(initial_value=3.)\n",
    "with tf.GradientTape() as tape:\n",
    "    z = 6*x\n",
    "    p = z*y**2\n",
    "grads = tape.gradient(p,[x,y])\n",
    "print(grads)"
   ],
   "metadata": {
    "collapsed": false,
    "pycharm": {
     "name": "#%%\n"
    }
   }
  },
  {
   "cell_type": "code",
   "execution_count": 1,
   "outputs": [
    {
     "name": "stderr",
     "output_type": "stream",
     "text": [
      "E:\\Tools\\Anaconda\\envs\\TF2.1\\lib\\site-packages\\requests\\__init__.py:91: RequestsDependencyWarning: urllib3 (1.26.2) or chardet (4.0.0) doesn't match a supported version!\n",
      "  RequestsDependencyWarning)\n"
     ]
    },
    {
     "data": {
      "text/plain": "True"
     },
     "execution_count": 1,
     "metadata": {},
     "output_type": "execute_result"
    }
   ],
   "source": [
    "import numpy as np\n",
    "import tensorflow as tf\n",
    "import tensorflow.keras as keras\n",
    "import tensorflow.keras.layers as layers\n",
    "from tensorflow_addons.text import crf\n",
    "\n",
    "tf.test.is_built_with_cuda()"
   ],
   "metadata": {
    "collapsed": false,
    "pycharm": {
     "name": "#%%\n"
    }
   }
  },
  {
   "cell_type": "code",
   "execution_count": null,
   "outputs": [],
   "source": [
    "score = [[\n",
    "    [1, 2, 3],\n",
    "    [2, 1, 3],\n",
    "    [1, 3, 2],\n",
    "    [3, 2, 1],\n",
    "    [1,1,1],\n",
    "\n",
    "]]  # (batch_size, time_step, num_tabs)\n",
    "transition = [\n",
    "    [2, 1, 3],\n",
    "    [1, 3, 2],\n",
    "    [3, 2, 1]\n",
    "]   # (num_tabs, num_tabs)\n",
    "lengths = [3]   # (batch_size, time_step)\n",
    "\n",
    "score_t         = tf.constant(score, dtype=tf.int64)\n",
    "transition_t    = tf.constant(transition, dtype=tf.int64)\n",
    "lengths_t       = tf.constant(lengths, dtype=tf.int64)\n",
    "\n",
    "# r1 = crf.crf_decode(score1,m,ls)\n",
    "r2 = crf.crf_decode(\n",
    "    potentials=score_t,\n",
    "    transition_params=transition_t,\n",
    "    sequence_length=[4])\n",
    "r3 = crf.viterbi_decode(np.array(score[0]),np.array(transition))\n",
    "# r4 = crf.viterbi_decode(score2,m)\n",
    "# print(r1)\n",
    "print(r2)\n",
    "print(r3)\n",
    "# print(r4)\n",
    "s = tf.required_space_to_batch_paddings"
   ],
   "metadata": {
    "collapsed": false,
    "pycharm": {
     "name": "#%%\n"
    }
   }
  },
  {
   "cell_type": "code",
   "execution_count": 33,
   "outputs": [
    {
     "ename": "TypeError",
     "evalue": "can only concatenate list (not \"int\") to list",
     "output_type": "error",
     "traceback": [
      "\u001B[1;31m---------------------------------------------------------------------------\u001B[0m",
      "\u001B[1;31mTypeError\u001B[0m                                 Traceback (most recent call last)",
      "\u001B[1;32m<ipython-input-33-80c9ff9b87f3>\u001B[0m in \u001B[0;36m<module>\u001B[1;34m\u001B[0m\n\u001B[0;32m      1\u001B[0m \u001B[0ms\u001B[0m \u001B[1;33m=\u001B[0m \u001B[1;33m[\u001B[0m\u001B[1;33m[\u001B[0m\u001B[1;36m1\u001B[0m\u001B[1;33m,\u001B[0m\u001B[1;36m2\u001B[0m\u001B[1;33m,\u001B[0m\u001B[1;36m3\u001B[0m\u001B[1;33m]\u001B[0m\u001B[1;33m,\u001B[0m\u001B[1;33m[\u001B[0m\u001B[1;36m4\u001B[0m\u001B[1;33m,\u001B[0m\u001B[1;36m5\u001B[0m\u001B[1;33m,\u001B[0m\u001B[1;36m6\u001B[0m\u001B[1;33m,\u001B[0m\u001B[1;36m7\u001B[0m\u001B[1;33m]\u001B[0m\u001B[1;33m,\u001B[0m\u001B[1;33m[\u001B[0m\u001B[1;36m1\u001B[0m\u001B[1;33m,\u001B[0m\u001B[1;36m2\u001B[0m\u001B[1;33m,\u001B[0m\u001B[1;36m3\u001B[0m\u001B[1;33m,\u001B[0m\u001B[1;36m4\u001B[0m\u001B[1;33m,\u001B[0m\u001B[1;36m5\u001B[0m\u001B[1;33m,\u001B[0m\u001B[1;36m6\u001B[0m\u001B[1;33m,\u001B[0m\u001B[1;36m7\u001B[0m\u001B[1;33m,\u001B[0m\u001B[1;36m8\u001B[0m\u001B[1;33m,\u001B[0m\u001B[1;36m9\u001B[0m\u001B[1;33m]\u001B[0m\u001B[1;33m]\u001B[0m\u001B[1;33m\u001B[0m\u001B[1;33m\u001B[0m\u001B[0m\n\u001B[0;32m      2\u001B[0m \u001B[0mls\u001B[0m \u001B[1;33m=\u001B[0m \u001B[1;33m[\u001B[0m\u001B[1;36m3\u001B[0m\u001B[1;33m,\u001B[0m\u001B[1;36m4\u001B[0m\u001B[1;33m,\u001B[0m\u001B[1;36m9\u001B[0m\u001B[1;33m]\u001B[0m\u001B[1;33m\u001B[0m\u001B[1;33m\u001B[0m\u001B[0m\n\u001B[1;32m----> 3\u001B[1;33m \u001B[0mprint\u001B[0m\u001B[1;33m(\u001B[0m\u001B[0mls\u001B[0m \u001B[1;33m+\u001B[0m\u001B[1;36m1\u001B[0m\u001B[1;33m)\u001B[0m\u001B[1;33m\u001B[0m\u001B[1;33m\u001B[0m\u001B[0m\n\u001B[0m\u001B[0;32m      4\u001B[0m \u001B[0mp\u001B[0m \u001B[1;33m=\u001B[0m \u001B[0mkeras\u001B[0m\u001B[1;33m.\u001B[0m\u001B[0mpreprocessing\u001B[0m\u001B[1;33m.\u001B[0m\u001B[0msequence\u001B[0m\u001B[1;33m.\u001B[0m\u001B[0mpad_sequences\u001B[0m\u001B[1;33m(\u001B[0m\u001B[0ms\u001B[0m\u001B[1;33m,\u001B[0m\u001B[0mpadding\u001B[0m\u001B[1;33m=\u001B[0m\u001B[1;34m'post'\u001B[0m\u001B[1;33m,\u001B[0m\u001B[0mvalue\u001B[0m\u001B[1;33m=\u001B[0m\u001B[1;36m0\u001B[0m\u001B[1;33m,\u001B[0m\u001B[0mtruncating\u001B[0m\u001B[1;33m=\u001B[0m\u001B[1;34m'post'\u001B[0m\u001B[1;33m)\u001B[0m\u001B[1;33m\u001B[0m\u001B[1;33m\u001B[0m\u001B[0m\n\u001B[0;32m      5\u001B[0m \u001B[0mp\u001B[0m \u001B[1;33m=\u001B[0m \u001B[0mkeras\u001B[0m\u001B[1;33m.\u001B[0m\u001B[0mpreprocessing\u001B[0m\u001B[1;33m.\u001B[0m\u001B[0msequence\u001B[0m\u001B[1;33m.\u001B[0m\u001B[0mpad_sequences\u001B[0m\u001B[1;33m(\u001B[0m\u001B[0mpadding\u001B[0m\u001B[1;33m=\u001B[0m\u001B[1;34m'post'\u001B[0m\u001B[1;33m,\u001B[0m\u001B[0mvalue\u001B[0m\u001B[1;33m=\u001B[0m\u001B[1;36m0\u001B[0m\u001B[1;33m,\u001B[0m\u001B[0mtruncating\u001B[0m\u001B[1;33m=\u001B[0m\u001B[1;34m'post'\u001B[0m\u001B[1;33m)\u001B[0m\u001B[1;33m\u001B[0m\u001B[1;33m\u001B[0m\u001B[0m\n",
      "\u001B[1;31mTypeError\u001B[0m: can only concatenate list (not \"int\") to list"
     ]
    }
   ],
   "source": [
    "s = [[1,2,3],[4,5,6,7],[1,2,3,4,5,6,7,8,9]]\n",
    "ls = [3,4,9]\n",
    "print(ls +1)\n",
    "p = keras.preprocessing.sequence.pad_sequences(s,padding='post',value=0,truncating='post')\n",
    "p = keras.preprocessing.sequence.pad_sequences(padding='post',value=0,truncating='post')\n",
    "print(p)"
   ],
   "metadata": {
    "collapsed": false,
    "pycharm": {
     "name": "#%%\n"
    }
   }
  },
  {
   "cell_type": "code",
   "execution_count": null,
   "outputs": [],
   "source": [],
   "metadata": {
    "collapsed": false,
    "pycharm": {
     "name": "#%%\n"
    }
   }
  }
 ],
 "metadata": {
  "kernelspec": {
   "name": "pycharm-d4890afa",
   "language": "python",
   "display_name": "PyCharm (TFtest)"
  },
  "language_info": {
   "codemirror_mode": {
    "name": "ipython",
    "version": 2
   },
   "file_extension": ".py",
   "mimetype": "text/x-python",
   "name": "python",
   "nbconvert_exporter": "python",
   "pygments_lexer": "ipython2",
   "version": "2.7.6"
  }
 },
 "nbformat": 4,
 "nbformat_minor": 0
}