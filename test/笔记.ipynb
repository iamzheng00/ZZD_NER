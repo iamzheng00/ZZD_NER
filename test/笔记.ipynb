{
 "cells": [
  {
   "cell_type": "code",
   "execution_count": 13,
   "metadata": {
    "collapsed": true
   },
   "outputs": [
    {
     "name": "stdout",
     "output_type": "stream",
     "text": [
      "F:\\zzd\\毕业论文\\论文代码\n",
      "test\n"
     ]
    }
   ],
   "source": [
    "import os\n",
    "# !!! os模块无复制文件\n",
    "# shutil 模块 提供了 copyfile()函数 是os模块的补充\n",
    "\n",
    "# os.environ.get('PATH')\n",
    "# os.path.abspath('.')\n",
    "# os.rmdir('F:\\\\zzd\\\\毕业论文\\\\论文代码\\\\test\\\\123')\n",
    "path = os.path.join('F:/zzd/毕业论文/论文代码/test', '123')\n",
    "a, b = os.path.split('F:\\\\zzd\\\\毕业论文\\\\论文代码\\\\test')\n",
    "print(a)\n",
    "print(b)\n",
    "\n",
    "# 列出当前目录下的所有目录\n",
    "X = [x for x in os.listdir('.') if os.path.isdir(x)]\n",
    "# 要列出所有的.py文件\n",
    "Y = [x for x in os.listdir('.') if os.path.isfile(x) and os.path.splitext(x)=='.py']\n"
   ]
  },
  {
   "cell_type": "code",
   "execution_count": 2,
   "outputs": [
    {
     "ename": "AttributeError",
     "evalue": "module 'os' has no attribute 'uname'",
     "output_type": "error",
     "traceback": [
      "\u001B[1;31m---------------------------------------------------------------------------\u001B[0m",
      "\u001B[1;31mAttributeError\u001B[0m                            Traceback (most recent call last)",
      "\u001B[1;32m<ipython-input-2-dc3d352b2d7d>\u001B[0m in \u001B[0;36m<module>\u001B[1;34m\u001B[0m\n\u001B[1;32m----> 1\u001B[1;33m \u001B[0mos\u001B[0m\u001B[1;33m.\u001B[0m\u001B[0muname\u001B[0m\u001B[1;33m(\u001B[0m\u001B[1;33m)\u001B[0m\u001B[1;33m\u001B[0m\u001B[1;33m\u001B[0m\u001B[0m\n\u001B[0m",
      "\u001B[1;31mAttributeError\u001B[0m: module 'os' has no attribute 'uname'"
     ]
    }
   ],
   "source": [],
   "metadata": {
    "collapsed": false,
    "pycharm": {
     "name": "#%%\n"
    }
   }
  },
  {
   "cell_type": "code",
   "execution_count": null,
   "outputs": [],
   "source": [],
   "metadata": {
    "collapsed": false,
    "pycharm": {
     "name": "#%%\n"
    }
   }
  }
 ],
 "metadata": {
  "kernelspec": {
   "name": "pycharm-2cf62438",
   "language": "python",
   "display_name": "PyCharm (PYlearning)"
  },
  "language_info": {
   "codemirror_mode": {
    "name": "ipython",
    "version": 2
   },
   "file_extension": ".py",
   "mimetype": "text/x-python",
   "name": "python",
   "nbconvert_exporter": "python",
   "pygments_lexer": "ipython2",
   "version": "2.7.6"
  }
 },
 "nbformat": 4,
 "nbformat_minor": 0
}