{
 "cells": [
  {
   "cell_type": "code",
   "execution_count": 1,
   "metadata": {
    "collapsed": true
   },
   "outputs": [
    {
     "name": "stdout",
     "output_type": "stream",
     "text": [
      "F:\\zzd\\毕业论文\\论文代码\n",
      "test\n"
     ]
    }
   ],
   "source": [
    "import os\n",
    "# !!! os模块无复制文件\n",
    "# shutil 模块 提供了 copyfile()函数 是os模块的补充\n",
    "\n",
    "# os.environ.get('PATH')\n",
    "# os.path.abspath('.')\n",
    "# os.rmdir('F:\\\\zzd\\\\毕业论文\\\\论文代码\\\\test\\\\123')\n",
    "path = os.path.join('F:/zzd/毕业论文/论文代码/test', '123')\n",
    "a, b = os.path.split('F:\\\\zzd\\\\毕业论文\\\\论文代码\\\\test')\n",
    "print(a)\n",
    "print(b)\n",
    "\n",
    "# 列出当前目录下的所有目录\n",
    "X = [x for x in os.listdir('.') if os.path.isdir(x)]\n",
    "# 要列出所有的.py文件\n",
    "Y = [x for x in os.listdir('.') if os.path.isfile(x) and os.path.splitext(x)=='.py']\n",
    "\n",
    "def a():\n",
    "    for"
   ]
  },
  {
   "cell_type": "code",
   "execution_count": 2,
   "outputs": [
    {
     "name": "stdout",
     "output_type": "stream",
     "text": [
      "True\n"
     ]
    }
   ],
   "source": [
    "text = \"人们 通过经验总结出了规律:通过测量花的花曹长、花尊宽、花瓣长、花瓣宽，可以得出鸢尾花\" \\\n",
    "       \"的类别。(如:花萼长>花尊宽且花瓣长花瓣宽>2则为1杂色鸢尾)\"\n",
    "print(text[2].isspace())"
   ],
   "metadata": {
    "collapsed": false,
    "pycharm": {
     "name": "#%%\n"
    }
   }
  },
  {
   "cell_type": "code",
   "execution_count": 2,
   "outputs": [],
   "source": [],
   "metadata": {
    "collapsed": false,
    "pycharm": {
     "name": "#%%\n"
    }
   }
  }
 ],
 "metadata": {
  "kernelspec": {
   "name": "pycharm-2cf62438",
   "language": "python",
   "display_name": "PyCharm (PYlearning)"
  },
  "language_info": {
   "codemirror_mode": {
    "name": "ipython",
    "version": 2
   },
   "file_extension": ".py",
   "mimetype": "text/x-python",
   "name": "python",
   "nbconvert_exporter": "python",
   "pygments_lexer": "ipython2",
   "version": "2.7.6"
  }
 },
 "nbformat": 4,
 "nbformat_minor": 0
}